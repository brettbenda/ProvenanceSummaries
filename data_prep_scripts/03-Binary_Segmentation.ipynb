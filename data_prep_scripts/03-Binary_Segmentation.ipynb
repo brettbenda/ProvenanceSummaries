{
 "cells": [
  {
   "cell_type": "markdown",
   "id": "e6c4efbc",
   "metadata": {},
   "source": [
    "# Binary Segmentation - converts a frequency histogram CSV into time segments"
   ]
  },
  {
   "cell_type": "code",
   "execution_count": 1,
   "id": "6d93cd85",
   "metadata": {},
   "outputs": [],
   "source": [
    "### Import necessary modules\n",
    "import numpy as np\n",
    "import matplotlib.pylab as plt\n",
    "import ruptures as rpt\n",
    "import os\n",
    "import csv"
   ]
  },
  {
   "cell_type": "code",
   "execution_count": 2,
   "id": "8e0a10d3",
   "metadata": {},
   "outputs": [],
   "source": [
    "##### Set parameters\n",
    "PID = 'p8'\n",
    "dataset = '4'\n",
    "\n",
    "n, dim = 500, 3  # number of samples\n",
    "n_bkps, sigma = 3, 5  # number of change points, noise standard deviation\n",
    "signal, bkps = rpt.pw_constant(n, dim, n_bkps, noise_std=sigma)"
   ]
  },
  {
   "cell_type": "code",
   "execution_count": 3,
   "id": "cf3fbbb9",
   "metadata": {},
   "outputs": [
    {
     "name": "stdout",
     "output_type": "stream",
     "text": [
      "(116, 49331)\n"
     ]
    }
   ],
   "source": [
    "### Open file\n",
    "file = open(\"../data/Dataset_\" + dataset + \"/User Words/\" + PID + \".csv\")\n",
    "#load in the words CSV, but \n",
    "#drop the header row, we don't\n",
    "#care about the word iteslf, \n",
    "#just the likelihood of finding \n",
    "#the word in a document.\n",
    "signal = np.loadtxt(file, delimiter=\",\",skiprows=1) \n",
    "print(np.shape(signal))\n",
    "#(numEvents, numWordsInVocab)"
   ]
  },
  {
   "cell_type": "code",
   "execution_count": 4,
   "id": "7cde2864-2b01-48bd-b783-b7dc13e03021",
   "metadata": {},
   "outputs": [
    {
     "name": "stdout",
     "output_type": "stream",
     "text": [
      "segmenting into 11 segments\n"
     ]
    }
   ],
   "source": [
    "#Arbitrary breakpoint adjustment function. Could be modified in future\n",
    "if (len(signal[0]) > 500 ):\n",
    "    number_of_breakpoints = 11\n",
    "elif (len(signal[0]) > 100): \n",
    "    number_of_breakpoints = 6\n",
    "else:\n",
    "    number_of_breakpoints = 3\n",
    "print(\"segmenting into\",number_of_breakpoints,\"segments\")"
   ]
  },
  {
   "cell_type": "code",
   "execution_count": 5,
   "id": "1e1818d7",
   "metadata": {},
   "outputs": [
    {
     "name": "stdout",
     "output_type": "stream",
     "text": [
      "[3, 7, 19, 40, 43, 54, 56, 66, 69, 95, 103, 116]\n"
     ]
    }
   ],
   "source": [
    "### Generate segments\n",
    "# change point detection\n",
    "model = \"l2\"  # \"l1\", \"rbf\", \"linear\", \"normal\", \"ar\"\n",
    "algo = rpt.Binseg(model=model, jump=1).fit(signal)\n",
    "my_bkps = algo.predict(n_bkps=number_of_breakpoints)\n",
    "\n",
    "# show results\n",
    "print(my_bkps)"
   ]
  },
  {
   "cell_type": "code",
   "execution_count": 6,
   "id": "2178d77b",
   "metadata": {},
   "outputs": [
    {
     "name": "stdout",
     "output_type": "stream",
     "text": [
      "[13054.0, 59522.0, 148394.0, 213327.0, 239392.0, 279026.0, 325390.0, 389886.0, 427956.0, 488727.0, 573082.0, 632381.0]\n"
     ]
    }
   ],
   "source": [
    "### Convert breakpoint indices into times:\n",
    "timeArr = []\n",
    "for bkp in my_bkps:\n",
    "    #go to the signal matrix, and pull the value from the first column (time of event) and append to timeArr\n",
    "    timeArr.append(signal[bkp-1][0] / 10)\n",
    "print(timeArr)"
   ]
  },
  {
   "cell_type": "code",
   "execution_count": 8,
   "id": "92466509",
   "metadata": {},
   "outputs": [],
   "source": [
    "### Export segments to CSV\n",
    "startText = ['Arms', 'Terrorist', 'Disappearance', 'Panda']\n",
    "outFilename = '../data/Dataset_' + dataset + '/Segmentation/' + startText[int(dataset) - 1] + '_P' + PID[1] + '_'+str(number_of_breakpoints)+'_Prov_Segments.csv'\n",
    "os.makedirs(os.path.dirname(outFilename), exist_ok=True)\n",
    "f = open(outFilename, 'w', newline='')\n",
    "\n",
    "writer = csv.writer(f)\n",
    "header = ['id', 'start', 'end', 'length','bkps']\n",
    "writer.writerow(header)\n",
    "\n",
    "row = [0, 0, timeArr[0], timeArr[0], my_bkps[0]]\n",
    "writer.writerow(row)\n",
    "for i in range(1,number_of_breakpoints):\n",
    "    row = [i, timeArr[i-1], timeArr[i], timeArr[i] - timeArr[i-1],my_bkps[i]]\n",
    "    writer.writerow(row)\n",
    "f.close()\n"
   ]
  },
  {
   "cell_type": "code",
   "execution_count": null,
   "id": "1589b7cc",
   "metadata": {},
   "outputs": [],
   "source": []
  }
 ],
 "metadata": {
  "kernelspec": {
   "display_name": "Python 3 (ipykernel)",
   "language": "python",
   "name": "python3"
  },
  "language_info": {
   "codemirror_mode": {
    "name": "ipython",
    "version": 3
   },
   "file_extension": ".py",
   "mimetype": "text/x-python",
   "name": "python",
   "nbconvert_exporter": "python",
   "pygments_lexer": "ipython3",
   "version": "3.11.0"
  }
 },
 "nbformat": 4,
 "nbformat_minor": 5
}
