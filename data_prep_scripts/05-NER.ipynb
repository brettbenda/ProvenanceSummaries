{
 "cells": [
  {
   "cell_type": "markdown",
   "id": "16565eeb",
   "metadata": {},
   "source": [
    "This tutorial is based on work developed by Elizabeth Cary with Pacific Northwest National Lab.\n",
    "POC: Elizabeth Cary, elizabeth.cary@pnnl.gov\n",
    "\n",
    "# Applying NER and Coreference Resolution with spaCy and AllenNLP.\n",
    "\n",
    "\n",
    "## Load spaCy model\n",
    "[en_core_web_sm](https://spacy.io/models/en#en_core_web_sm) is typically considered spaCy's default English model and comes pre-loaded with a number of components: tok2vec, tagger, parser, senter, ner, attribute_ruler, and lemmatizer. For this demo, we'll be focusing on the NER component, though you can check out the linked documentation for more information on this model and its offerings.\n",
    "\n",
    "> Note: Take a look at the information included in the model documentation. What should we keep in mind when using this model? In particular, what type of training data was used to train these components? How will this affect how we use this model?"
   ]
  },
  {
   "cell_type": "code",
   "execution_count": 1,
   "id": "3b7a8230",
   "metadata": {},
   "outputs": [],
   "source": [
    "# Import packages\n",
    "import spacy\n",
    "nlp = spacy.load('en_core_web_sm')\n",
    "import pandas as pd\n",
    "import json\n",
    "import os"
   ]
  },
  {
   "cell_type": "code",
   "execution_count": 2,
   "id": "d8576355",
   "metadata": {},
   "outputs": [
    {
     "data": {
      "text/html": [
       "<div>\n",
       "<style scoped>\n",
       "    .dataframe tbody tr th:only-of-type {\n",
       "        vertical-align: middle;\n",
       "    }\n",
       "\n",
       "    .dataframe tbody tr th {\n",
       "        vertical-align: top;\n",
       "    }\n",
       "\n",
       "    .dataframe thead th {\n",
       "        text-align: right;\n",
       "    }\n",
       "</style>\n",
       "<table border=\"1\" class=\"dataframe\">\n",
       "  <thead>\n",
       "    <tr style=\"text-align: right;\">\n",
       "      <th></th>\n",
       "      <th>conversationTitle</th>\n",
       "      <th>conversationNumber</th>\n",
       "      <th>tapeName</th>\n",
       "      <th>startDateTime</th>\n",
       "      <th>duration</th>\n",
       "      <th>summaryURL</th>\n",
       "      <th>id</th>\n",
       "      <th>speakers</th>\n",
       "      <th>waveFileDataURL</th>\n",
       "      <th>location</th>\n",
       "      <th>uuid</th>\n",
       "      <th>contents</th>\n",
       "      <th>endDateTime</th>\n",
       "    </tr>\n",
       "  </thead>\n",
       "  <tbody>\n",
       "    <tr>\n",
       "      <th>0</th>\n",
       "      <td>rmn_e634a.mp3-008</td>\n",
       "      <td>634a-8</td>\n",
       "      <td>rmn_e634a.mp3-8</td>\n",
       "      <td>6.110280e+10</td>\n",
       "      <td>47</td>\n",
       "      <td>http://nixontapeaudio.org/logs/634.rtf</td>\n",
       "      <td>https://s3.amazonaws.com/las.public/c0JClqYx6W...</td>\n",
       "      <td>[{'name': 'Manolo Sanchez'}, {'name': 'The Pre...</td>\n",
       "      <td>https://s3.amazonaws.com/las.public/M2qMyTKx/n...</td>\n",
       "      <td>Oval Office (Room)</td>\n",
       "      <td>6f8686c7-88a7-443b-94f9-ebde59dd4473</td>\n",
       "      <td>[0:00:40] spk_0: spirit Very perceivable to br...</td>\n",
       "      <td>NaN</td>\n",
       "    </tr>\n",
       "    <tr>\n",
       "      <th>1</th>\n",
       "      <td>rmn_e621a.mp3-006</td>\n",
       "      <td>621a-6</td>\n",
       "      <td>rmn_e621a.mp3-6</td>\n",
       "      <td>5.928840e+10</td>\n",
       "      <td>84</td>\n",
       "      <td>http://nixontapeaudio.org/logs/621.rtf</td>\n",
       "      <td>https://s3.amazonaws.com/las.public/c0JClqYx6W...</td>\n",
       "      <td>[]</td>\n",
       "      <td>https://s3.amazonaws.com/las.public/M2qMyTKx/n...</td>\n",
       "      <td>Oval Office (Room)</td>\n",
       "      <td>7362635f-220b-4454-a904-21f55e506a73</td>\n",
       "      <td>[0:01:03] spk_0: Did you go over There will be...</td>\n",
       "      <td>NaN</td>\n",
       "    </tr>\n",
       "    <tr>\n",
       "      <th>2</th>\n",
       "      <td>rmn_e617b.mp3-016</td>\n",
       "      <td>617b-16</td>\n",
       "      <td>rmn_e617b.mp3-16</td>\n",
       "      <td>5.902920e+10</td>\n",
       "      <td>206</td>\n",
       "      <td>http://nixontapeaudio.org/logs/617.rtf</td>\n",
       "      <td>https://s3.amazonaws.com/las.public/c0JClqYx6W...</td>\n",
       "      <td>[{'name': 'George H. Boldt'}, {'name': 'Stephe...</td>\n",
       "      <td>https://s3.amazonaws.com/las.public/M2qMyTKx/n...</td>\n",
       "      <td>Oval Office (Room)</td>\n",
       "      <td>a7efe77a-9ba5-4c05-9272-197d6e8b7c2d</td>\n",
       "      <td>[0:01:58] spk_0: Yeah. What Yeah, yeah. Walk o...</td>\n",
       "      <td>NaN</td>\n",
       "    </tr>\n",
       "    <tr>\n",
       "      <th>3</th>\n",
       "      <td>rmn_e014a.mp3-052</td>\n",
       "      <td>14a-52</td>\n",
       "      <td>rmn_e014a.mp3-52</td>\n",
       "      <td>5.868360e+10</td>\n",
       "      <td>7</td>\n",
       "      <td>http://nixontapeaudio.org/logs/014.rtf</td>\n",
       "      <td>https://s3.amazonaws.com/las.public/c0JClqYx6W...</td>\n",
       "      <td>[{'name': 'White House operator'}, {'name': 'T...</td>\n",
       "      <td>https://s3.amazonaws.com/las.public/M2qMyTKx/n...</td>\n",
       "      <td>White House (Telephone)</td>\n",
       "      <td>8fcaf0e6-09fc-4428-941d-fbb3991621dc</td>\n",
       "      <td>[0:00:00] spk_0: I appreciate it very much. Yo...</td>\n",
       "      <td>NaN</td>\n",
       "    </tr>\n",
       "    <tr>\n",
       "      <th>4</th>\n",
       "      <td>rmn_e274c.mp3-044</td>\n",
       "      <td>274c-44</td>\n",
       "      <td>rmn_e274c.mp3-44</td>\n",
       "      <td>5.315040e+10</td>\n",
       "      <td>5875</td>\n",
       "      <td>http://nixontapeaudio.org/logs/274.rtf</td>\n",
       "      <td>https://s3.amazonaws.com/las.public/c0JClqYx6W...</td>\n",
       "      <td>[{'name': 'The President'}, {'name': 'John D. ...</td>\n",
       "      <td>https://s3.amazonaws.com/las.public/M2qMyTKx/n...</td>\n",
       "      <td>Executive Office Building (Room)</td>\n",
       "      <td>1bf3ece5-b31d-43bd-bb72-a58bb1f1591a</td>\n",
       "      <td>[0:53:15] spk_1: he is working with E O. You s...</td>\n",
       "      <td>NaN</td>\n",
       "    </tr>\n",
       "  </tbody>\n",
       "</table>\n",
       "</div>"
      ],
      "text/plain": [
       "   conversationTitle conversationNumber          tapeName  startDateTime  \\\n",
       "0  rmn_e634a.mp3-008             634a-8   rmn_e634a.mp3-8   6.110280e+10   \n",
       "1  rmn_e621a.mp3-006             621a-6   rmn_e621a.mp3-6   5.928840e+10   \n",
       "2  rmn_e617b.mp3-016            617b-16  rmn_e617b.mp3-16   5.902920e+10   \n",
       "3  rmn_e014a.mp3-052             14a-52  rmn_e014a.mp3-52   5.868360e+10   \n",
       "4  rmn_e274c.mp3-044            274c-44  rmn_e274c.mp3-44   5.315040e+10   \n",
       "\n",
       "   duration                              summaryURL  \\\n",
       "0        47  http://nixontapeaudio.org/logs/634.rtf   \n",
       "1        84  http://nixontapeaudio.org/logs/621.rtf   \n",
       "2       206  http://nixontapeaudio.org/logs/617.rtf   \n",
       "3         7  http://nixontapeaudio.org/logs/014.rtf   \n",
       "4      5875  http://nixontapeaudio.org/logs/274.rtf   \n",
       "\n",
       "                                                  id  \\\n",
       "0  https://s3.amazonaws.com/las.public/c0JClqYx6W...   \n",
       "1  https://s3.amazonaws.com/las.public/c0JClqYx6W...   \n",
       "2  https://s3.amazonaws.com/las.public/c0JClqYx6W...   \n",
       "3  https://s3.amazonaws.com/las.public/c0JClqYx6W...   \n",
       "4  https://s3.amazonaws.com/las.public/c0JClqYx6W...   \n",
       "\n",
       "                                            speakers  \\\n",
       "0  [{'name': 'Manolo Sanchez'}, {'name': 'The Pre...   \n",
       "1                                                 []   \n",
       "2  [{'name': 'George H. Boldt'}, {'name': 'Stephe...   \n",
       "3  [{'name': 'White House operator'}, {'name': 'T...   \n",
       "4  [{'name': 'The President'}, {'name': 'John D. ...   \n",
       "\n",
       "                                     waveFileDataURL  \\\n",
       "0  https://s3.amazonaws.com/las.public/M2qMyTKx/n...   \n",
       "1  https://s3.amazonaws.com/las.public/M2qMyTKx/n...   \n",
       "2  https://s3.amazonaws.com/las.public/M2qMyTKx/n...   \n",
       "3  https://s3.amazonaws.com/las.public/M2qMyTKx/n...   \n",
       "4  https://s3.amazonaws.com/las.public/M2qMyTKx/n...   \n",
       "\n",
       "                           location                                  uuid  \\\n",
       "0                Oval Office (Room)  6f8686c7-88a7-443b-94f9-ebde59dd4473   \n",
       "1                Oval Office (Room)  7362635f-220b-4454-a904-21f55e506a73   \n",
       "2                Oval Office (Room)  a7efe77a-9ba5-4c05-9272-197d6e8b7c2d   \n",
       "3           White House (Telephone)  8fcaf0e6-09fc-4428-941d-fbb3991621dc   \n",
       "4  Executive Office Building (Room)  1bf3ece5-b31d-43bd-bb72-a58bb1f1591a   \n",
       "\n",
       "                                            contents  endDateTime  \n",
       "0  [0:00:40] spk_0: spirit Very perceivable to br...          NaN  \n",
       "1  [0:01:03] spk_0: Did you go over There will be...          NaN  \n",
       "2  [0:01:58] spk_0: Yeah. What Yeah, yeah. Walk o...          NaN  \n",
       "3  [0:00:00] spk_0: I appreciate it very much. Yo...          NaN  \n",
       "4  [0:53:15] spk_1: he is working with E O. You s...          NaN  "
      ]
     },
     "execution_count": 2,
     "metadata": {},
     "output_type": "execute_result"
    }
   ],
   "source": [
    "#Pick a dataset and bring it into memory\n",
    "dataset = 4\n",
    "data_file = '../Data/Dataset_'+str(dataset)+'/Documents/Documents_Dataset_'+str(dataset)+'.json'\n",
    "df = pd.read_json(data_file, orient='records')\n",
    "df.head()"
   ]
  },
  {
   "cell_type": "markdown",
   "id": "a7559f27",
   "metadata": {},
   "source": [
    "## Named Entity Recognition\n",
    "Now that we have our data and spaCy model loaded, let's explore the model in a little more detail.\n",
    "\n",
    "A list of class definitions somewhere to better understand what we're being shown:"
   ]
  },
  {
   "cell_type": "code",
   "execution_count": 3,
   "id": "bf0cfa1d",
   "metadata": {},
   "outputs": [
    {
     "name": "stdout",
     "output_type": "stream",
     "text": [
      "CARDINAL | Numerals that do not fall under another type\n",
      "DATE | Absolute or relative dates or periods\n",
      "EVENT | Named hurricanes, battles, wars, sports events, etc.\n",
      "FAC | Buildings, airports, highways, bridges, etc.\n",
      "GPE | Countries, cities, states\n",
      "LANGUAGE | Any named language\n",
      "LAW | Named documents made into laws.\n",
      "LOC | Non-GPE locations, mountain ranges, bodies of water\n",
      "MONEY | Monetary values, including unit\n",
      "NORP | Nationalities or religious or political groups\n",
      "ORDINAL | \"first\", \"second\", etc.\n",
      "ORG | Companies, agencies, institutions, etc.\n",
      "PERCENT | Percentage, including \"%\"\n",
      "PERSON | People, including fictional\n",
      "PRODUCT | Objects, vehicles, foods, etc. (not services)\n",
      "QUANTITY | Measurements, as of weight or distance\n",
      "TIME | Times smaller than a day\n",
      "WORK_OF_ART | Titles of books, songs, etc.\n"
     ]
    }
   ],
   "source": [
    "for label in nlp.get_pipe('ner').labels:\n",
    "    print(label, '|', spacy.explain(label))"
   ]
  },
  {
   "cell_type": "markdown",
   "id": "294015c3",
   "metadata": {},
   "source": [
    "Let's test how this works on the first docuemnt"
   ]
  },
  {
   "cell_type": "code",
   "execution_count": 4,
   "id": "90af9fa3",
   "metadata": {},
   "outputs": [],
   "source": [
    "doc = nlp(df['contents'][0])\n",
    "for ent in doc.ents:\n",
    "    print(ent, ent.text, ent.label_)"
   ]
  },
  {
   "cell_type": "code",
   "execution_count": 5,
   "id": "8050ec06",
   "metadata": {},
   "outputs": [
    {
     "name": "stderr",
     "output_type": "stream",
     "text": [
      "/Users/jeremyblock/miniconda3/envs/provsumm/lib/python3.11/site-packages/spacy/displacy/__init__.py:206: UserWarning: [W006] No entities to visualize found in Doc object. If this is surprising to you, make sure the Doc was processed using a model that supports named entity recognition, and check the `doc.ents` property manually if necessary.\n",
      "  warnings.warn(Warnings.W006)\n"
     ]
    },
    {
     "data": {
      "text/html": [
       "<span class=\"tex2jax_ignore\"><div class=\"entities\" style=\"line-height: 2.5; direction: ltr\">[0:00:40] spk_0: spirit Very perceivable to bring me back. Pastor, Our day is</br></br></div></span>"
      ],
      "text/plain": [
       "<IPython.core.display.HTML object>"
      ]
     },
     "metadata": {},
     "output_type": "display_data"
    }
   ],
   "source": [
    "spacy.displacy.render(doc, style='ent')"
   ]
  },
  {
   "cell_type": "code",
   "execution_count": 6,
   "id": "bb03bea6",
   "metadata": {},
   "outputs": [
    {
     "data": {
      "text/html": [
       "<span class=\"tex2jax_ignore\"><div class=\"entities\" style=\"line-height: 2.5; direction: ltr\">[0:00:40] spk_0: spirit Very perceivable to bring me back. Pastor, Our day is</br></br></div></span>"
      ],
      "text/plain": [
       "<IPython.core.display.HTML object>"
      ]
     },
     "metadata": {},
     "output_type": "display_data"
    }
   ],
   "source": [
    "options={'ents' : ['PERSON','GPE']}\n",
    "spacy.displacy.render(doc, style='ent', options=options)"
   ]
  },
  {
   "cell_type": "markdown",
   "id": "35d419ce",
   "metadata": {},
   "source": [
    "## Getting entities for all the documents"
   ]
  },
  {
   "cell_type": "code",
   "execution_count": null,
   "id": "fee16bf0",
   "metadata": {},
   "outputs": [],
   "source": [
    "# Loop through each document to create a list of each Person or GPE in each document as an array\n",
    "documentIDs = []\n",
    "documentGeos = []\n",
    "documentPeople = []\n",
    "\n",
    "for i in range(len(df['contents'])):\n",
    "    doc = nlp(df['contents'][i])\n",
    "    documentIDs.append(df['id'][i])\n",
    "    documentGeos.append(list({str(word) for word in doc.ents if word.label_=='GPE'}))\n",
    "    documentPeople.append(list({str(word) for word in doc.ents if word.label_=='PERSON'}))"
   ]
  },
  {
   "cell_type": "code",
   "execution_count": null,
   "id": "b1c24795",
   "metadata": {},
   "outputs": [],
   "source": [
    "# Make output JSON objects\n",
    "output = []\n",
    "for i in range(len(documentIDs)):\n",
    "    tempObj = {}\n",
    "    tempObj[\"id\"] = documentIDs[i]\n",
    "    tempObj[\"Geos\"] = documentGeos[i]\n",
    "    tempObj[\"People\"] = documentPeople[i]\n",
    "    output.append(tempObj)\n",
    "    \n",
    "# outJSON = {}\n",
    "# outJSON['Documents'] = output\n",
    "outJSON=output.copy()"
   ]
  },
  {
   "cell_type": "code",
   "execution_count": null,
   "id": "0e0e614c",
   "metadata": {},
   "outputs": [],
   "source": [
    "# Save to file\n",
    "filename = '../Data/Dataset_'+str(dataset)+'/Documents/Entities_Dataset_'+str(dataset)+'.json'\n",
    "\n",
    "def write_json_data_to_file(file_path, data):\n",
    "    os.makedirs(os.path.dirname(file_path), exist_ok=True)\n",
    "    with open(file_path, 'w') as file:\n",
    "            d = json.dumps(data, ensure_ascii=False)\n",
    "            file.write(d)\n",
    "    file.close()\n",
    "    print(\"file written to \",file_path)\n",
    "    \n",
    "write_json_data_to_file(filename,outJSON)"
   ]
  },
  {
   "cell_type": "code",
   "execution_count": null,
   "id": "bceee170",
   "metadata": {},
   "outputs": [],
   "source": []
  }
 ],
 "metadata": {
  "kernelspec": {
   "display_name": "Python 3 (ipykernel)",
   "language": "python",
   "name": "python3"
  },
  "language_info": {
   "codemirror_mode": {
    "name": "ipython",
    "version": 3
   },
   "file_extension": ".py",
   "mimetype": "text/x-python",
   "name": "python",
   "nbconvert_exporter": "python",
   "pygments_lexer": "ipython3",
   "version": "3.11.0"
  }
 },
 "nbformat": 4,
 "nbformat_minor": 5
}
