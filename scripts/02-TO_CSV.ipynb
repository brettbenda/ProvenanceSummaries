{
 "cells": [
  {
   "cell_type": "markdown",
   "id": "fdab0628",
   "metadata": {},
   "source": [
    "# TO_CSV - Converts interaction logs into frequency histograms"
   ]
  },
  {
   "cell_type": "markdown",
   "id": "fff138a3",
   "metadata": {},
   "source": [
    "* Runs on individual files\n",
    "* Pulls data from newData/Dataset_x\n",
    "* Outputs data to newCSV/Dataset_x"
   ]
  },
  {
   "cell_type": "code",
   "execution_count": 1,
   "id": "d30028f5",
   "metadata": {},
   "outputs": [],
   "source": [
    "### Import necessary modules\n",
    "import json\n",
    "import re\n",
    "import numpy as np\n",
    "import csv\n",
    "\n",
    "from sklearn.feature_extraction.text import TfidfTransformer\n",
    "from sklearn.feature_extraction.text import CountVectorizer\n",
    "from sklearn.pipeline import Pipeline"
   ]
  },
  {
   "cell_type": "code",
   "execution_count": 2,
   "id": "65e0f2fc",
   "metadata": {},
   "outputs": [],
   "source": [
    "### Select participant and dataset\n",
    "PID = 'p8'\n",
    "dataset = '4'\n",
    "\n",
    "filename = 'newData/Dataset_' + dataset + '/' + PID + '.json'\n",
    "tfidf = 'newData/tfidf_d' + dataset + '.json'"
   ]
  },
  {
   "cell_type": "code",
   "execution_count": 3,
   "id": "a74d8324",
   "metadata": {},
   "outputs": [],
   "source": [
    "### Open file and pre-process data\n",
    "f = open(tfidf)\n",
    "\n",
    "TFIDFVecs = json.load(f)\n",
    "\n",
    "histograms = TFIDFVecs['histograms']\n",
    "vocabulary = TFIDFVecs['vocabulary']\n",
    "titles = TFIDFVecs['titles']\n",
    "\n",
    "userData = json.load(open(filename))['data']\n",
    "\n",
    "# docTypes = ['Doc_open', 'Reading']\n",
    "docTypes = ['Reading']\n",
    "createTypes = ['Search', 'Highlight', 'Connection', 'Add Note']"
   ]
  },
  {
   "cell_type": "code",
   "execution_count": 4,
   "id": "730c188d-2249-4807-9f35-ee8203a748b9",
   "metadata": {},
   "outputs": [],
   "source": [
    "# check_str = \"H4BuKWENpHH3uYy\"\n",
    "# print(len(titles))\n",
    "# temp = '\\t'.join(titles)\n",
    "# print(len(temp))\n",
    "# res = check_str in temp\n",
    "# print(res)\n",
    "\n"
   ]
  },
  {
   "cell_type": "code",
   "execution_count": 19,
   "id": "a21734e1",
   "metadata": {},
   "outputs": [
    {
     "name": "stdout",
     "output_type": "stream",
     "text": [
      "XX- Cannot find word in dataset: nugent\n",
      "XX- Cannot find word in dataset: nugent\n",
      "XX- Cannot find word in dataset: blount\n",
      "failed to find 3 references\n"
     ]
    }
   ],
   "source": [
    "### Process logs\n",
    "outVecs = []\n",
    "outTimes = []\n",
    "numFailed = 0\n",
    "counter = 0\n",
    "for data in userData:\n",
    "    if data['InteractionType'] in docTypes:\n",
    "        docTitle = data['ID']\n",
    "        docTime = data['time']\n",
    "        if docTitle in titles:\n",
    "            # print(\"FoundDoc titled: \" + str(docTitle))\n",
    "            docPos = titles.index(docTitle)\n",
    "            outVecs.append(histograms[docPos])\n",
    "            outTimes.append(docTime)\n",
    "            # print(\"Adding a historgram of length \" + str(len(histograms[docPos])) + \" to outVecs\")\n",
    "            # print(\"Outvecs is now: \"+ str(len(outVecs))+\" items long\")\n",
    "        else:\n",
    "            print(\"XX- Cannot find Title in dataset: \"+str(docTitle))\n",
    "            numFailed = numFailed + 1\n",
    "    if data['InteractionType'] in createTypes:\n",
    "        string = data['Text']\n",
    "        docTime = data['time']\n",
    "        words = re.findall(r'\\w+', string)\n",
    "        tempVec = np.zeros(len(vocabulary), dtype = int)\n",
    "        changed = 0\n",
    "        numAdded = 0\n",
    "        posAdded = []\n",
    "        for word in words:\n",
    "            word = word.lower() #set the words to lower case before checking the topics.\n",
    "            if word in vocabulary:\n",
    "                wordPos = vocabulary.index(word)\n",
    "                tempVec[wordPos] = tempVec[wordPos] + 1\n",
    "                numAdded = numAdded + 1\n",
    "                changed = 1\n",
    "                if wordPos not in posAdded:\n",
    "                    posAdded.append(wordPos)\n",
    "            if changed == 0:\n",
    "                print(\"XX- Cannot find word in dataset: \"+str(word))\n",
    "                numFailed = numFailed + 1\n",
    "            else:\n",
    "                for position in posAdded:\n",
    "                    tempVec[position] = tempVec[position] / numAdded\n",
    "                # sumWordsInEvent = 0\n",
    "                # for wordFreq in tempVec:\n",
    "                #     sumWordsInEvent = sumWordsInEvent + tempVec[wordFreq]\n",
    "                # # print(sumWordsInEvent)\n",
    "                # if (sumWordsInEvent > 0):\n",
    "                outVecs.append(tempVec.tolist())\n",
    "                outTimes.append(docTime)\n",
    "#should print 0                \n",
    "print(\"failed to find \" + str(numFailed) + \" references\")\n"
   ]
  },
  {
   "cell_type": "code",
   "execution_count": 20,
   "id": "106ed36a",
   "metadata": {},
   "outputs": [],
   "source": [
    "### Export data to two files\n",
    "outFilename = 'wordsCSV/Dataset_' + dataset + '/' + PID + '.csv'\n",
    "f = open(outFilename, 'w', newline='')\n",
    "\n",
    "writer = csv.writer(f)\n",
    "header = vocabulary.copy()\n",
    "header.insert(0, 'intTime')\n",
    "writer.writerow(header)\n",
    "\n",
    "for i in range(len(outVecs)):\n",
    "    row = outVecs[i].copy()\n",
    "    row.insert(0, outTimes[i])\n",
    "    writer.writerow(row)\n",
    "f.close()\n",
    "\n",
    "\n",
    "outFilename = 'newCSV/Dataset_' + dataset + '/' + PID + '.csv'\n",
    "f = open(outFilename, 'w', newline='')\n",
    "\n",
    "writer = csv.writer(f)\n",
    "# header = vocabulary.copy()\n",
    "# header.insert(0, 'intTime')\n",
    "# writer.writerow(header)\n",
    "\n",
    "for i in range(len(outVecs)):\n",
    "    row = outVecs[i].copy()\n",
    "    row.insert(0, outTimes[i])\n",
    "    writer.writerow(row)\n",
    "f.close()"
   ]
  },
  {
   "cell_type": "code",
   "execution_count": null,
   "id": "1bf19d41",
   "metadata": {},
   "outputs": [],
   "source": []
  },
  {
   "cell_type": "code",
   "execution_count": null,
   "id": "1b118233",
   "metadata": {},
   "outputs": [],
   "source": []
  }
 ],
 "metadata": {
  "kernelspec": {
   "display_name": "Python 3 (ipykernel)",
   "language": "python",
   "name": "python3"
  },
  "language_info": {
   "codemirror_mode": {
    "name": "ipython",
    "version": 3
   },
   "file_extension": ".py",
   "mimetype": "text/x-python",
   "name": "python",
   "nbconvert_exporter": "python",
   "pygments_lexer": "ipython3",
   "version": "3.11.0"
  }
 },
 "nbformat": 4,
 "nbformat_minor": 5
}
