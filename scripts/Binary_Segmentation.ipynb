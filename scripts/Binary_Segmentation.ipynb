{
 "cells": [
  {
   "cell_type": "markdown",
   "id": "e6c4efbc",
   "metadata": {},
   "source": [
    "# Binary Segmentation - converts a frequency histogram CSV into time segments"
   ]
  },
  {
   "cell_type": "code",
   "execution_count": 96,
   "id": "6d93cd85",
   "metadata": {},
   "outputs": [],
   "source": [
    "### Import necessary modules\n",
    "import numpy as np\n",
    "import matplotlib.pylab as plt\n",
    "import ruptures as rpt\n",
    "import csv"
   ]
  },
  {
   "cell_type": "code",
   "execution_count": 150,
   "id": "fbe4b390",
   "metadata": {},
   "outputs": [],
   "source": [
    "### Set parameters\n",
    "PID = 'p4'\n",
    "dataset = '3'\n",
    "\n",
    "n, dim = 500, 3  # number of samples\n",
    "n_bkps, sigma = 3, 5  # number of change points, noise standart deviation\n",
    "signal, bkps = rpt.pw_constant(n, dim, n_bkps, noise_std=sigma)"
   ]
  },
  {
   "cell_type": "code",
   "execution_count": 151,
   "id": "cf3fbbb9",
   "metadata": {},
   "outputs": [],
   "source": [
    "### Open file\n",
    "file = open(\"newCSV/Dataset_\" + dataset + \"/\" + PID + \".csv\")\n",
    "signal = np.loadtxt(file, delimiter=\",\")"
   ]
  },
  {
   "cell_type": "code",
   "execution_count": 152,
   "id": "1e1818d7",
   "metadata": {},
   "outputs": [
    {
     "name": "stdout",
     "output_type": "stream",
     "text": [
      "[160, 340, 405, 473, 545, 571, 593, 12466, 12508, 12549, 12635]\n"
     ]
    }
   ],
   "source": [
    "### Generate segments\n",
    "# change point detection\n",
    "model = \"l2\"  # \"l1\", \"rbf\", \"linear\", \"normal\", \"ar\"\n",
    "algo = rpt.Binseg(model=model, jump=1).fit(signal)\n",
    "my_bkps = algo.predict(n_bkps=10)\n",
    "\n",
    "# show results\n",
    "print(my_bkps)"
   ]
  },
  {
   "cell_type": "code",
   "execution_count": 153,
   "id": "2178d77b",
   "metadata": {},
   "outputs": [
    {
     "name": "stdout",
     "output_type": "stream",
     "text": [
      "[1107.6, 1744.8, 2236.8, 2870.4, 3282.9, 3713.3, 4019.9, 4408.8, 4758.0, 5175.0, 5737.8]\n"
     ]
    }
   ],
   "source": [
    "### Convert breakpoint indices into times:\n",
    "timeArr = []\n",
    "for bkp in my_bkps:\n",
    "    timeArr.append(signal[bkp-1][0] / 10)\n",
    "print(timeArr)"
   ]
  },
  {
   "cell_type": "code",
   "execution_count": 154,
   "id": "92466509",
   "metadata": {},
   "outputs": [],
   "source": [
    "### Export segments to CSV\n",
    "startText = ['Arms', 'Terrorist', 'Disappearance']\n",
    "outFilename = 'ProvenanceSummaries/code/ProvSegments/Dataset_' + dataset + '/Segmentation/' + startText[int(dataset) - 1] + '_P' + PID[1] + '_20_4_6_Prov_Segments.csv'\n",
    "f = open(outFilename, 'w', newline='')\n",
    "\n",
    "writer = csv.writer(f)\n",
    "header = ['ID', 'start', 'end', 'length']\n",
    "writer.writerow(header)\n",
    "\n",
    "row = [0, 0, timeArr[0], timeArr[0]]\n",
    "writer.writerow(row)\n",
    "for i in range(1,11):\n",
    "    row = [i, timeArr[i-1], timeArr[i], timeArr[i] - timeArr[i-1]]\n",
    "    writer.writerow(row)\n",
    "f.close()\n"
   ]
  },
  {
   "cell_type": "code",
   "execution_count": null,
   "id": "1589b7cc",
   "metadata": {},
   "outputs": [],
   "source": []
  }
 ],
 "metadata": {
  "kernelspec": {
   "display_name": "Python 3 (ipykernel)",
   "language": "python",
   "name": "python3"
  },
  "language_info": {
   "codemirror_mode": {
    "name": "ipython",
    "version": 3
   },
   "file_extension": ".py",
   "mimetype": "text/x-python",
   "name": "python",
   "nbconvert_exporter": "python",
   "pygments_lexer": "ipython3",
   "version": "3.8.3"
  }
 },
 "nbformat": 4,
 "nbformat_minor": 5
}
