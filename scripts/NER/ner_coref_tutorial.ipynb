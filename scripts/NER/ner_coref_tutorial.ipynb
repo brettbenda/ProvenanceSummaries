{
 "cells": [
  {
   "cell_type": "markdown",
   "id": "86a387df",
   "metadata": {},
   "source": [
    "# Named Entity Recognition (NER) and Coreference Resolution \n",
    "This tutorial will serve as an introduction to applying NER and Coreference Resolution with spaCy and AllenNLP.\n",
    "\n",
    "POC: Elizabeth Cary, elizabeth.cary@pnnl.gov"
   ]
  },
  {
   "cell_type": "markdown",
   "id": "14f6382e",
   "metadata": {},
   "source": [
    "---\n",
    "Your environment should already have spaCy installed, but we'll also need to install allennlp for the coreference resolution part of the tutorial:"
   ]
  },
  {
   "cell_type": "code",
   "execution_count": 1,
   "id": "4c25ab19",
   "metadata": {},
   "outputs": [
    {
     "name": "stdout",
     "output_type": "stream",
     "text": [
      "Defaulting to user installation because normal site-packages is not writeable\n",
      "Collecting allennlp\n",
      "  Downloading allennlp-2.9.3-py3-none-any.whl (719 kB)\n",
      "\u001b[2K     \u001b[90m━━━━━━━━━━━━━━━━━━━━━━━━━━━━━━━━━━━━━━━\u001b[0m \u001b[32m719.6/719.6 KB\u001b[0m \u001b[31m3.8 MB/s\u001b[0m eta \u001b[36m0:00:00\u001b[0m00:01\u001b[0m\n",
      "\u001b[?25hCollecting allennlp-models\n",
      "  Downloading allennlp_models-2.9.3-py3-none-any.whl (463 kB)\n",
      "\u001b[2K     \u001b[90m━━━━━━━━━━━━━━━━━━━━━━━━━━━━━━━━━━━━━━━\u001b[0m \u001b[32m463.2/463.2 KB\u001b[0m \u001b[31m2.5 MB/s\u001b[0m eta \u001b[36m0:00:00\u001b[0m00:01\u001b[0m\n",
      "\u001b[?25hCollecting pytest\n",
      "  Downloading pytest-7.1.2-py3-none-any.whl (297 kB)\n",
      "\u001b[2K     \u001b[90m━━━━━━━━━━━━━━━━━━━━━━━━━━━━━━━━━━━━━━━\u001b[0m \u001b[32m297.0/297.0 KB\u001b[0m \u001b[31m1.9 MB/s\u001b[0m eta \u001b[36m0:00:00\u001b[0m00:01\u001b[0m\n",
      "\u001b[?25hRequirement already satisfied: tqdm>=4.62 in /home/dhoneyc2/.local/lib/python3.10/site-packages (from allennlp) (4.63.1)\n",
      "Requirement already satisfied: spacy<3.3,>=2.1.0 in /home/dhoneyc2/.local/lib/python3.10/site-packages (from allennlp) (3.2.3)\n",
      "Collecting wandb<0.13.0,>=0.10.0\n",
      "  Downloading wandb-0.12.19-py2.py3-none-any.whl (1.8 MB)\n",
      "\u001b[2K     \u001b[90m━━━━━━━━━━━━━━━━━━━━━━━━━━━━━━━━━━━━━━━━\u001b[0m \u001b[32m1.8/1.8 MB\u001b[0m \u001b[31m12.1 MB/s\u001b[0m eta \u001b[36m0:00:00\u001b[0m:00:01\u001b[0m\n",
      "\u001b[?25hCollecting base58\n",
      "  Downloading base58-2.1.1-py3-none-any.whl (5.6 kB)\n",
      "Collecting filelock<3.7,>=3.3\n",
      "  Downloading filelock-3.6.0-py3-none-any.whl (10.0 kB)\n",
      "Collecting cached-path<1.2.0,>=1.0.2\n",
      "  Downloading cached_path-1.1.3-py3-none-any.whl (26 kB)\n",
      "Requirement already satisfied: numpy in /home/dhoneyc2/.local/lib/python3.10/site-packages (from allennlp) (1.22.3)\n",
      "Collecting transformers<4.19,>=4.1\n",
      "  Downloading transformers-4.18.0-py3-none-any.whl (4.0 MB)\n",
      "\u001b[2K     \u001b[90m━━━━━━━━━━━━━━━━━━━━━━━━━━━━━━━━━━━━━━━━\u001b[0m \u001b[32m4.0/4.0 MB\u001b[0m \u001b[31m19.6 MB/s\u001b[0m eta \u001b[36m0:00:00\u001b[0m:00:01\u001b[0m\n",
      "\u001b[?25hRequirement already satisfied: scipy in /home/dhoneyc2/.local/lib/python3.10/site-packages (from allennlp) (1.8.0)\n",
      "Collecting huggingface-hub>=0.0.16\n",
      "  Downloading huggingface_hub-0.8.1-py3-none-any.whl (101 kB)\n",
      "\u001b[2K     \u001b[90m━━━━━━━━━━━━━━━━━━━━━━━━━━━━━━━━━━━━━━\u001b[0m \u001b[32m101.5/101.5 KB\u001b[0m \u001b[31m17.4 MB/s\u001b[0m eta \u001b[36m0:00:00\u001b[0m\n",
      "\u001b[?25hRequirement already satisfied: scikit-learn in /home/dhoneyc2/.local/lib/python3.10/site-packages (from allennlp) (1.0.2)\n",
      "Requirement already satisfied: termcolor==1.1.0 in /home/dhoneyc2/.local/lib/python3.10/site-packages (from allennlp) (1.1.0)\n",
      "Collecting jsonnet>=0.10.0\n",
      "  Downloading jsonnet-0.18.0.tar.gz (592 kB)\n",
      "\u001b[2K     \u001b[90m━━━━━━━━━━━━━━━━━━━━━━━━━━━━━━━━━━━━━━━\u001b[0m \u001b[32m592.1/592.1 KB\u001b[0m \u001b[31m3.6 MB/s\u001b[0m eta \u001b[36m0:00:00\u001b[0m00:01\u001b[0m\n",
      "\u001b[?25h  Preparing metadata (setup.py) ... \u001b[?25ldone\n",
      "\u001b[?25hRequirement already satisfied: requests>=2.18 in /home/dhoneyc2/.local/lib/python3.10/site-packages (from allennlp) (2.27.1)\n",
      "Collecting sentencepiece\n",
      "  Downloading sentencepiece-0.1.96-cp310-cp310-manylinux_2_17_x86_64.manylinux2014_x86_64.whl (1.2 MB)\n",
      "\u001b[2K     \u001b[90m━━━━━━━━━━━━━━━━━━━━━━━━━━━━━━━━━━━━━━━━\u001b[0m \u001b[32m1.2/1.2 MB\u001b[0m \u001b[31m7.3 MB/s\u001b[0m eta \u001b[36m0:00:00\u001b[0m0:00:01\u001b[0m\n",
      "\u001b[?25hCollecting nltk\n",
      "  Downloading nltk-3.7-py3-none-any.whl (1.5 MB)\n",
      "\u001b[2K     \u001b[90m━━━━━━━━━━━━━━━━━━━━━━━━━━━━━━━━━━━━━━━━\u001b[0m \u001b[32m1.5/1.5 MB\u001b[0m \u001b[31m10.4 MB/s\u001b[0m eta \u001b[36m0:00:00\u001b[0m:00:01\u001b[0m\n",
      "\u001b[?25hCollecting fairscale==0.4.6\n",
      "  Downloading fairscale-0.4.6.tar.gz (248 kB)\n",
      "\u001b[2K     \u001b[90m━━━━━━━━━━━━━━━━━━━━━━━━━━━━━━━━━━━━━━\u001b[0m \u001b[32m248.2/248.2 KB\u001b[0m \u001b[31m39.9 MB/s\u001b[0m eta \u001b[36m0:00:00\u001b[0m\n",
      "\u001b[?25h  Installing build dependencies ... \u001b[?25ldone\n",
      "\u001b[?25h  Getting requirements to build wheel ... \u001b[?25ldone\n",
      "\u001b[?25h  Installing backend dependencies ... \u001b[?25ldone\n",
      "\u001b[?25h  Preparing metadata (pyproject.toml) ... \u001b[?25ldone\n",
      "\u001b[?25hRequirement already satisfied: h5py in /home/dhoneyc2/.local/lib/python3.10/site-packages (from allennlp) (3.6.0)\n",
      "Collecting dill\n",
      "  Downloading dill-0.3.5.1-py2.py3-none-any.whl (95 kB)\n",
      "\u001b[2K     \u001b[90m━━━━━━━━━━━━━━━━━━━━━━━━━━━━━━━━━━━━━━━━\u001b[0m \u001b[32m95.8/95.8 KB\u001b[0m \u001b[31m19.9 MB/s\u001b[0m eta \u001b[36m0:00:00\u001b[0m\n",
      "\u001b[?25hRequirement already satisfied: torchvision<0.13.0,>=0.8.1 in /home/dhoneyc2/.local/lib/python3.10/site-packages (from allennlp) (0.12.0+cu113)\n",
      "Requirement already satisfied: torch<1.12.0,>=1.6.0 in /home/dhoneyc2/.local/lib/python3.10/site-packages (from allennlp) (1.11.0+cu113)\n",
      "Collecting tensorboardX>=1.2\n",
      "  Downloading tensorboardX-2.5.1-py2.py3-none-any.whl (125 kB)\n",
      "\u001b[2K     \u001b[90m━━━━━━━━━━━━━━━━━━━━━━━━━━━━━━━━━━━━━━\u001b[0m \u001b[32m125.4/125.4 KB\u001b[0m \u001b[31m27.0 MB/s\u001b[0m eta \u001b[36m0:00:00\u001b[0m\n",
      "\u001b[?25hCollecting more-itertools\n",
      "  Downloading more_itertools-8.13.0-py3-none-any.whl (51 kB)\n",
      "\u001b[2K     \u001b[90m━━━━━━━━━━━━━━━━━━━━━━━━━━━━━━━━━━━━━━━━\u001b[0m \u001b[32m51.6/51.6 KB\u001b[0m \u001b[31m9.1 MB/s\u001b[0m eta \u001b[36m0:00:00\u001b[0m\n",
      "\u001b[?25hCollecting typer>=0.4.1\n",
      "  Downloading typer-0.4.1-py3-none-any.whl (27 kB)\n",
      "Collecting lmdb\n",
      "  Downloading lmdb-1.3.0-cp310-cp310-manylinux_2_12_x86_64.manylinux2010_x86_64.whl (306 kB)\n",
      "\u001b[2K     \u001b[90m━━━━━━━━━━━━━━━━━━━━━━━━━━━━━━━━━━━━━━━\u001b[0m \u001b[32m306.5/306.5 KB\u001b[0m \u001b[31m3.3 MB/s\u001b[0m eta \u001b[36m0:00:00\u001b[0ma \u001b[36m0:00:01\u001b[0m\n",
      "\u001b[?25hCollecting py-rouge==1.1\n",
      "  Downloading py_rouge-1.1-py3-none-any.whl (56 kB)\n",
      "\u001b[2K     \u001b[90m━━━━━━━━━━━━━━━━━━━━━━━━━━━━━━━━━━━━━━━\u001b[0m \u001b[32m56.8/56.8 KB\u001b[0m \u001b[31m423.0 kB/s\u001b[0m eta \u001b[36m0:00:00\u001b[0ma \u001b[36m0:00:01\u001b[0m\n",
      "\u001b[?25hCollecting datasets\n",
      "  Downloading datasets-2.3.2-py3-none-any.whl (362 kB)\n",
      "\u001b[2K     \u001b[90m━━━━━━━━━━━━━━━━━━━━━━━━━━━━━━━━━━━━━━━\u001b[0m \u001b[32m362.3/362.3 KB\u001b[0m \u001b[31m2.7 MB/s\u001b[0m eta \u001b[36m0:00:00\u001b[0m00:01\u001b[0m\n",
      "\u001b[?25hCollecting word2number>=1.1\n",
      "  Downloading word2number-1.1.zip (9.7 kB)\n",
      "  Preparing metadata (setup.py) ... \u001b[?25ldone\n",
      "\u001b[?25hCollecting conllu==4.4.1\n",
      "  Downloading conllu-4.4.1-py2.py3-none-any.whl (15 kB)\n",
      "Collecting ftfy\n",
      "  Downloading ftfy-6.1.1-py3-none-any.whl (53 kB)\n",
      "\u001b[2K     \u001b[90m━━━━━━━━━━━━━━━━━━━━━━━━━━━━━━━━━━━━━━━━\u001b[0m \u001b[32m53.1/53.1 KB\u001b[0m \u001b[31m12.6 MB/s\u001b[0m eta \u001b[36m0:00:00\u001b[0m\n",
      "\u001b[?25hCollecting rich<13.0,>=12.1\n",
      "  Downloading rich-12.4.4-py3-none-any.whl (232 kB)\n",
      "\u001b[2K     \u001b[90m━━━━━━━━━━━━━━━━━━━━━━━━━━━━━━━━━━━━━━\u001b[0m \u001b[32m232.0/232.0 KB\u001b[0m \u001b[31m41.6 MB/s\u001b[0m eta \u001b[36m0:00:00\u001b[0m\n",
      "\u001b[?25hCollecting boto3<2.0,>=1.0\n",
      "  Downloading boto3-1.24.15-py3-none-any.whl (132 kB)\n",
      "\u001b[2K     \u001b[90m━━━━━━━━━━━━━━━━━━━━━━━━━━━━━━━━━━━━━━\u001b[0m \u001b[32m132.5/132.5 KB\u001b[0m \u001b[31m29.2 MB/s\u001b[0m eta \u001b[36m0:00:00\u001b[0m\n",
      "\u001b[?25hCollecting huggingface-hub>=0.0.16\n",
      "  Downloading huggingface_hub-0.7.0-py3-none-any.whl (86 kB)\n",
      "\u001b[2K     \u001b[90m━━━━━━━━━━━━━━━━━━━━━━━━━━━━━━━━━━━━━━━━\u001b[0m \u001b[32m86.2/86.2 KB\u001b[0m \u001b[31m19.1 MB/s\u001b[0m eta \u001b[36m0:00:00\u001b[0m\n",
      "\u001b[?25hCollecting google-cloud-storage<3.0,>=1.0\n",
      "  Downloading google_cloud_storage-2.4.0-py2.py3-none-any.whl (106 kB)\n",
      "\u001b[2K     \u001b[90m━━━━━━━━━━━━━━━━━━━━━━━━━━━━━━━━━━━━━━\u001b[0m \u001b[32m107.0/107.0 KB\u001b[0m \u001b[31m21.8 MB/s\u001b[0m eta \u001b[36m0:00:00\u001b[0m\n",
      "\u001b[?25hRequirement already satisfied: typing-extensions>=3.7.4.3 in /home/dhoneyc2/.local/lib/python3.10/site-packages (from huggingface-hub>=0.0.16->allennlp) (4.1.1)\n",
      "Requirement already satisfied: pyyaml>=5.1 in /home/dhoneyc2/.local/lib/python3.10/site-packages (from huggingface-hub>=0.0.16->allennlp) (6.0)\n",
      "Requirement already satisfied: packaging>=20.9 in /usr/local/lib/python3.10/site-packages (from huggingface-hub>=0.0.16->allennlp) (21.3)\n",
      "Requirement already satisfied: click in /home/dhoneyc2/.local/lib/python3.10/site-packages (from nltk->allennlp) (8.0.4)\n",
      "Collecting regex>=2021.8.3\n",
      "  Downloading regex-2022.6.2-cp310-cp310-manylinux_2_17_x86_64.manylinux2014_x86_64.whl (763 kB)\n",
      "\u001b[2K     \u001b[90m━━━━━━━━━━━━━━━━━━━━━━━━━━━━━━━━━━━━━━━\u001b[0m \u001b[32m764.0/764.0 KB\u001b[0m \u001b[31m5.7 MB/s\u001b[0m eta \u001b[36m0:00:00\u001b[0m00:01\u001b[0m\n",
      "\u001b[?25hRequirement already satisfied: joblib in /home/dhoneyc2/.local/lib/python3.10/site-packages (from nltk->allennlp) (1.1.0)\n",
      "Requirement already satisfied: certifi>=2017.4.17 in /home/dhoneyc2/.local/lib/python3.10/site-packages (from requests>=2.18->allennlp) (2021.10.8)\n",
      "Requirement already satisfied: urllib3<1.27,>=1.21.1 in /home/dhoneyc2/.local/lib/python3.10/site-packages (from requests>=2.18->allennlp) (1.26.9)\n",
      "Requirement already satisfied: idna<4,>=2.5 in /home/dhoneyc2/.local/lib/python3.10/site-packages (from requests>=2.18->allennlp) (3.3)\n",
      "Requirement already satisfied: charset-normalizer~=2.0.0 in /home/dhoneyc2/.local/lib/python3.10/site-packages (from requests>=2.18->allennlp) (2.0.12)\n",
      "Requirement already satisfied: murmurhash<1.1.0,>=0.28.0 in /home/dhoneyc2/.local/lib/python3.10/site-packages (from spacy<3.3,>=2.1.0->allennlp) (1.0.6)\n",
      "Requirement already satisfied: preshed<3.1.0,>=3.0.2 in /home/dhoneyc2/.local/lib/python3.10/site-packages (from spacy<3.3,>=2.1.0->allennlp) (3.0.6)\n",
      "Requirement already satisfied: thinc<8.1.0,>=8.0.12 in /home/dhoneyc2/.local/lib/python3.10/site-packages (from spacy<3.3,>=2.1.0->allennlp) (8.0.15)\n",
      "Requirement already satisfied: jinja2 in /home/dhoneyc2/.local/lib/python3.10/site-packages (from spacy<3.3,>=2.1.0->allennlp) (3.1.0)\n",
      "Requirement already satisfied: spacy-legacy<3.1.0,>=3.0.8 in /home/dhoneyc2/.local/lib/python3.10/site-packages (from spacy<3.3,>=2.1.0->allennlp) (3.0.9)\n",
      "Requirement already satisfied: pydantic!=1.8,!=1.8.1,<1.9.0,>=1.7.4 in /home/dhoneyc2/.local/lib/python3.10/site-packages (from spacy<3.3,>=2.1.0->allennlp) (1.8.2)\n",
      "Requirement already satisfied: srsly<3.0.0,>=2.4.1 in /home/dhoneyc2/.local/lib/python3.10/site-packages (from spacy<3.3,>=2.1.0->allennlp) (2.4.2)\n",
      "Requirement already satisfied: langcodes<4.0.0,>=3.2.0 in /home/dhoneyc2/.local/lib/python3.10/site-packages (from spacy<3.3,>=2.1.0->allennlp) (3.3.0)\n",
      "Requirement already satisfied: catalogue<2.1.0,>=2.0.6 in /home/dhoneyc2/.local/lib/python3.10/site-packages (from spacy<3.3,>=2.1.0->allennlp) (2.0.7)\n",
      "Requirement already satisfied: blis<0.8.0,>=0.4.0 in /home/dhoneyc2/.local/lib/python3.10/site-packages (from spacy<3.3,>=2.1.0->allennlp) (0.7.7)\n",
      "Requirement already satisfied: spacy-loggers<2.0.0,>=1.0.0 in /home/dhoneyc2/.local/lib/python3.10/site-packages (from spacy<3.3,>=2.1.0->allennlp) (1.0.1)\n",
      "Requirement already satisfied: pathy>=0.3.5 in /home/dhoneyc2/.local/lib/python3.10/site-packages (from spacy<3.3,>=2.1.0->allennlp) (0.6.1)\n",
      "Requirement already satisfied: setuptools in /usr/local/lib/python3.10/site-packages (from spacy<3.3,>=2.1.0->allennlp) (58.1.0)\n",
      "Requirement already satisfied: cymem<2.1.0,>=2.0.2 in /home/dhoneyc2/.local/lib/python3.10/site-packages (from spacy<3.3,>=2.1.0->allennlp) (2.0.6)\n",
      "Requirement already satisfied: wasabi<1.1.0,>=0.8.1 in /home/dhoneyc2/.local/lib/python3.10/site-packages (from spacy<3.3,>=2.1.0->allennlp) (0.9.0)\n",
      "Requirement already satisfied: protobuf<=3.20.1,>=3.8.0 in /home/dhoneyc2/.local/lib/python3.10/site-packages (from tensorboardX>=1.2->allennlp) (3.19.4)\n",
      "Requirement already satisfied: pillow!=8.3.*,>=5.3.0 in /home/dhoneyc2/.local/lib/python3.10/site-packages (from torchvision<0.13.0,>=0.8.1->allennlp) (9.0.1)\n",
      "Collecting tokenizers!=0.11.3,<0.13,>=0.11.1\n",
      "  Downloading tokenizers-0.12.1-cp310-cp310-manylinux_2_12_x86_64.manylinux2010_x86_64.whl (6.6 MB)\n",
      "\u001b[2K     \u001b[90m━━━━━━━━━━━━━━━━━━━━━━━━━━━━━━━━━━━━━━━━\u001b[0m \u001b[32m6.6/6.6 MB\u001b[0m \u001b[31m20.0 MB/s\u001b[0m eta \u001b[36m0:00:00\u001b[0m:00:01\u001b[0m00:01\u001b[0m\n",
      "\u001b[?25hCollecting sacremoses\n",
      "  Downloading sacremoses-0.0.53.tar.gz (880 kB)\n",
      "\u001b[2K     \u001b[90m━━━━━━━━━━━━━━━━━━━━━━━━━━━━━━━━━━━━━━━\u001b[0m \u001b[32m880.6/880.6 KB\u001b[0m \u001b[31m7.9 MB/s\u001b[0m eta \u001b[36m0:00:00\u001b[0m00:01\u001b[0m\n",
      "\u001b[?25h  Preparing metadata (setup.py) ... \u001b[?25ldone\n",
      "\u001b[?25hCollecting setproctitle\n",
      "  Downloading setproctitle-1.2.3-cp310-cp310-manylinux_2_5_x86_64.manylinux1_x86_64.manylinux_2_17_x86_64.manylinux2014_x86_64.whl (29 kB)\n",
      "Requirement already satisfied: psutil>=5.0.0 in /usr/local/lib/python3.10/site-packages (from wandb<0.13.0,>=0.10.0->allennlp) (5.9.0)\n",
      "Requirement already satisfied: GitPython>=1.0.0 in /home/dhoneyc2/.local/lib/python3.10/site-packages (from wandb<0.13.0,>=0.10.0->allennlp) (3.1.27)\n",
      "Collecting promise<3,>=2.0\n",
      "  Downloading promise-2.3.tar.gz (19 kB)\n",
      "  Preparing metadata (setup.py) ... \u001b[?25ldone\n",
      "\u001b[?25hRequirement already satisfied: six>=1.13.0 in /home/dhoneyc2/.local/lib/python3.10/site-packages (from wandb<0.13.0,>=0.10.0->allennlp) (1.16.0)\n",
      "Collecting docker-pycreds>=0.4.0\n",
      "  Downloading docker_pycreds-0.4.0-py2.py3-none-any.whl (9.0 kB)\n",
      "Collecting shortuuid>=0.5.0\n",
      "  Downloading shortuuid-1.0.9-py3-none-any.whl (9.4 kB)\n",
      "Collecting sentry-sdk>=1.0.0\n",
      "  Downloading sentry_sdk-1.6.0-py2.py3-none-any.whl (145 kB)\n",
      "\u001b[2K     \u001b[90m━━━━━━━━━━━━━━━━━━━━━━━━━━━━━━━━━━━━━━\u001b[0m \u001b[32m145.4/145.4 KB\u001b[0m \u001b[31m27.3 MB/s\u001b[0m eta \u001b[36m0:00:00\u001b[0m\n",
      "\u001b[?25hCollecting pathtools\n",
      "  Downloading pathtools-0.1.2.tar.gz (11 kB)\n",
      "  Preparing metadata (setup.py) ... \u001b[?25ldone\n",
      "\u001b[?25hCollecting aiohttp\n",
      "  Downloading aiohttp-3.8.1-cp310-cp310-manylinux_2_5_x86_64.manylinux1_x86_64.manylinux_2_12_x86_64.manylinux2010_x86_64.whl (1.2 MB)\n",
      "\u001b[2K     \u001b[90m━━━━━━━━━━━━━━━━━━━━━━━━━━━━━━━━━━━━━━━━\u001b[0m \u001b[32m1.2/1.2 MB\u001b[0m \u001b[31m7.8 MB/s\u001b[0m eta \u001b[36m0:00:00\u001b[0m0:00:01\u001b[0m\n",
      "\u001b[?25hCollecting fsspec[http]>=2021.05.0\n",
      "  Downloading fsspec-2022.5.0-py3-none-any.whl (140 kB)\n",
      "\u001b[2K     \u001b[90m━━━━━━━━━━━━━━━━━━━━━━━━━━━━━━━━━━━━━━\u001b[0m \u001b[32m140.6/140.6 KB\u001b[0m \u001b[31m29.3 MB/s\u001b[0m eta \u001b[36m0:00:00\u001b[0m\n",
      "\u001b[?25hCollecting responses<0.19\n",
      "  Downloading responses-0.18.0-py3-none-any.whl (38 kB)\n",
      "Collecting pyarrow>=6.0.0\n",
      "  Downloading pyarrow-8.0.0-cp310-cp310-manylinux_2_17_x86_64.manylinux2014_x86_64.whl (29.4 MB)\n",
      "\u001b[2K     \u001b[90m━━━━━━━━━━━━━━━━━━━━━━━━━━━━━━━━━━━━━━━━\u001b[0m \u001b[32m29.4/29.4 MB\u001b[0m \u001b[31m10.6 MB/s\u001b[0m eta \u001b[36m0:00:00\u001b[0m00:01\u001b[0m00:01\u001b[0m\n",
      "\u001b[?25hCollecting multiprocess\n",
      "  Downloading multiprocess-0.70.13-py310-none-any.whl (133 kB)\n",
      "\u001b[2K     \u001b[90m━━━━━━━━━━━━━━━━━━━━━━━━━━━━━━━━━━━━━━\u001b[0m \u001b[32m133.1/133.1 KB\u001b[0m \u001b[31m24.9 MB/s\u001b[0m eta \u001b[36m0:00:00\u001b[0m\n",
      "\u001b[?25hRequirement already satisfied: pandas in /home/dhoneyc2/.local/lib/python3.10/site-packages (from datasets->allennlp-models) (1.4.1)\n",
      "Collecting xxhash\n",
      "  Downloading xxhash-3.0.0-cp310-cp310-manylinux_2_17_x86_64.manylinux2014_x86_64.whl (211 kB)\n",
      "\u001b[2K     \u001b[90m━━━━━━━━━━━━━━━━━━━━━━━━━━━━━━━━━━━━━━\u001b[0m \u001b[32m211.6/211.6 KB\u001b[0m \u001b[31m38.5 MB/s\u001b[0m eta \u001b[36m0:00:00\u001b[0m\n",
      "\u001b[?25hRequirement already satisfied: wcwidth>=0.2.5 in /home/dhoneyc2/.local/lib/python3.10/site-packages (from ftfy->allennlp-models) (0.2.5)\n",
      "Requirement already satisfied: attrs>=19.2.0 in /home/dhoneyc2/.local/lib/python3.10/site-packages (from pytest->allennlp) (21.4.0)\n",
      "Collecting pluggy<2.0,>=0.12\n",
      "  Downloading pluggy-1.0.0-py2.py3-none-any.whl (13 kB)\n",
      "Collecting tomli>=1.0.0\n",
      "  Downloading tomli-2.0.1-py3-none-any.whl (12 kB)\n",
      "Collecting iniconfig\n",
      "  Downloading iniconfig-1.1.1-py2.py3-none-any.whl (5.0 kB)\n",
      "Collecting py>=1.8.2\n",
      "  Downloading py-1.11.0-py2.py3-none-any.whl (98 kB)\n",
      "\u001b[2K     \u001b[90m━━━━━━━━━━━━━━━━━━━━━━━━━━━━━━━━━━━━━━━\u001b[0m \u001b[32m98.7/98.7 KB\u001b[0m \u001b[31m511.9 kB/s\u001b[0m eta \u001b[36m0:00:00\u001b[0ma \u001b[36m0:00:01\u001b[0m\n",
      "\u001b[?25hRequirement already satisfied: threadpoolctl>=2.0.0 in /home/dhoneyc2/.local/lib/python3.10/site-packages (from scikit-learn->allennlp) (3.1.0)\n",
      "Collecting s3transfer<0.7.0,>=0.6.0\n",
      "  Downloading s3transfer-0.6.0-py3-none-any.whl (79 kB)\n",
      "\u001b[2K     \u001b[90m━━━━━━━━━━━━━━━━━━━━━━━━━━━━━━━━━━━━━━━━\u001b[0m \u001b[32m79.6/79.6 KB\u001b[0m \u001b[31m16.5 MB/s\u001b[0m eta \u001b[36m0:00:00\u001b[0m\n",
      "\u001b[?25hCollecting jmespath<2.0.0,>=0.7.1\n",
      "  Downloading jmespath-1.0.1-py3-none-any.whl (20 kB)\n",
      "Collecting botocore<1.28.0,>=1.27.15\n",
      "  Downloading botocore-1.27.15-py3-none-any.whl (8.9 MB)\n",
      "\u001b[2K     \u001b[90m━━━━━━━━━━━━━━━━━━━━━━━━━━━━━━━━━━━━━━━━\u001b[0m \u001b[32m8.9/8.9 MB\u001b[0m \u001b[31m23.5 MB/s\u001b[0m eta \u001b[36m0:00:00\u001b[0m:00:01\u001b[0m00:01\u001b[0m\n",
      "\u001b[?25hRequirement already satisfied: gitdb<5,>=4.0.1 in /home/dhoneyc2/.local/lib/python3.10/site-packages (from GitPython>=1.0.0->wandb<0.13.0,>=0.10.0->allennlp) (4.0.9)\n",
      "Collecting google-resumable-media>=2.3.2\n",
      "  Downloading google_resumable_media-2.3.3-py2.py3-none-any.whl (76 kB)\n",
      "\u001b[2K     \u001b[90m━━━━━━━━━━━━━━━━━━━━━━━━━━━━━━━━━━━━━━━━\u001b[0m \u001b[32m76.9/76.9 KB\u001b[0m \u001b[31m13.1 MB/s\u001b[0m eta \u001b[36m0:00:00\u001b[0m\n",
      "\u001b[?25hCollecting google-cloud-core<3.0dev,>=2.3.0\n",
      "  Downloading google_cloud_core-2.3.1-py2.py3-none-any.whl (29 kB)\n",
      "Requirement already satisfied: google-auth<3.0dev,>=1.25.0 in /home/dhoneyc2/.local/lib/python3.10/site-packages (from google-cloud-storage<3.0,>=1.0->cached-path<1.2.0,>=1.0.2->allennlp) (2.6.2)\n",
      "Collecting google-api-core!=2.0.*,!=2.1.*,!=2.2.*,!=2.3.0,<3.0.0dev,>=1.31.5\n",
      "  Downloading google_api_core-2.8.2-py3-none-any.whl (114 kB)\n",
      "\u001b[2K     \u001b[90m━━━━━━━━━━━━━━━━━━━━━━━━━━━━━━━━━━━━━━\u001b[0m \u001b[32m114.6/114.6 KB\u001b[0m \u001b[31m21.6 MB/s\u001b[0m eta \u001b[36m0:00:00\u001b[0m\n",
      "\u001b[?25hRequirement already satisfied: pyparsing!=3.0.5,>=2.0.2 in /usr/local/lib/python3.10/site-packages (from packaging>=20.9->huggingface-hub>=0.0.16->allennlp) (3.0.7)\n",
      "Requirement already satisfied: smart-open<6.0.0,>=5.0.0 in /home/dhoneyc2/.local/lib/python3.10/site-packages (from pathy>=0.3.5->spacy<3.3,>=2.1.0->allennlp) (5.2.1)\n",
      "Requirement already satisfied: pygments<3.0.0,>=2.6.0 in /home/dhoneyc2/.local/lib/python3.10/site-packages (from rich<13.0,>=12.1->cached-path<1.2.0,>=1.0.2->allennlp) (2.11.2)\n",
      "Collecting commonmark<0.10.0,>=0.9.0\n",
      "  Downloading commonmark-0.9.1-py2.py3-none-any.whl (51 kB)\n",
      "\u001b[2K     \u001b[90m━━━━━━━━━━━━━━━━━━━━━━━━━━━━━━━━━━━━━━━━\u001b[0m \u001b[32m51.1/51.1 KB\u001b[0m \u001b[31m9.3 MB/s\u001b[0m eta \u001b[36m0:00:00\u001b[0m\n",
      "\u001b[?25hCollecting aiosignal>=1.1.2\n",
      "  Downloading aiosignal-1.2.0-py3-none-any.whl (8.2 kB)\n",
      "Collecting async-timeout<5.0,>=4.0.0a3\n",
      "  Downloading async_timeout-4.0.2-py3-none-any.whl (5.8 kB)\n",
      "Collecting yarl<2.0,>=1.0\n",
      "  Downloading yarl-1.7.2-cp310-cp310-manylinux_2_5_x86_64.manylinux1_x86_64.manylinux_2_12_x86_64.manylinux2010_x86_64.whl (305 kB)\n",
      "\u001b[2K     \u001b[90m━━━━━━━━━━━━━━━━━━━━━━━━━━━━━━━━━━━━━━\u001b[0m \u001b[32m305.3/305.3 KB\u001b[0m \u001b[31m45.0 MB/s\u001b[0m eta \u001b[36m0:00:00\u001b[0m\n",
      "\u001b[?25hCollecting multidict<7.0,>=4.5\n",
      "  Downloading multidict-6.0.2-cp310-cp310-manylinux_2_17_x86_64.manylinux2014_x86_64.whl (114 kB)\n",
      "\u001b[2K     \u001b[90m━━━━━━━━━━━━━━━━━━━━━━━━━━━━━━━━━━━━━━\u001b[0m \u001b[32m114.5/114.5 KB\u001b[0m \u001b[31m21.2 MB/s\u001b[0m eta \u001b[36m0:00:00\u001b[0m\n",
      "\u001b[?25hCollecting frozenlist>=1.1.1\n",
      "  Downloading frozenlist-1.3.0-cp310-cp310-manylinux_2_5_x86_64.manylinux1_x86_64.manylinux_2_17_x86_64.manylinux2014_x86_64.whl (157 kB)\n",
      "\u001b[2K     \u001b[90m━━━━━━━━━━━━━━━━━━━━━━━━━━━━━━━━━━━━━━\u001b[0m \u001b[32m157.9/157.9 KB\u001b[0m \u001b[31m28.1 MB/s\u001b[0m eta \u001b[36m0:00:00\u001b[0m\n",
      "\u001b[?25hRequirement already satisfied: MarkupSafe>=2.0 in /home/dhoneyc2/.local/lib/python3.10/site-packages (from jinja2->spacy<3.3,>=2.1.0->allennlp) (2.1.1)\n",
      "Requirement already satisfied: python-dateutil>=2.8.1 in /home/dhoneyc2/.local/lib/python3.10/site-packages (from pandas->datasets->allennlp-models) (2.8.2)\n",
      "Requirement already satisfied: pytz>=2020.1 in /home/dhoneyc2/.local/lib/python3.10/site-packages (from pandas->datasets->allennlp-models) (2022.1)\n",
      "Requirement already satisfied: smmap<6,>=3.0.1 in /home/dhoneyc2/.local/lib/python3.10/site-packages (from gitdb<5,>=4.0.1->GitPython>=1.0.0->wandb<0.13.0,>=0.10.0->allennlp) (5.0.0)\n",
      "Collecting googleapis-common-protos<2.0dev,>=1.56.2\n",
      "  Downloading googleapis_common_protos-1.56.3-py2.py3-none-any.whl (211 kB)\n",
      "\u001b[2K     \u001b[90m━━━━━━━━━━━━━━━━━━━━━━━━━━━━━━━━━━━━━━\u001b[0m \u001b[32m211.8/211.8 KB\u001b[0m \u001b[31m31.5 MB/s\u001b[0m eta \u001b[36m0:00:00\u001b[0m\n",
      "\u001b[?25hRequirement already satisfied: cachetools<6.0,>=2.0.0 in /home/dhoneyc2/.local/lib/python3.10/site-packages (from google-auth<3.0dev,>=1.25.0->google-cloud-storage<3.0,>=1.0->cached-path<1.2.0,>=1.0.2->allennlp) (5.0.0)\n",
      "Requirement already satisfied: rsa<5,>=3.1.4 in /home/dhoneyc2/.local/lib/python3.10/site-packages (from google-auth<3.0dev,>=1.25.0->google-cloud-storage<3.0,>=1.0->cached-path<1.2.0,>=1.0.2->allennlp) (4.8)\n",
      "Requirement already satisfied: pyasn1-modules>=0.2.1 in /home/dhoneyc2/.local/lib/python3.10/site-packages (from google-auth<3.0dev,>=1.25.0->google-cloud-storage<3.0,>=1.0->cached-path<1.2.0,>=1.0.2->allennlp) (0.2.8)\n",
      "Collecting google-crc32c<2.0dev,>=1.0\n",
      "  Downloading google_crc32c-1.3.0-cp310-cp310-manylinux_2_12_x86_64.manylinux2010_x86_64.whl (37 kB)\n",
      "Requirement already satisfied: pyasn1<0.5.0,>=0.4.6 in /home/dhoneyc2/.local/lib/python3.10/site-packages (from pyasn1-modules>=0.2.1->google-auth<3.0dev,>=1.25.0->google-cloud-storage<3.0,>=1.0->cached-path<1.2.0,>=1.0.2->allennlp) (0.4.8)\n",
      "Building wheels for collected packages: fairscale, jsonnet, word2number, promise, pathtools, sacremoses\n",
      "  Building wheel for fairscale (pyproject.toml) ... \u001b[?25ldone\n",
      "\u001b[?25h  Created wheel for fairscale: filename=fairscale-0.4.6-py3-none-any.whl size=307225 sha256=2cd0c56f5fc616e55c99a9ef26afb6819adf200ccc3f0cd127c3e6a305e87f0f\n",
      "  Stored in directory: /home/dhoneyc2/.cache/pip/wheels/a1/58/3d/e114952ab4a8f31eb9dae230658450afff986b211a5b1f2256\n",
      "  Building wheel for jsonnet (setup.py) ... \u001b[?25ldone\n",
      "\u001b[?25h  Created wheel for jsonnet: filename=jsonnet-0.18.0-cp310-cp310-linux_x86_64.whl size=6328909 sha256=cba97807e6e85b6d9f895f812e692e396004dc06150d01eb0d2bd4a375a5dfeb\n",
      "  Stored in directory: /home/dhoneyc2/.cache/pip/wheels/97/59/e9/f99512f4dec68f74aa7d89fe15e8a5a39da8e8457dd541f4a5\n",
      "  Building wheel for word2number (setup.py) ... \u001b[?25ldone\n",
      "\u001b[?25h  Created wheel for word2number: filename=word2number-1.1-py3-none-any.whl size=5582 sha256=2b2ad50c7c9ac8f0713db661ab7258aae256bdd36f884b2b0b835e12cafb8410\n",
      "  Stored in directory: /home/dhoneyc2/.cache/pip/wheels/84/ff/26/d3cfbd971e96c5aa3737ecfced81628830d7359b55fbb8ca3b\n",
      "  Building wheel for promise (setup.py) ... \u001b[?25ldone\n",
      "\u001b[?25h  Created wheel for promise: filename=promise-2.3-py3-none-any.whl size=21503 sha256=e92682fccb2b8c29b1a3a1cf2d3fa439b5b392dfc46139624e07ec3ee40f1f83\n",
      "  Stored in directory: /home/dhoneyc2/.cache/pip/wheels/54/4e/28/3ed0e1c8a752867445bab994d2340724928aa3ab059c57c8db\n",
      "  Building wheel for pathtools (setup.py) ... \u001b[?25ldone\n",
      "\u001b[?25h  Created wheel for pathtools: filename=pathtools-0.1.2-py3-none-any.whl size=8806 sha256=1925ac217d96d7559bb3b14566b7e2dd9c313cdf6b37a9530b77fc2e988867eb\n",
      "  Stored in directory: /home/dhoneyc2/.cache/pip/wheels/e7/f3/22/152153d6eb222ee7a56ff8617d80ee5207207a8c00a7aab794\n",
      "  Building wheel for sacremoses (setup.py) ... \u001b[?25ldone\n",
      "\u001b[?25h  Created wheel for sacremoses: filename=sacremoses-0.0.53-py3-none-any.whl size=895260 sha256=c34692f9868192410a187e22614e9d7cec1ad49e4791027e23cac7fbf456876c\n",
      "  Stored in directory: /home/dhoneyc2/.cache/pip/wheels/00/24/97/a2ea5324f36bc626e1ea0267f33db6aa80d157ee977e9e42fb\n",
      "Successfully built fairscale jsonnet word2number promise pathtools sacremoses\n",
      "Installing collected packages: word2number, tokenizers, sentencepiece, py-rouge, pathtools, lmdb, jsonnet, iniconfig, commonmark, xxhash, typer, tomli, tensorboardX, shortuuid, setproctitle, sentry-sdk, rich, regex, pyarrow, py, promise, pluggy, multidict, more-itertools, jmespath, googleapis-common-protos, google-crc32c, ftfy, fsspec, frozenlist, filelock, docker-pycreds, dill, conllu, base58, async-timeout, yarl, sacremoses, responses, pytest, nltk, multiprocess, huggingface-hub, google-resumable-media, fairscale, botocore, aiosignal, wandb, transformers, s3transfer, google-api-core, aiohttp, google-cloud-core, boto3, google-cloud-storage, datasets, cached-path, allennlp, allennlp-models\n",
      "\u001b[33m  WARNING: The script cmark is installed in '/home/dhoneyc2/.local/bin' which is not on PATH.\n",
      "  Consider adding this directory to PATH or, if you prefer to suppress this warning, use --no-warn-script-location.\u001b[0m\u001b[33m\n",
      "\u001b[0m  Attempting uninstall: typer\n",
      "    Found existing installation: typer 0.4.0\n",
      "    Uninstalling typer-0.4.0:\n",
      "      Successfully uninstalled typer-0.4.0\n",
      "\u001b[33m  WARNING: The script shortuuid is installed in '/home/dhoneyc2/.local/bin' which is not on PATH.\n",
      "  Consider adding this directory to PATH or, if you prefer to suppress this warning, use --no-warn-script-location.\u001b[0m\u001b[33m\n",
      "\u001b[0m\u001b[33m  WARNING: The script plasma_store is installed in '/home/dhoneyc2/.local/bin' which is not on PATH.\n",
      "  Consider adding this directory to PATH or, if you prefer to suppress this warning, use --no-warn-script-location.\u001b[0m\u001b[33m\n",
      "\u001b[0m\u001b[33m  WARNING: The script ftfy is installed in '/home/dhoneyc2/.local/bin' which is not on PATH.\n",
      "  Consider adding this directory to PATH or, if you prefer to suppress this warning, use --no-warn-script-location.\u001b[0m\u001b[33m\n",
      "\u001b[0m\u001b[33m  WARNING: The script base58 is installed in '/home/dhoneyc2/.local/bin' which is not on PATH.\n",
      "  Consider adding this directory to PATH or, if you prefer to suppress this warning, use --no-warn-script-location.\u001b[0m\u001b[33m\n",
      "\u001b[0m\u001b[33m  WARNING: The script sacremoses is installed in '/home/dhoneyc2/.local/bin' which is not on PATH.\n",
      "  Consider adding this directory to PATH or, if you prefer to suppress this warning, use --no-warn-script-location.\u001b[0m\u001b[33m\n",
      "\u001b[0m\u001b[33m  WARNING: The scripts py.test and pytest are installed in '/home/dhoneyc2/.local/bin' which is not on PATH.\n",
      "  Consider adding this directory to PATH or, if you prefer to suppress this warning, use --no-warn-script-location.\u001b[0m\u001b[33m\n",
      "\u001b[0m\u001b[33m  WARNING: The script nltk is installed in '/home/dhoneyc2/.local/bin' which is not on PATH.\n",
      "  Consider adding this directory to PATH or, if you prefer to suppress this warning, use --no-warn-script-location.\u001b[0m\u001b[33m\n",
      "\u001b[0m\u001b[33m  WARNING: The script huggingface-cli is installed in '/home/dhoneyc2/.local/bin' which is not on PATH.\n",
      "  Consider adding this directory to PATH or, if you prefer to suppress this warning, use --no-warn-script-location.\u001b[0m\u001b[33m\n",
      "\u001b[0m\u001b[33m  WARNING: The scripts wandb and wb are installed in '/home/dhoneyc2/.local/bin' which is not on PATH.\n",
      "  Consider adding this directory to PATH or, if you prefer to suppress this warning, use --no-warn-script-location.\u001b[0m\u001b[33m\n",
      "\u001b[0m\u001b[33m  WARNING: The script transformers-cli is installed in '/home/dhoneyc2/.local/bin' which is not on PATH.\n",
      "  Consider adding this directory to PATH or, if you prefer to suppress this warning, use --no-warn-script-location.\u001b[0m\u001b[33m\n",
      "\u001b[0m\u001b[33m  WARNING: The script datasets-cli is installed in '/home/dhoneyc2/.local/bin' which is not on PATH.\n",
      "  Consider adding this directory to PATH or, if you prefer to suppress this warning, use --no-warn-script-location.\u001b[0m\u001b[33m\n",
      "\u001b[0m\u001b[33m  WARNING: The script allennlp is installed in '/home/dhoneyc2/.local/bin' which is not on PATH.\n",
      "  Consider adding this directory to PATH or, if you prefer to suppress this warning, use --no-warn-script-location.\u001b[0m\u001b[33m\n",
      "\u001b[0mSuccessfully installed aiohttp-3.8.1 aiosignal-1.2.0 allennlp-2.9.3 allennlp-models-2.9.3 async-timeout-4.0.2 base58-2.1.1 boto3-1.24.15 botocore-1.27.15 cached-path-1.1.3 commonmark-0.9.1 conllu-4.4.1 datasets-2.3.2 dill-0.3.5.1 docker-pycreds-0.4.0 fairscale-0.4.6 filelock-3.6.0 frozenlist-1.3.0 fsspec-2022.5.0 ftfy-6.1.1 google-api-core-2.8.2 google-cloud-core-2.3.1 google-cloud-storage-2.4.0 google-crc32c-1.3.0 google-resumable-media-2.3.3 googleapis-common-protos-1.56.3 huggingface-hub-0.7.0 iniconfig-1.1.1 jmespath-1.0.1 jsonnet-0.18.0 lmdb-1.3.0 more-itertools-8.13.0 multidict-6.0.2 multiprocess-0.70.13 nltk-3.7 pathtools-0.1.2 pluggy-1.0.0 promise-2.3 py-1.11.0 py-rouge-1.1 pyarrow-8.0.0 pytest-7.1.2 regex-2022.6.2 responses-0.18.0 rich-12.4.4 s3transfer-0.6.0 sacremoses-0.0.53 sentencepiece-0.1.96 sentry-sdk-1.6.0 setproctitle-1.2.3 shortuuid-1.0.9 tensorboardX-2.5.1 tokenizers-0.12.1 tomli-2.0.1 transformers-4.18.0 typer-0.4.1 wandb-0.12.19 word2number-1.1 xxhash-3.0.0 yarl-1.7.2\n",
      "\u001b[33mWARNING: You are using pip version 22.0.4; however, version 22.1.2 is available.\n",
      "You should consider upgrading via the '/usr/local/bin/python3.10 -m pip install --upgrade pip' command.\u001b[0m\u001b[33m\n",
      "\u001b[0m"
     ]
    }
   ],
   "source": [
    "import sys\n",
    "!{sys.executable} -m pip install allennlp allennlp-models"
   ]
  },
  {
   "cell_type": "markdown",
   "id": "c7d26a0d",
   "metadata": {},
   "source": [
    "We need to have access to a pre-trained spaCy model to be able to run this tutorial. If the 'en_core_web_sm' is not already downloaded, run the below command:"
   ]
  },
  {
   "cell_type": "code",
   "execution_count": 4,
   "id": "ce951f26",
   "metadata": {
    "scrolled": true
   },
   "outputs": [
    {
     "name": "stdout",
     "output_type": "stream",
     "text": [
      "/bin/bash: {sys.executable}: command not found\r\n"
     ]
    }
   ],
   "source": [
    "!{sys.executable} -m spacy download en_core_web_sm"
   ]
  },
  {
   "cell_type": "markdown",
   "id": "189fbacf",
   "metadata": {},
   "source": [
    "### Load spaCy model"
   ]
  },
  {
   "cell_type": "markdown",
   "id": "77904550",
   "metadata": {},
   "source": [
    "[en_core_web_sm](https://spacy.io/models/en#en_core_web_sm) is typically considered spaCy's default English model and comes pre-loaded with a number of components: tok2vec, tagger, parser, senter, ner, attribute_ruler, and lemmatizer. For this demo, we'll be focusing on the NER component, though you can check out the linked documentation for more information on this model and its offerings.\n",
    "\n",
    "*Note: Take a look at the information included in the model documentation. What should we keep in mind when using this model? In particular, what type of training data was used to train these components? How will this affect how we use this model?*"
   ]
  },
  {
   "cell_type": "code",
   "execution_count": 1,
   "id": "e2635f5d",
   "metadata": {},
   "outputs": [
    {
     "name": "stderr",
     "output_type": "stream",
     "text": [
      "/home/dhoneyc2/.local/lib/python3.10/site-packages/requests/__init__.py:102: RequestsDependencyWarning: urllib3 (1.26.9) or chardet (5.0.0)/charset_normalizer (2.0.12) doesn't match a supported version!\n",
      "  warnings.warn(\"urllib3 ({}) or chardet ({})/charset_normalizer ({}) doesn't match a supported \"\n"
     ]
    }
   ],
   "source": [
    "import spacy"
   ]
  },
  {
   "cell_type": "code",
   "execution_count": 2,
   "id": "20aeb65b",
   "metadata": {},
   "outputs": [],
   "source": [
    "nlp = spacy.load('en_core_web_sm')"
   ]
  },
  {
   "cell_type": "markdown",
   "id": "b65c145f",
   "metadata": {},
   "source": [
    "### Load and format data\n",
    "\n",
    "We're using a random sample of 500 articles from the [CNN/Daily Mail Dataset](https://huggingface.co/datasets/cnn_dailymail), a set of 300,000 CNN and Daily Mail English-language articles. Each article has been capped at five (5) sentences and saved as a json file for ease of use throughout this tutorial. Though we're reading/loading the data via `pandas`, we could easily read the text line-by-line and load json objects via the `json` library if preferred."
   ]
  },
  {
   "cell_type": "code",
   "execution_count": 3,
   "id": "ec40d1d7",
   "metadata": {},
   "outputs": [],
   "source": [
    "import pandas as pd"
   ]
  },
  {
   "cell_type": "code",
   "execution_count": 13,
   "id": "7b725f7f",
   "metadata": {},
   "outputs": [],
   "source": [
    "data_file = 'cnn_daily_mail_sample_edit.json'\n",
    "df = pd.read_json(data_file, orient='records', lines=True)"
   ]
  },
  {
   "cell_type": "code",
   "execution_count": 14,
   "id": "1afdbcdd",
   "metadata": {},
   "outputs": [
    {
     "data": {
      "text/html": [
       "<div>\n",
       "<style scoped>\n",
       "    .dataframe tbody tr th:only-of-type {\n",
       "        vertical-align: middle;\n",
       "    }\n",
       "\n",
       "    .dataframe tbody tr th {\n",
       "        vertical-align: top;\n",
       "    }\n",
       "\n",
       "    .dataframe thead th {\n",
       "        text-align: right;\n",
       "    }\n",
       "</style>\n",
       "<table border=\"1\" class=\"dataframe\">\n",
       "  <thead>\n",
       "    <tr style=\"text-align: right;\">\n",
       "      <th></th>\n",
       "      <th>id</th>\n",
       "      <th>highlights</th>\n",
       "      <th>article</th>\n",
       "    </tr>\n",
       "  </thead>\n",
       "  <tbody>\n",
       "    <tr>\n",
       "      <th>0</th>\n",
       "      <td>0244543991c5843c7053b72ed1990a86af1cbb60</td>\n",
       "      <td>Alison Saunders decided against pressing charg...</td>\n",
       "      <td>Lord Janner escaped justice after the UK’s top...</td>\n",
       "    </tr>\n",
       "    <tr>\n",
       "      <th>1</th>\n",
       "      <td>1f442511be514c94bac90de4ca60aa4089221cdf</td>\n",
       "      <td>Police have said they believe William Tyrrell ...</td>\n",
       "      <td>Police have revealed that they believe missing...</td>\n",
       "    </tr>\n",
       "    <tr>\n",
       "      <th>2</th>\n",
       "      <td>56516cebdf30bd22dc8353549b70b4bb33993753</td>\n",
       "      <td>Carlos Colina, 32, pleaded not guilty to assau...</td>\n",
       "      <td>A man accused of chopping up his friend's body...</td>\n",
       "    </tr>\n",
       "    <tr>\n",
       "      <th>3</th>\n",
       "      <td>fecd28f3a547732db81a0cfc61eaa8d8c1209bd9</td>\n",
       "      <td>Clarence David Moore, 66, was convicted of lar...</td>\n",
       "      <td>Frail and tired of leading a secret life for f...</td>\n",
       "    </tr>\n",
       "    <tr>\n",
       "      <th>4</th>\n",
       "      <td>ab91635d596a798e3c021e639935d4c959cfacf2</td>\n",
       "      <td>Malala Yousafzai tells the girls she associate...</td>\n",
       "      <td>(CNN)On the eve of the one-year mark since nea...</td>\n",
       "    </tr>\n",
       "  </tbody>\n",
       "</table>\n",
       "</div>"
      ],
      "text/plain": [
       "                                         id  \\\n",
       "0  0244543991c5843c7053b72ed1990a86af1cbb60   \n",
       "1  1f442511be514c94bac90de4ca60aa4089221cdf   \n",
       "2  56516cebdf30bd22dc8353549b70b4bb33993753   \n",
       "3  fecd28f3a547732db81a0cfc61eaa8d8c1209bd9   \n",
       "4  ab91635d596a798e3c021e639935d4c959cfacf2   \n",
       "\n",
       "                                          highlights  \\\n",
       "0  Alison Saunders decided against pressing charg...   \n",
       "1  Police have said they believe William Tyrrell ...   \n",
       "2  Carlos Colina, 32, pleaded not guilty to assau...   \n",
       "3  Clarence David Moore, 66, was convicted of lar...   \n",
       "4  Malala Yousafzai tells the girls she associate...   \n",
       "\n",
       "                                             article  \n",
       "0  Lord Janner escaped justice after the UK’s top...  \n",
       "1  Police have revealed that they believe missing...  \n",
       "2  A man accused of chopping up his friend's body...  \n",
       "3  Frail and tired of leading a secret life for f...  \n",
       "4  (CNN)On the eve of the one-year mark since nea...  "
      ]
     },
     "execution_count": 14,
     "metadata": {},
     "output_type": "execute_result"
    }
   ],
   "source": [
    "df.head()"
   ]
  },
  {
   "cell_type": "code",
   "execution_count": 10,
   "id": "a7aebe0f",
   "metadata": {},
   "outputs": [
    {
     "data": {
      "text/plain": [
       "\"Alison Saunders decided against pressing charges against Lord Janner .\\nShe was persuaded against taking a case by the Labour peer's dementia .\\nTwo of Britain's foremost legal experts recommended pressing charges .\\nPolitical sources want the decision overturned over 'whitewash' fears .\""
      ]
     },
     "execution_count": 10,
     "metadata": {},
     "output_type": "execute_result"
    }
   ],
   "source": [
    "df['highlights'][0]"
   ]
  },
  {
   "cell_type": "code",
   "execution_count": 11,
   "id": "afb77fe8",
   "metadata": {},
   "outputs": [
    {
     "data": {
      "text/plain": [
       "\"Lord Janner escaped justice after the UK’s top prosecutor over-ruled the advice of two of the country’s most senior QCs, it emerged last night. Director of Public Prosecutions Alison Saunders was encouraged by two aides to charge the Labour peer with historic sex crimes. Both Clare Montgomery QC and child abuse expert Eleanor Laws QC, leading counsel to the investigation, offered advice which could have supported a move to prosecute. Scroll down for video . Director of Public Prosecutions Alison Saunders 'ignored the advice' of to top QCs to charge Lord Janner .\""
      ]
     },
     "execution_count": 11,
     "metadata": {},
     "output_type": "execute_result"
    }
   ],
   "source": [
    "df['article'][0]"
   ]
  },
  {
   "cell_type": "code",
   "execution_count": 16,
   "id": "d73b4522",
   "metadata": {},
   "outputs": [],
   "source": [
    "data_file_1 = 'Documents_Dataset_1.json'\n",
    "df1 = pd.read_json(data_file_1, orient='records', lines=True)"
   ]
  },
  {
   "cell_type": "code",
   "execution_count": 17,
   "id": "13e8db47",
   "metadata": {},
   "outputs": [
    {
     "data": {
      "text/html": [
       "<div>\n",
       "<style scoped>\n",
       "    .dataframe tbody tr th:only-of-type {\n",
       "        vertical-align: middle;\n",
       "    }\n",
       "\n",
       "    .dataframe tbody tr th {\n",
       "        vertical-align: top;\n",
       "    }\n",
       "\n",
       "    .dataframe thead th {\n",
       "        text-align: right;\n",
       "    }\n",
       "</style>\n",
       "<table border=\"1\" class=\"dataframe\">\n",
       "  <thead>\n",
       "    <tr style=\"text-align: right;\">\n",
       "      <th></th>\n",
       "      <th>id</th>\n",
       "      <th>title</th>\n",
       "      <th>date</th>\n",
       "      <th>type</th>\n",
       "      <th>contents</th>\n",
       "    </tr>\n",
       "  </thead>\n",
       "  <tbody>\n",
       "    <tr>\n",
       "      <th>0</th>\n",
       "      <td>ArmsDealing1</td>\n",
       "      <td>Feb 2008, drilling equipment scheduled to arri...</td>\n",
       "      <td>unknown</td>\n",
       "      <td>set1</td>\n",
       "      <td>US GOVERNMENT TELEPHONE INTERCEPT: 5 FEBRUARY ...</td>\n",
       "    </tr>\n",
       "    <tr>\n",
       "      <th>1</th>\n",
       "      <td>ArmsDealing2</td>\n",
       "      <td>Mar 2008, Maulana Haq Bukhari Bank Transaction</td>\n",
       "      <td>unknown</td>\n",
       "      <td>set1</td>\n",
       "      <td>REPORT DATE:    30 March 2008 [US GOVERNMENT C...</td>\n",
       "    </tr>\n",
       "    <tr>\n",
       "      <th>2</th>\n",
       "      <td>ArmsDealing3</td>\n",
       "      <td>June 2008, I hope we can do business shortly, ...</td>\n",
       "      <td>unknown</td>\n",
       "      <td>set1</td>\n",
       "      <td>US GOVERNMENT TELEPHONE INTERCEPT: 24 JUNE 200...</td>\n",
       "    </tr>\n",
       "    <tr>\n",
       "      <th>3</th>\n",
       "      <td>ArmsDealing4</td>\n",
       "      <td>Sep 2008, Kasem to Khouri, supplies of superio...</td>\n",
       "      <td>unknown</td>\n",
       "      <td>set1</td>\n",
       "      <td>SURVEILLANCE REPORT DATE:    2 October 2008 [p...</td>\n",
       "    </tr>\n",
       "    <tr>\n",
       "      <th>4</th>\n",
       "      <td>ArmsDealing5</td>\n",
       "      <td>Oct 2008, Jorge's place was raided last night,...</td>\n",
       "      <td>unknown</td>\n",
       "      <td>set1</td>\n",
       "      <td>US GOVERNMENT TELEPHONE INTERCEPT:  [October 1...</td>\n",
       "    </tr>\n",
       "  </tbody>\n",
       "</table>\n",
       "</div>"
      ],
      "text/plain": [
       "             id                                              title     date  \\\n",
       "0  ArmsDealing1  Feb 2008, drilling equipment scheduled to arri...  unknown   \n",
       "1  ArmsDealing2     Mar 2008, Maulana Haq Bukhari Bank Transaction  unknown   \n",
       "2  ArmsDealing3  June 2008, I hope we can do business shortly, ...  unknown   \n",
       "3  ArmsDealing4  Sep 2008, Kasem to Khouri, supplies of superio...  unknown   \n",
       "4  ArmsDealing5  Oct 2008, Jorge's place was raided last night,...  unknown   \n",
       "\n",
       "   type                                           contents  \n",
       "0  set1  US GOVERNMENT TELEPHONE INTERCEPT: 5 FEBRUARY ...  \n",
       "1  set1  REPORT DATE:    30 March 2008 [US GOVERNMENT C...  \n",
       "2  set1  US GOVERNMENT TELEPHONE INTERCEPT: 24 JUNE 200...  \n",
       "3  set1  SURVEILLANCE REPORT DATE:    2 October 2008 [p...  \n",
       "4  set1  US GOVERNMENT TELEPHONE INTERCEPT:  [October 1...  "
      ]
     },
     "execution_count": 17,
     "metadata": {},
     "output_type": "execute_result"
    }
   ],
   "source": [
    "df1.head()"
   ]
  },
  {
   "cell_type": "code",
   "execution_count": 18,
   "id": "f2af8905",
   "metadata": {},
   "outputs": [
    {
     "data": {
      "text/plain": [
       "'Feb 2008, drilling equipment scheduled to arrive, Kiev to Iran'"
      ]
     },
     "execution_count": 18,
     "metadata": {},
     "output_type": "execute_result"
    }
   ],
   "source": [
    "df1['title'][0]"
   ]
  },
  {
   "cell_type": "code",
   "execution_count": 19,
   "id": "5f2d4edc",
   "metadata": {},
   "outputs": [
    {
     "data": {
      "text/plain": [
       "'US GOVERNMENT TELEPHONE INTERCEPT: 5 FEBRUARY 2008<br><br>Call placed from Kiev, Ukraine to Tabriz, Iran.  <br><br> The call from Kiev was from a prepaid cell phone using an unlisted ID number supplied by an Internet café.  The receiver of the call was at the address: 24 Janbazan St, West Ajerbaijan, Tabriz, Iran.  This address is the residence of Sattari Khurshid. The caller says, “The drilling equipment is scheduled to arrive at Urmia on the 12th.”  The receiver says, “All is well then.  Soltan will handle all the arrangements.”  '"
      ]
     },
     "execution_count": 19,
     "metadata": {},
     "output_type": "execute_result"
    }
   ],
   "source": [
    "df1['contents'][0]"
   ]
  },
  {
   "cell_type": "markdown",
   "id": "b2ee4850",
   "metadata": {},
   "source": [
    "## Named Entity Recognition\n",
    "Now that we have our data and spaCy model loaded, let's explore the model in a little more detail."
   ]
  },
  {
   "cell_type": "markdown",
   "id": "19a40924",
   "metadata": {},
   "source": [
    "During the lecture, we talked about varying annotation schema among NER models. What [classes](https://spacy.io/models/en) are available in the `en_core_web_sm` NER model?"
   ]
  },
  {
   "cell_type": "code",
   "execution_count": 12,
   "id": "6f530f57",
   "metadata": {},
   "outputs": [
    {
     "data": {
      "image/png": "[encoded data removed]",
      "text/plain": [
       "<PIL.PngImagePlugin.PngImageFile image mode=RGBA size=697x75 at 0x7F255B08F400>"
      ]
     },
     "metadata": {},
     "output_type": "display_data"
    }
   ],
   "source": [
    "from IPython.display import display\n",
    "from PIL import Image\n",
    "display(Image.open(\"ner_labels.png\"))"
   ]
  },
  {
   "cell_type": "markdown",
   "id": "3966faf1",
   "metadata": {},
   "source": [
    "What do these mean? Can we find a list of class definitions somewhere to better understand what we're being shown?"
   ]
  },
  {
   "cell_type": "code",
   "execution_count": 11,
   "id": "8da4a8fe",
   "metadata": {},
   "outputs": [
    {
     "name": "stdout",
     "output_type": "stream",
     "text": [
      "CARDINAL | Numerals that do not fall under another type\n",
      "DATE | Absolute or relative dates or periods\n",
      "EVENT | Named hurricanes, battles, wars, sports events, etc.\n",
      "FAC | Buildings, airports, highways, bridges, etc.\n",
      "GPE | Countries, cities, states\n",
      "LANGUAGE | Any named language\n",
      "LAW | Named documents made into laws.\n",
      "LOC | Non-GPE locations, mountain ranges, bodies of water\n",
      "MONEY | Monetary values, including unit\n",
      "NORP | Nationalities or religious or political groups\n",
      "ORDINAL | \"first\", \"second\", etc.\n",
      "ORG | Companies, agencies, institutions, etc.\n",
      "PERCENT | Percentage, including \"%\"\n",
      "PERSON | People, including fictional\n",
      "PRODUCT | Objects, vehicles, foods, etc. (not services)\n",
      "QUANTITY | Measurements, as of weight or distance\n",
      "TIME | Times smaller than a day\n",
      "WORK_OF_ART | Titles of books, songs, etc.\n"
     ]
    }
   ],
   "source": [
    "for label in nlp.get_pipe('ner').labels:\n",
    "    print(label, '|', spacy.explain(label))"
   ]
  },
  {
   "cell_type": "markdown",
   "id": "3374f759",
   "metadata": {},
   "source": [
    "---\n",
    "Let's explore the first article in the dataset--first, we'll load the article in spaCy format and explore processed spaCy output."
   ]
  },
  {
   "cell_type": "code",
   "execution_count": 20,
   "id": "148d7000",
   "metadata": {},
   "outputs": [],
   "source": [
    "doc = nlp(df1['contents'][0])"
   ]
  },
  {
   "cell_type": "markdown",
   "id": "18e36d21",
   "metadata": {},
   "source": [
    "`doc` has already calculated everything you might want to know about a text. It's a special `Span` object, that prints like a string, but can iterate over tokens, and so much more."
   ]
  },
  {
   "cell_type": "code",
   "execution_count": 21,
   "id": "09c76d6d",
   "metadata": {},
   "outputs": [
    {
     "name": "stdout",
     "output_type": "stream",
     "text": [
      "US US 0 0\n",
      "['_', '__bytes__', '__class__', '__delattr__', '__dir__', '__doc__', '__eq__', '__format__', '__ge__', '__getattribute__', '__gt__', '__hash__', '__init__', '__init_subclass__', '__le__', '__len__', '__lt__', '__ne__', '__new__', '__pyx_vtable__', '__reduce__', '__reduce_ex__', '__repr__', '__setattr__', '__sizeof__', '__str__', '__subclasshook__', '__unicode__', 'ancestors', 'check_flag', 'children', 'cluster', 'conjuncts', 'dep', 'dep_', 'doc', 'ent_id', 'ent_id_', 'ent_iob', 'ent_iob_', 'ent_kb_id', 'ent_kb_id_', 'ent_type', 'ent_type_', 'get_extension', 'has_dep', 'has_extension', 'has_head', 'has_morph', 'has_vector', 'head', 'i', 'idx', 'iob_strings', 'is_alpha', 'is_ancestor', 'is_ascii', 'is_bracket', 'is_currency', 'is_digit', 'is_left_punct', 'is_lower', 'is_oov', 'is_punct', 'is_quote', 'is_right_punct', 'is_sent_end', 'is_sent_start', 'is_space', 'is_stop', 'is_title', 'is_upper', 'lang', 'lang_', 'left_edge', 'lefts', 'lemma', 'lemma_', 'lex', 'lex_id', 'like_email', 'like_num', 'like_url', 'lower', 'lower_', 'morph', 'n_lefts', 'n_rights', 'nbor', 'norm', 'norm_', 'orth', 'orth_', 'pos', 'pos_', 'prefix', 'prefix_', 'prob', 'rank', 'remove_extension', 'right_edge', 'rights', 'sent', 'sent_start', 'sentiment', 'set_extension', 'set_morph', 'shape', 'shape_', 'similarity', 'subtree', 'suffix', 'suffix_', 'tag', 'tag_', 'tensor', 'text', 'text_with_ws', 'vector', 'vector_norm', 'vocab', 'whitespace_']\n"
     ]
    }
   ],
   "source": [
    "for token in doc:\n",
    "    print(token, token.text, token.i, token.idx)\n",
    "    print(dir(token))\n",
    "    break# token.i = token index; token.idx = character index"
   ]
  },
  {
   "cell_type": "markdown",
   "id": "84f37c04",
   "metadata": {},
   "source": [
    "With the `doc` object, we can take a look at the NER output to see what entities were extracted from the document. Each entity (ent) in `doc.ents` is a `Span` object, which records information such as the text of the entity, label of the entity, associated token indices, and more."
   ]
  },
  {
   "cell_type": "code",
   "execution_count": 22,
   "id": "9f17a8c1",
   "metadata": {},
   "outputs": [
    {
     "name": "stdout",
     "output_type": "stream",
     "text": [
      "US GOVERNMENT TELEPHONE INTERCEPT US GOVERNMENT TELEPHONE INTERCEPT ORG\n",
      "5 5 CARDINAL\n",
      "FEBRUARY 2008 FEBRUARY 2008 DATE\n",
      "Kiev Kiev GPE\n",
      "Ukraine Ukraine GPE\n",
      "Tabriz Tabriz GPE\n",
      "Iran Iran GPE\n",
      "Kiev Kiev GPE\n",
      "24 24 CARDINAL\n",
      "Janbazan St Janbazan St PERSON\n",
      "West Ajerbaijan West Ajerbaijan GPE\n",
      "Tabriz Tabriz GPE\n",
      "Iran Iran GPE\n",
      "Sattari Khurshid Sattari Khurshid PERSON\n",
      "Urmia Urmia GPE\n",
      "the 12th the 12th DATE\n",
      "Soltan Soltan PERSON\n"
     ]
    }
   ],
   "source": [
    "for ent in doc.ents:\n",
    "    print(ent, ent.text, ent.label_)"
   ]
  },
  {
   "cell_type": "code",
   "execution_count": 23,
   "id": "deb34259",
   "metadata": {},
   "outputs": [
    {
     "data": {
      "text/plain": [
       "['_',\n",
       " '__class__',\n",
       " '__delattr__',\n",
       " '__dir__',\n",
       " '__doc__',\n",
       " '__eq__',\n",
       " '__format__',\n",
       " '__ge__',\n",
       " '__getattribute__',\n",
       " '__getitem__',\n",
       " '__gt__',\n",
       " '__hash__',\n",
       " '__init__',\n",
       " '__init_subclass__',\n",
       " '__iter__',\n",
       " '__le__',\n",
       " '__len__',\n",
       " '__lt__',\n",
       " '__ne__',\n",
       " '__new__',\n",
       " '__pyx_vtable__',\n",
       " '__reduce__',\n",
       " '__reduce_ex__',\n",
       " '__repr__',\n",
       " '__setattr__',\n",
       " '__sizeof__',\n",
       " '__str__',\n",
       " '__subclasshook__',\n",
       " '_fix_dep_copy',\n",
       " '_vector',\n",
       " '_vector_norm',\n",
       " 'as_doc',\n",
       " 'char_span',\n",
       " 'conjuncts',\n",
       " 'doc',\n",
       " 'end',\n",
       " 'end_char',\n",
       " 'ent_id',\n",
       " 'ent_id_',\n",
       " 'ents',\n",
       " 'get_extension',\n",
       " 'get_lca_matrix',\n",
       " 'has_extension',\n",
       " 'has_vector',\n",
       " 'kb_id',\n",
       " 'kb_id_',\n",
       " 'label',\n",
       " 'label_',\n",
       " 'lefts',\n",
       " 'lemma_',\n",
       " 'n_lefts',\n",
       " 'n_rights',\n",
       " 'noun_chunks',\n",
       " 'orth_',\n",
       " 'remove_extension',\n",
       " 'rights',\n",
       " 'root',\n",
       " 'sent',\n",
       " 'sentiment',\n",
       " 'sents',\n",
       " 'set_extension',\n",
       " 'similarity',\n",
       " 'start',\n",
       " 'start_char',\n",
       " 'subtree',\n",
       " 'tensor',\n",
       " 'text',\n",
       " 'text_with_ws',\n",
       " 'to_array',\n",
       " 'vector',\n",
       " 'vector_norm',\n",
       " 'vocab']"
      ]
     },
     "execution_count": 23,
     "metadata": {},
     "output_type": "execute_result"
    }
   ],
   "source": [
    "dir(list(doc.ents)[0])"
   ]
  },
  {
   "cell_type": "markdown",
   "id": "33eb7c90",
   "metadata": {},
   "source": [
    "Let's go back to token iteration. Remember IOB encoding? The token object keeps track of these labels, separate from the `Span` information."
   ]
  },
  {
   "cell_type": "code",
   "execution_count": 24,
   "id": "43c226ef",
   "metadata": {},
   "outputs": [
    {
     "name": "stdout",
     "output_type": "stream",
     "text": [
      "US B ORG\n",
      "GOVERNMENT I ORG\n",
      "TELEPHONE I ORG\n",
      "INTERCEPT I ORG\n",
      ": O \n",
      "5 B CARDINAL\n",
      "FEBRUARY B DATE\n",
      "2008 I DATE\n",
      "< O \n",
      "br><br O \n",
      "> O \n",
      "Call O \n",
      "placed O \n",
      "from O \n",
      "Kiev B GPE\n",
      ", O \n",
      "Ukraine B GPE\n",
      "to O \n",
      "Tabriz B GPE\n",
      ", O \n",
      "Iran B GPE\n",
      ". O \n"
     ]
    }
   ],
   "source": [
    "sents = list(doc.sents)\n",
    "for token in sents[0]: # Let's just take a look at the first sentence\n",
    "    print(token, token.ent_iob_, token.ent_type_)"
   ]
  },
  {
   "cell_type": "markdown",
   "id": "9beb8ccc",
   "metadata": {},
   "source": [
    "Since we're working with NER, we can use displaCy to visualize entities."
   ]
  },
  {
   "cell_type": "code",
   "execution_count": 25,
   "id": "eeab0744",
   "metadata": {},
   "outputs": [
    {
     "data": {
      "text/html": [
       "<span class=\"tex2jax_ignore\"><div class=\"entities\" style=\"line-height: 2.5; direction: ltr\">\n",
       "<mark class=\"entity\" style=\"background: #7aecec; padding: 0.45em 0.6em; margin: 0 0.25em; line-height: 1; border-radius: 0.35em;\">\n",
       "    US GOVERNMENT TELEPHONE INTERCEPT\n",
       "    <span style=\"font-size: 0.8em; font-weight: bold; line-height: 1; border-radius: 0.35em; vertical-align: middle; margin-left: 0.5rem\">ORG</span>\n",
       "</mark>\n",
       ": \n",
       "<mark class=\"entity\" style=\"background: #e4e7d2; padding: 0.45em 0.6em; margin: 0 0.25em; line-height: 1; border-radius: 0.35em;\">\n",
       "    5\n",
       "    <span style=\"font-size: 0.8em; font-weight: bold; line-height: 1; border-radius: 0.35em; vertical-align: middle; margin-left: 0.5rem\">CARDINAL</span>\n",
       "</mark>\n",
       " \n",
       "<mark class=\"entity\" style=\"background: #bfe1d9; padding: 0.45em 0.6em; margin: 0 0.25em; line-height: 1; border-radius: 0.35em;\">\n",
       "    FEBRUARY 2008\n",
       "    <span style=\"font-size: 0.8em; font-weight: bold; line-height: 1; border-radius: 0.35em; vertical-align: middle; margin-left: 0.5rem\">DATE</span>\n",
       "</mark>\n",
       "&lt;br&gt;&lt;br&gt;Call placed from \n",
       "<mark class=\"entity\" style=\"background: #feca74; padding: 0.45em 0.6em; margin: 0 0.25em; line-height: 1; border-radius: 0.35em;\">\n",
       "    Kiev\n",
       "    <span style=\"font-size: 0.8em; font-weight: bold; line-height: 1; border-radius: 0.35em; vertical-align: middle; margin-left: 0.5rem\">GPE</span>\n",
       "</mark>\n",
       ", \n",
       "<mark class=\"entity\" style=\"background: #feca74; padding: 0.45em 0.6em; margin: 0 0.25em; line-height: 1; border-radius: 0.35em;\">\n",
       "    Ukraine\n",
       "    <span style=\"font-size: 0.8em; font-weight: bold; line-height: 1; border-radius: 0.35em; vertical-align: middle; margin-left: 0.5rem\">GPE</span>\n",
       "</mark>\n",
       " to \n",
       "<mark class=\"entity\" style=\"background: #feca74; padding: 0.45em 0.6em; margin: 0 0.25em; line-height: 1; border-radius: 0.35em;\">\n",
       "    Tabriz\n",
       "    <span style=\"font-size: 0.8em; font-weight: bold; line-height: 1; border-radius: 0.35em; vertical-align: middle; margin-left: 0.5rem\">GPE</span>\n",
       "</mark>\n",
       ", \n",
       "<mark class=\"entity\" style=\"background: #feca74; padding: 0.45em 0.6em; margin: 0 0.25em; line-height: 1; border-radius: 0.35em;\">\n",
       "    Iran\n",
       "    <span style=\"font-size: 0.8em; font-weight: bold; line-height: 1; border-radius: 0.35em; vertical-align: middle; margin-left: 0.5rem\">GPE</span>\n",
       "</mark>\n",
       ".  &lt;br&gt;&lt;br&gt; The call from \n",
       "<mark class=\"entity\" style=\"background: #feca74; padding: 0.45em 0.6em; margin: 0 0.25em; line-height: 1; border-radius: 0.35em;\">\n",
       "    Kiev\n",
       "    <span style=\"font-size: 0.8em; font-weight: bold; line-height: 1; border-radius: 0.35em; vertical-align: middle; margin-left: 0.5rem\">GPE</span>\n",
       "</mark>\n",
       " was from a prepaid cell phone using an unlisted ID number supplied by an Internet café.  The receiver of the call was at the address: \n",
       "<mark class=\"entity\" style=\"background: #e4e7d2; padding: 0.45em 0.6em; margin: 0 0.25em; line-height: 1; border-radius: 0.35em;\">\n",
       "    24\n",
       "    <span style=\"font-size: 0.8em; font-weight: bold; line-height: 1; border-radius: 0.35em; vertical-align: middle; margin-left: 0.5rem\">CARDINAL</span>\n",
       "</mark>\n",
       " \n",
       "<mark class=\"entity\" style=\"background: #aa9cfc; padding: 0.45em 0.6em; margin: 0 0.25em; line-height: 1; border-radius: 0.35em;\">\n",
       "    Janbazan St\n",
       "    <span style=\"font-size: 0.8em; font-weight: bold; line-height: 1; border-radius: 0.35em; vertical-align: middle; margin-left: 0.5rem\">PERSON</span>\n",
       "</mark>\n",
       ", \n",
       "<mark class=\"entity\" style=\"background: #feca74; padding: 0.45em 0.6em; margin: 0 0.25em; line-height: 1; border-radius: 0.35em;\">\n",
       "    West Ajerbaijan\n",
       "    <span style=\"font-size: 0.8em; font-weight: bold; line-height: 1; border-radius: 0.35em; vertical-align: middle; margin-left: 0.5rem\">GPE</span>\n",
       "</mark>\n",
       ", \n",
       "<mark class=\"entity\" style=\"background: #feca74; padding: 0.45em 0.6em; margin: 0 0.25em; line-height: 1; border-radius: 0.35em;\">\n",
       "    Tabriz\n",
       "    <span style=\"font-size: 0.8em; font-weight: bold; line-height: 1; border-radius: 0.35em; vertical-align: middle; margin-left: 0.5rem\">GPE</span>\n",
       "</mark>\n",
       ", \n",
       "<mark class=\"entity\" style=\"background: #feca74; padding: 0.45em 0.6em; margin: 0 0.25em; line-height: 1; border-radius: 0.35em;\">\n",
       "    Iran\n",
       "    <span style=\"font-size: 0.8em; font-weight: bold; line-height: 1; border-radius: 0.35em; vertical-align: middle; margin-left: 0.5rem\">GPE</span>\n",
       "</mark>\n",
       ".  This address is the residence of \n",
       "<mark class=\"entity\" style=\"background: #aa9cfc; padding: 0.45em 0.6em; margin: 0 0.25em; line-height: 1; border-radius: 0.35em;\">\n",
       "    Sattari Khurshid\n",
       "    <span style=\"font-size: 0.8em; font-weight: bold; line-height: 1; border-radius: 0.35em; vertical-align: middle; margin-left: 0.5rem\">PERSON</span>\n",
       "</mark>\n",
       ". The caller says, “The drilling equipment is scheduled to arrive at \n",
       "<mark class=\"entity\" style=\"background: #feca74; padding: 0.45em 0.6em; margin: 0 0.25em; line-height: 1; border-radius: 0.35em;\">\n",
       "    Urmia\n",
       "    <span style=\"font-size: 0.8em; font-weight: bold; line-height: 1; border-radius: 0.35em; vertical-align: middle; margin-left: 0.5rem\">GPE</span>\n",
       "</mark>\n",
       " on \n",
       "<mark class=\"entity\" style=\"background: #bfe1d9; padding: 0.45em 0.6em; margin: 0 0.25em; line-height: 1; border-radius: 0.35em;\">\n",
       "    the 12th\n",
       "    <span style=\"font-size: 0.8em; font-weight: bold; line-height: 1; border-radius: 0.35em; vertical-align: middle; margin-left: 0.5rem\">DATE</span>\n",
       "</mark>\n",
       ".”  The receiver says, “All is well then.  \n",
       "<mark class=\"entity\" style=\"background: #aa9cfc; padding: 0.45em 0.6em; margin: 0 0.25em; line-height: 1; border-radius: 0.35em;\">\n",
       "    Soltan\n",
       "    <span style=\"font-size: 0.8em; font-weight: bold; line-height: 1; border-radius: 0.35em; vertical-align: middle; margin-left: 0.5rem\">PERSON</span>\n",
       "</mark>\n",
       " will handle all the arrangements.”  </div></span>"
      ],
      "text/plain": [
       "<IPython.core.display.HTML object>"
      ]
     },
     "metadata": {},
     "output_type": "display_data"
    }
   ],
   "source": [
    "spacy.displacy.render(doc, style='ent')"
   ]
  },
  {
   "cell_type": "markdown",
   "id": "1518d5e0",
   "metadata": {},
   "source": [
    "---\n",
    "We can also use displaCy to display only the PERSON entities."
   ]
  },
  {
   "cell_type": "code",
   "execution_count": 27,
   "id": "b657aa89",
   "metadata": {},
   "outputs": [
    {
     "data": {
      "text/html": [
       "<span class=\"tex2jax_ignore\"><div class=\"entities\" style=\"line-height: 2.5; direction: ltr\">US GOVERNMENT TELEPHONE INTERCEPT: 5 FEBRUARY 2008&lt;br&gt;&lt;br&gt;Call placed from \n",
       "<mark class=\"entity\" style=\"background: #feca74; padding: 0.45em 0.6em; margin: 0 0.25em; line-height: 1; border-radius: 0.35em;\">\n",
       "    Kiev\n",
       "    <span style=\"font-size: 0.8em; font-weight: bold; line-height: 1; border-radius: 0.35em; vertical-align: middle; margin-left: 0.5rem\">GPE</span>\n",
       "</mark>\n",
       ", \n",
       "<mark class=\"entity\" style=\"background: #feca74; padding: 0.45em 0.6em; margin: 0 0.25em; line-height: 1; border-radius: 0.35em;\">\n",
       "    Ukraine\n",
       "    <span style=\"font-size: 0.8em; font-weight: bold; line-height: 1; border-radius: 0.35em; vertical-align: middle; margin-left: 0.5rem\">GPE</span>\n",
       "</mark>\n",
       " to \n",
       "<mark class=\"entity\" style=\"background: #feca74; padding: 0.45em 0.6em; margin: 0 0.25em; line-height: 1; border-radius: 0.35em;\">\n",
       "    Tabriz\n",
       "    <span style=\"font-size: 0.8em; font-weight: bold; line-height: 1; border-radius: 0.35em; vertical-align: middle; margin-left: 0.5rem\">GPE</span>\n",
       "</mark>\n",
       ", \n",
       "<mark class=\"entity\" style=\"background: #feca74; padding: 0.45em 0.6em; margin: 0 0.25em; line-height: 1; border-radius: 0.35em;\">\n",
       "    Iran\n",
       "    <span style=\"font-size: 0.8em; font-weight: bold; line-height: 1; border-radius: 0.35em; vertical-align: middle; margin-left: 0.5rem\">GPE</span>\n",
       "</mark>\n",
       ".  &lt;br&gt;&lt;br&gt; The call from \n",
       "<mark class=\"entity\" style=\"background: #feca74; padding: 0.45em 0.6em; margin: 0 0.25em; line-height: 1; border-radius: 0.35em;\">\n",
       "    Kiev\n",
       "    <span style=\"font-size: 0.8em; font-weight: bold; line-height: 1; border-radius: 0.35em; vertical-align: middle; margin-left: 0.5rem\">GPE</span>\n",
       "</mark>\n",
       " was from a prepaid cell phone using an unlisted ID number supplied by an Internet café.  The receiver of the call was at the address: 24 \n",
       "<mark class=\"entity\" style=\"background: #aa9cfc; padding: 0.45em 0.6em; margin: 0 0.25em; line-height: 1; border-radius: 0.35em;\">\n",
       "    Janbazan St\n",
       "    <span style=\"font-size: 0.8em; font-weight: bold; line-height: 1; border-radius: 0.35em; vertical-align: middle; margin-left: 0.5rem\">PERSON</span>\n",
       "</mark>\n",
       ", \n",
       "<mark class=\"entity\" style=\"background: #feca74; padding: 0.45em 0.6em; margin: 0 0.25em; line-height: 1; border-radius: 0.35em;\">\n",
       "    West Ajerbaijan\n",
       "    <span style=\"font-size: 0.8em; font-weight: bold; line-height: 1; border-radius: 0.35em; vertical-align: middle; margin-left: 0.5rem\">GPE</span>\n",
       "</mark>\n",
       ", \n",
       "<mark class=\"entity\" style=\"background: #feca74; padding: 0.45em 0.6em; margin: 0 0.25em; line-height: 1; border-radius: 0.35em;\">\n",
       "    Tabriz\n",
       "    <span style=\"font-size: 0.8em; font-weight: bold; line-height: 1; border-radius: 0.35em; vertical-align: middle; margin-left: 0.5rem\">GPE</span>\n",
       "</mark>\n",
       ", \n",
       "<mark class=\"entity\" style=\"background: #feca74; padding: 0.45em 0.6em; margin: 0 0.25em; line-height: 1; border-radius: 0.35em;\">\n",
       "    Iran\n",
       "    <span style=\"font-size: 0.8em; font-weight: bold; line-height: 1; border-radius: 0.35em; vertical-align: middle; margin-left: 0.5rem\">GPE</span>\n",
       "</mark>\n",
       ".  This address is the residence of \n",
       "<mark class=\"entity\" style=\"background: #aa9cfc; padding: 0.45em 0.6em; margin: 0 0.25em; line-height: 1; border-radius: 0.35em;\">\n",
       "    Sattari Khurshid\n",
       "    <span style=\"font-size: 0.8em; font-weight: bold; line-height: 1; border-radius: 0.35em; vertical-align: middle; margin-left: 0.5rem\">PERSON</span>\n",
       "</mark>\n",
       ". The caller says, “The drilling equipment is scheduled to arrive at \n",
       "<mark class=\"entity\" style=\"background: #feca74; padding: 0.45em 0.6em; margin: 0 0.25em; line-height: 1; border-radius: 0.35em;\">\n",
       "    Urmia\n",
       "    <span style=\"font-size: 0.8em; font-weight: bold; line-height: 1; border-radius: 0.35em; vertical-align: middle; margin-left: 0.5rem\">GPE</span>\n",
       "</mark>\n",
       " on the 12th.”  The receiver says, “All is well then.  \n",
       "<mark class=\"entity\" style=\"background: #aa9cfc; padding: 0.45em 0.6em; margin: 0 0.25em; line-height: 1; border-radius: 0.35em;\">\n",
       "    Soltan\n",
       "    <span style=\"font-size: 0.8em; font-weight: bold; line-height: 1; border-radius: 0.35em; vertical-align: middle; margin-left: 0.5rem\">PERSON</span>\n",
       "</mark>\n",
       " will handle all the arrangements.”  </div></span>"
      ],
      "text/plain": [
       "<IPython.core.display.HTML object>"
      ]
     },
     "metadata": {},
     "output_type": "display_data"
    }
   ],
   "source": [
    "options={'ents' : ['PERSON','GPE']}\n",
    "spacy.displacy.render(doc, style='ent', options=options)"
   ]
  },
  {
   "cell_type": "markdown",
   "id": "30ba0214",
   "metadata": {},
   "source": [
    "###Actual code here"
   ]
  },
  {
   "cell_type": "code",
   "execution_count": 33,
   "id": "004ae64b",
   "metadata": {},
   "outputs": [],
   "source": [
    "# Load the documents\n",
    "data_file_1 = 'Documents_Dataset_1.json'\n",
    "# data_file_2 = 'Documents_Dataset_2.json'\n",
    "# data_file_3 = 'Documents_Dataset_3.json'\n",
    "\n",
    "df1 = pd.read_json(data_file_1, orient='records', lines=True)\n",
    "# df2 = pd.read_json(data_file_2, orient='records', lines=True)\n",
    "# df3 = pd.read_json(data_file_3, orient='records', lines=True)"
   ]
  },
  {
   "cell_type": "code",
   "execution_count": 45,
   "id": "a65cb9be",
   "metadata": {},
   "outputs": [
    {
     "data": {
      "text/plain": [
       "['Kiev', 'Iran', 'West Ajerbaijan', 'Tabriz', 'Ukraine', 'Urmia']"
      ]
     },
     "execution_count": 45,
     "metadata": {},
     "output_type": "execute_result"
    }
   ],
   "source": [
    "doc = nlp(df1['contents'][0])\n",
    "geo_ents = list({str(word) for word in doc.ents if word.label_=='GPE'})\n",
    "geo_ents"
   ]
  },
  {
   "cell_type": "code",
   "execution_count": 47,
   "id": "35f3b159",
   "metadata": {},
   "outputs": [],
   "source": [
    "# Loop through each document to create a list of each Person or GPE in each document as an array\n",
    "df = df1\n",
    "documentIDs = []\n",
    "documentGeos = []\n",
    "documentPeople = []\n",
    "\n",
    "for i in range(len(df['contents'])):\n",
    "    doc = nlp(df1['contents'][i])\n",
    "    documentIDs.append(df['id'][i])\n",
    "    documentGeos.append(list({str(word) for word in doc.ents if word.label_=='GPE'}))\n",
    "    documentPeople.append(list({str(word) for word in doc.ents if word.label_=='PERSON'}))"
   ]
  },
  {
   "cell_type": "code",
   "execution_count": 49,
   "id": "c7ebe504",
   "metadata": {},
   "outputs": [
    {
     "data": {
      "text/plain": [
       "102"
      ]
     },
     "execution_count": 49,
     "metadata": {},
     "output_type": "execute_result"
    }
   ],
   "source": [
    "# Print some checks\n",
    "len(documentIDs)"
   ]
  },
  {
   "cell_type": "code",
   "execution_count": 50,
   "id": "dd1542ba",
   "metadata": {},
   "outputs": [
    {
     "data": {
      "text/plain": [
       "102"
      ]
     },
     "execution_count": 50,
     "metadata": {},
     "output_type": "execute_result"
    }
   ],
   "source": [
    "len(documentGeos)"
   ]
  },
  {
   "cell_type": "code",
   "execution_count": 51,
   "id": "3ba4f4b8",
   "metadata": {},
   "outputs": [
    {
     "data": {
      "text/plain": [
       "102"
      ]
     },
     "execution_count": 51,
     "metadata": {},
     "output_type": "execute_result"
    }
   ],
   "source": [
    "len(documentPeople)"
   ]
  },
  {
   "cell_type": "code",
   "execution_count": 52,
   "id": "59a4401d",
   "metadata": {},
   "outputs": [
    {
     "data": {
      "text/plain": [
       "['Kiev', 'Iran', 'West Ajerbaijan', 'Tabriz', 'Ukraine', 'Urmia']"
      ]
     },
     "execution_count": 52,
     "metadata": {},
     "output_type": "execute_result"
    }
   ],
   "source": [
    "documentGeos[0]"
   ]
  },
  {
   "cell_type": "code",
   "execution_count": 53,
   "id": "41d85e15",
   "metadata": {},
   "outputs": [
    {
     "data": {
      "text/plain": [
       "['Soltan', 'Janbazan St', 'Sattari Khurshid']"
      ]
     },
     "execution_count": 53,
     "metadata": {},
     "output_type": "execute_result"
    }
   ],
   "source": [
    "documentPeople[0]"
   ]
  },
  {
   "cell_type": "code",
   "execution_count": 58,
   "id": "b49b1ace",
   "metadata": {},
   "outputs": [],
   "source": [
    "# Make output JSON objects\n",
    "output = []\n",
    "for i in range(len(documentIDs)):\n",
    "    tempObj = {}\n",
    "    tempObj[\"id\"] = documentIDs[i]\n",
    "    tempObj[\"Geos\"] = documentGeos[i]\n",
    "    tempObj[\"People\"] = documentPeople[i]\n",
    "    output.append(tempObj)\n",
    "    \n",
    "outJSON = {}\n",
    "outJSON['Documents'] = output"
   ]
  },
  {
   "cell_type": "code",
   "execution_count": 61,
   "id": "78ea419b",
   "metadata": {},
   "outputs": [
    {
     "data": {
      "text/plain": [
       "dict"
      ]
     },
     "execution_count": 61,
     "metadata": {},
     "output_type": "execute_result"
    }
   ],
   "source": [
    "type(outJSON)"
   ]
  },
  {
   "cell_type": "code",
   "execution_count": 63,
   "id": "87202e4d",
   "metadata": {},
   "outputs": [],
   "source": [
    "# Save to file\n",
    "import json\n",
    "filename = \"Entities_Dataset_1.json\"\n",
    "with open(filename, 'w') as outfile:\n",
    "    json.dump(outJSON, outfile)"
   ]
  },
  {
   "cell_type": "markdown",
   "id": "c00c6697",
   "metadata": {},
   "source": [
    "### Drawbacks"
   ]
  },
  {
   "cell_type": "markdown",
   "id": "0849885e",
   "metadata": {},
   "source": [
    "Most off-the-shelf (OTS) models such as this one have been trained on \"well-formed\" or edited text. This usually means these models underperform on text from more colloquial sources with non-standardized capitalization, e.g., social media. You'll also see a lower recall on unseen or rarely-seen entities.  "
   ]
  },
  {
   "cell_type": "code",
   "execution_count": 20,
   "id": "f326d0f0",
   "metadata": {},
   "outputs": [],
   "source": [
    "text1 = 'excited for my trip to seattle!'\n",
    "text2 = 'excited for my trip to Seattle!'\n",
    "\n",
    "doc1 = nlp(text1)\n",
    "doc2 = nlp(text2)"
   ]
  },
  {
   "cell_type": "code",
   "execution_count": 21,
   "id": "ed3726a7",
   "metadata": {},
   "outputs": [
    {
     "name": "stderr",
     "output_type": "stream",
     "text": [
      "/home/ecary/.local/lib/python3.10/site-packages/spacy/displacy/__init__.py:200: UserWarning: [W006] No entities to visualize found in Doc object. If this is surprising to you, make sure the Doc was processed using a model that supports named entity recognition, and check the `doc.ents` property manually if necessary.\n",
      "  warnings.warn(Warnings.W006)\n"
     ]
    },
    {
     "data": {
      "text/html": [
       "<span class=\"tex2jax_ignore\"><div class=\"entities\" style=\"line-height: 2.5; direction: ltr\">excited for my trip to seattle!</div></span>"
      ],
      "text/plain": [
       "<IPython.core.display.HTML object>"
      ]
     },
     "metadata": {},
     "output_type": "display_data"
    }
   ],
   "source": [
    "spacy.displacy.render(doc1, style='ent')"
   ]
  },
  {
   "cell_type": "code",
   "execution_count": 22,
   "id": "2374705c",
   "metadata": {},
   "outputs": [
    {
     "data": {
      "text/html": [
       "<span class=\"tex2jax_ignore\"><div class=\"entities\" style=\"line-height: 2.5; direction: ltr\">excited for my trip to \n",
       "<mark class=\"entity\" style=\"background: #feca74; padding: 0.45em 0.6em; margin: 0 0.25em; line-height: 1; border-radius: 0.35em;\">\n",
       "    Seattle\n",
       "    <span style=\"font-size: 0.8em; font-weight: bold; line-height: 1; border-radius: 0.35em; vertical-align: middle; margin-left: 0.5rem\">GPE</span>\n",
       "</mark>\n",
       "!</div></span>"
      ],
      "text/plain": [
       "<IPython.core.display.HTML object>"
      ]
     },
     "metadata": {},
     "output_type": "display_data"
    }
   ],
   "source": [
    "spacy.displacy.render(doc2, style='ent')"
   ]
  },
  {
   "cell_type": "markdown",
   "id": "f820d106",
   "metadata": {},
   "source": [
    "Bias and fairness issues are present in NER, just as they are throughout AI. Let's take a look at Western/Euro-centric names compared to non-Western names."
   ]
  },
  {
   "cell_type": "code",
   "execution_count": 23,
   "id": "f9f0ed89",
   "metadata": {},
   "outputs": [],
   "source": [
    "text1 = 'john and jessica finished the book together'\n",
    "text2 = 'ahmed and leila finished the book together'\n",
    "\n",
    "doc1 = nlp(text1)\n",
    "doc2 = nlp(text2)"
   ]
  },
  {
   "cell_type": "code",
   "execution_count": 24,
   "id": "22cc1d1c",
   "metadata": {},
   "outputs": [
    {
     "data": {
      "text/html": [
       "<span class=\"tex2jax_ignore\"><div class=\"entities\" style=\"line-height: 2.5; direction: ltr\">\n",
       "<mark class=\"entity\" style=\"background: #aa9cfc; padding: 0.45em 0.6em; margin: 0 0.25em; line-height: 1; border-radius: 0.35em;\">\n",
       "    john\n",
       "    <span style=\"font-size: 0.8em; font-weight: bold; line-height: 1; border-radius: 0.35em; vertical-align: middle; margin-left: 0.5rem\">PERSON</span>\n",
       "</mark>\n",
       " and \n",
       "<mark class=\"entity\" style=\"background: #aa9cfc; padding: 0.45em 0.6em; margin: 0 0.25em; line-height: 1; border-radius: 0.35em;\">\n",
       "    jessica\n",
       "    <span style=\"font-size: 0.8em; font-weight: bold; line-height: 1; border-radius: 0.35em; vertical-align: middle; margin-left: 0.5rem\">PERSON</span>\n",
       "</mark>\n",
       " finished the book together</div></span>"
      ],
      "text/plain": [
       "<IPython.core.display.HTML object>"
      ]
     },
     "metadata": {},
     "output_type": "display_data"
    }
   ],
   "source": [
    "spacy.displacy.render(doc1, style='ent')"
   ]
  },
  {
   "cell_type": "code",
   "execution_count": 25,
   "id": "1d06349f",
   "metadata": {},
   "outputs": [
    {
     "data": {
      "text/html": [
       "<span class=\"tex2jax_ignore\"><div class=\"entities\" style=\"line-height: 2.5; direction: ltr\">\n",
       "<mark class=\"entity\" style=\"background: #aa9cfc; padding: 0.45em 0.6em; margin: 0 0.25em; line-height: 1; border-radius: 0.35em;\">\n",
       "    ahmed\n",
       "    <span style=\"font-size: 0.8em; font-weight: bold; line-height: 1; border-radius: 0.35em; vertical-align: middle; margin-left: 0.5rem\">PERSON</span>\n",
       "</mark>\n",
       " and leila finished the book together</div></span>"
      ],
      "text/plain": [
       "<IPython.core.display.HTML object>"
      ]
     },
     "metadata": {},
     "output_type": "display_data"
    }
   ],
   "source": [
    "spacy.displacy.render(doc2, style='ent')"
   ]
  },
  {
   "cell_type": "code",
   "execution_count": 26,
   "id": "7441523f",
   "metadata": {},
   "outputs": [],
   "source": [
    "text1 = 'Sam and Jessica finished the book together.'\n",
    "text2 = 'Leila and Musu finished the book together and posted their success on Twitter.'\n",
    "text3 = 'Leila Mansour and N\\'Mah Bittar finished the book together and posted their success on twitter.'\n",
    "\n",
    "doc1 = nlp(text1)\n",
    "doc2 = nlp(text2)\n",
    "doc3 = nlp(text3)"
   ]
  },
  {
   "cell_type": "code",
   "execution_count": 27,
   "id": "9d6e4868",
   "metadata": {},
   "outputs": [
    {
     "data": {
      "text/html": [
       "<span class=\"tex2jax_ignore\"><div class=\"entities\" style=\"line-height: 2.5; direction: ltr\">\n",
       "<mark class=\"entity\" style=\"background: #aa9cfc; padding: 0.45em 0.6em; margin: 0 0.25em; line-height: 1; border-radius: 0.35em;\">\n",
       "    Sam\n",
       "    <span style=\"font-size: 0.8em; font-weight: bold; line-height: 1; border-radius: 0.35em; vertical-align: middle; margin-left: 0.5rem\">PERSON</span>\n",
       "</mark>\n",
       " and \n",
       "<mark class=\"entity\" style=\"background: #aa9cfc; padding: 0.45em 0.6em; margin: 0 0.25em; line-height: 1; border-radius: 0.35em;\">\n",
       "    Jessica\n",
       "    <span style=\"font-size: 0.8em; font-weight: bold; line-height: 1; border-radius: 0.35em; vertical-align: middle; margin-left: 0.5rem\">PERSON</span>\n",
       "</mark>\n",
       " finished the book together.</div></span>"
      ],
      "text/plain": [
       "<IPython.core.display.HTML object>"
      ]
     },
     "metadata": {},
     "output_type": "display_data"
    }
   ],
   "source": [
    "spacy.displacy.render(doc1, style='ent')"
   ]
  },
  {
   "cell_type": "code",
   "execution_count": 28,
   "id": "4c32e949",
   "metadata": {},
   "outputs": [
    {
     "data": {
      "text/html": [
       "<span class=\"tex2jax_ignore\"><div class=\"entities\" style=\"line-height: 2.5; direction: ltr\">Leila and \n",
       "<mark class=\"entity\" style=\"background: #7aecec; padding: 0.45em 0.6em; margin: 0 0.25em; line-height: 1; border-radius: 0.35em;\">\n",
       "    Musu\n",
       "    <span style=\"font-size: 0.8em; font-weight: bold; line-height: 1; border-radius: 0.35em; vertical-align: middle; margin-left: 0.5rem\">ORG</span>\n",
       "</mark>\n",
       " finished the book together and posted their success on \n",
       "<mark class=\"entity\" style=\"background: #bfeeb7; padding: 0.45em 0.6em; margin: 0 0.25em; line-height: 1; border-radius: 0.35em;\">\n",
       "    Twitter\n",
       "    <span style=\"font-size: 0.8em; font-weight: bold; line-height: 1; border-radius: 0.35em; vertical-align: middle; margin-left: 0.5rem\">PRODUCT</span>\n",
       "</mark>\n",
       ".</div></span>"
      ],
      "text/plain": [
       "<IPython.core.display.HTML object>"
      ]
     },
     "metadata": {},
     "output_type": "display_data"
    }
   ],
   "source": [
    "spacy.displacy.render(doc2, style='ent')"
   ]
  },
  {
   "cell_type": "code",
   "execution_count": 29,
   "id": "0050f8d2",
   "metadata": {},
   "outputs": [
    {
     "data": {
      "text/html": [
       "<span class=\"tex2jax_ignore\"><div class=\"entities\" style=\"line-height: 2.5; direction: ltr\">\n",
       "<mark class=\"entity\" style=\"background: #aa9cfc; padding: 0.45em 0.6em; margin: 0 0.25em; line-height: 1; border-radius: 0.35em;\">\n",
       "    Leila Mansour\n",
       "    <span style=\"font-size: 0.8em; font-weight: bold; line-height: 1; border-radius: 0.35em; vertical-align: middle; margin-left: 0.5rem\">PERSON</span>\n",
       "</mark>\n",
       " and \n",
       "<mark class=\"entity\" style=\"background: #aa9cfc; padding: 0.45em 0.6em; margin: 0 0.25em; line-height: 1; border-radius: 0.35em;\">\n",
       "    N'Mah Bittar\n",
       "    <span style=\"font-size: 0.8em; font-weight: bold; line-height: 1; border-radius: 0.35em; vertical-align: middle; margin-left: 0.5rem\">PERSON</span>\n",
       "</mark>\n",
       " finished the book together and posted their success on twitter.</div></span>"
      ],
      "text/plain": [
       "<IPython.core.display.HTML object>"
      ]
     },
     "metadata": {},
     "output_type": "display_data"
    }
   ],
   "source": [
    "spacy.displacy.render(doc3, style='ent')"
   ]
  },
  {
   "cell_type": "markdown",
   "id": "181bac48",
   "metadata": {},
   "source": [
    "### Exercise\n",
    "Take a look at the named entities available in the sample dataset (all 500 paragraphs). See if you can answer the following questions:\n",
    "\n",
    "1) What are the 10 most common entities?\\\n",
    "2) What are the 10 most common entities for three (3) types of entities (PERSON, GPE, etc.)?\\\n",
    "3) What are the 10 most common entities if we restrict entity type to PERSON, GPE, LOC, and ORG? "
   ]
  },
  {
   "cell_type": "code",
   "execution_count": null,
   "id": "2c85896d",
   "metadata": {},
   "outputs": [],
   "source": []
  },
  {
   "cell_type": "markdown",
   "id": "94ef1265",
   "metadata": {},
   "source": [
    "### Challenge\n",
    "\n",
    "If we categorize articles by named entities, will we see similar topics or subject matters within a group? What if we used these entities as shorthand for content tags?\n",
    "\n",
    "What about the \"highlights\" available for each article? These highlights are brief snippets summarizing the corresponding article. Do you see overlap between the entities within an article and those included in the highlights?"
   ]
  },
  {
   "cell_type": "code",
   "execution_count": null,
   "id": "a161436f",
   "metadata": {},
   "outputs": [],
   "source": []
  },
  {
   "cell_type": "markdown",
   "id": "f7283b4c",
   "metadata": {},
   "source": [
    "## Coreference Resolution"
   ]
  },
  {
   "cell_type": "markdown",
   "id": "37808e70",
   "metadata": {},
   "source": [
    "Let's move on to coreference resolution. Now we're going to take a look at `allennlp`, which offers an OTS coreference resolution model. You'll notice this is a SpanBERT model, which is based on a version of BERT that masks on phrases, or spans, rather than tokens.\n",
    "\n",
    "You can also check out their demo + visualizer [here](https://demo.allennlp.org/coreference-resolution)."
   ]
  },
  {
   "cell_type": "code",
   "execution_count": 30,
   "id": "35ca8ed8",
   "metadata": {},
   "outputs": [
    {
     "data": {
      "image/png": "[encoded data removed]",
      "text/plain": [
       "<PIL.PngImagePlugin.PngImageFile image mode=RGBA size=1444x187 at 0x7FEBB402FA90>"
      ]
     },
     "metadata": {},
     "output_type": "display_data"
    }
   ],
   "source": [
    "display(Image.open(\"coref_viz.png\"))"
   ]
  },
  {
   "cell_type": "markdown",
   "id": "96c7cfc1",
   "metadata": {},
   "source": [
    "Load the model:"
   ]
  },
  {
   "cell_type": "code",
   "execution_count": 31,
   "id": "130b52d0",
   "metadata": {},
   "outputs": [
    {
     "name": "stderr",
     "output_type": "stream",
     "text": [
      "Some weights of BertModel were not initialized from the model checkpoint at SpanBERT/spanbert-large-cased and are newly initialized: ['bert.pooler.dense.weight', 'bert.pooler.dense.bias']\n",
      "You should probably TRAIN this model on a down-stream task to be able to use it for predictions and inference.\n"
     ]
    }
   ],
   "source": [
    "from allennlp.predictors.predictor import Predictor\n",
    "import allennlp_models.tagging\n",
    "\n",
    "predictor = Predictor.from_path(\"https://storage.googleapis.com/allennlp-public-models/coref-spanbert-large-2021.03.10.tar.gz\")"
   ]
  },
  {
   "cell_type": "code",
   "execution_count": 32,
   "id": "90ed09fb",
   "metadata": {},
   "outputs": [
    {
     "data": {
      "text/plain": [
       "\"Frail and tired of leading a secret life for four decades, 66-year-old Clarence David Moore called police this week to surrender. The deputy who answered thought it was a prank. It wasn't. Moore escaped from police custody three times during the 1970s and eventually settled into a quiet life, living in Kentucky since at least 2009. His health is poor from a stroke late last year and he has difficulty speaking.\""
      ]
     },
     "execution_count": 32,
     "metadata": {},
     "output_type": "execute_result"
    }
   ],
   "source": [
    "# This article was selected because it does have some instances of coreference using both proper nouns and pronouns.\n",
    "df['article'][3] "
   ]
  },
  {
   "cell_type": "markdown",
   "id": "forced-phase",
   "metadata": {},
   "source": [
    "Potential spans are often noun phrases, including proper nouns and pronouns."
   ]
  },
  {
   "cell_type": "code",
   "execution_count": 33,
   "id": "combined-reference",
   "metadata": {},
   "outputs": [
    {
     "name": "stdout",
     "output_type": "stream",
     "text": [
      "[('Frail', 'NOUN', 'NN'), ('life', 'NOUN', 'NN'), ('decades', 'NOUN', 'NNS'), ('year', 'NOUN', 'NN'), ('Clarence', 'PROPN', 'NNP'), ('David', 'PROPN', 'NNP'), ('Moore', 'PROPN', 'NNP'), ('police', 'NOUN', 'NNS'), ('week', 'NOUN', 'NN')]\n",
      "[('deputy', 'NOUN', 'NN'), ('who', 'PRON', 'WP'), ('it', 'PRON', 'PRP'), ('prank', 'NOUN', 'NN')]\n",
      "[('It', 'PRON', 'PRP')]\n",
      "[('Moore', 'PROPN', 'NNP'), ('police', 'NOUN', 'NNS'), ('custody', 'NOUN', 'NN'), ('times', 'NOUN', 'NNS'), ('1970s', 'NOUN', 'NNS'), ('life', 'NOUN', 'NN'), ('Kentucky', 'PROPN', 'NNP')]\n",
      "[('His', 'PRON', 'PRP$'), ('health', 'NOUN', 'NN'), ('stroke', 'NOUN', 'NN'), ('year', 'NOUN', 'NN'), ('he', 'PRON', 'PRP'), ('difficulty', 'NOUN', 'NN')]\n"
     ]
    }
   ],
   "source": [
    "accepted_pos = {'PROPN', 'PRON','NOUN'}\n",
    "doc = nlp(df['article'][3])\n",
    "for sent in doc.sents:\n",
    "    print([(token.text, token.pos_, token.tag_) for token in sent if token.pos_ in accepted_pos])"
   ]
  },
  {
   "cell_type": "code",
   "execution_count": 34,
   "id": "maritime-russell",
   "metadata": {},
   "outputs": [
    {
     "name": "stdout",
     "output_type": "stream",
     "text": [
      "a secret life\n",
      "four decades\n",
      "66-year-old Clarence David Moore\n",
      "police\n",
      "The deputy\n",
      "who\n",
      "it\n",
      "a prank\n",
      "It\n",
      "Moore\n",
      "police custody\n",
      "the 1970s\n",
      "a quiet life\n",
      "Kentucky\n",
      "His health\n",
      "a stroke\n",
      "he\n",
      "difficulty\n"
     ]
    }
   ],
   "source": [
    "for chunk in doc.noun_chunks:\n",
    "    print(chunk)"
   ]
  },
  {
   "cell_type": "code",
   "execution_count": 35,
   "id": "ec5947da",
   "metadata": {},
   "outputs": [],
   "source": [
    "output = predictor.predict(\n",
    "    document=df['article'][3]\n",
    ")"
   ]
  },
  {
   "cell_type": "code",
   "execution_count": 36,
   "id": "collected-complexity",
   "metadata": {},
   "outputs": [
    {
     "data": {
      "text/plain": [
       "dict_keys(['top_spans', 'antecedent_indices', 'predicted_antecedents', 'document', 'clusters'])"
      ]
     },
     "execution_count": 36,
     "metadata": {},
     "output_type": "execute_result"
    }
   ],
   "source": [
    "output.keys()"
   ]
  },
  {
   "cell_type": "code",
   "execution_count": 37,
   "id": "3168cdf8",
   "metadata": {},
   "outputs": [
    {
     "data": {
      "text/plain": [
       "{'top_spans': [[0, 10],\n",
       "  [4, 4],\n",
       "  [5, 7],\n",
       "  [9, 10],\n",
       "  [12, 19],\n",
       "  [12, 23],\n",
       "  [12, 25],\n",
       "  [20, 20],\n",
       "  [21, 21],\n",
       "  [22, 23],\n",
       "  [25, 25],\n",
       "  [27, 30],\n",
       "  [32, 32],\n",
       "  [33, 33],\n",
       "  [34, 35],\n",
       "  [37, 37],\n",
       "  [39, 39],\n",
       "  [41, 41],\n",
       "  [42, 42],\n",
       "  [44, 45],\n",
       "  [49, 50],\n",
       "  [53, 53],\n",
       "  [55, 57],\n",
       "  [59, 59],\n",
       "  [61, 61],\n",
       "  [65, 65],\n",
       "  [67, 67],\n",
       "  [67, 68],\n",
       "  [72, 73],\n",
       "  [72, 76],\n",
       "  [74, 76],\n",
       "  [78, 78],\n",
       "  [79, 79]],\n",
       " 'antecedent_indices': [[0,\n",
       "   1,\n",
       "   2,\n",
       "   3,\n",
       "   4,\n",
       "   5,\n",
       "   6,\n",
       "   7,\n",
       "   8,\n",
       "   9,\n",
       "   10,\n",
       "   11,\n",
       "   12,\n",
       "   13,\n",
       "   14,\n",
       "   15,\n",
       "   16,\n",
       "   17,\n",
       "   18,\n",
       "   19,\n",
       "   20,\n",
       "   21,\n",
       "   22,\n",
       "   23,\n",
       "   24,\n",
       "   25,\n",
       "   26,\n",
       "   27,\n",
       "   28,\n",
       "   29,\n",
       "   30,\n",
       "   31,\n",
       "   32],\n",
       "  [0,\n",
       "   1,\n",
       "   2,\n",
       "   3,\n",
       "   4,\n",
       "   5,\n",
       "   6,\n",
       "   7,\n",
       "   8,\n",
       "   9,\n",
       "   10,\n",
       "   11,\n",
       "   12,\n",
       "   13,\n",
       "   14,\n",
       "   15,\n",
       "   16,\n",
       "   17,\n",
       "   18,\n",
       "   19,\n",
       "   20,\n",
       "   21,\n",
       "   22,\n",
       "   23,\n",
       "   24,\n",
       "   25,\n",
       "   26,\n",
       "   27,\n",
       "   28,\n",
       "   29,\n",
       "   30,\n",
       "   31,\n",
       "   32],\n",
       "  [0,\n",
       "   1,\n",
       "   2,\n",
       "   3,\n",
       "   4,\n",
       "   5,\n",
       "   6,\n",
       "   7,\n",
       "   8,\n",
       "   9,\n",
       "   10,\n",
       "   11,\n",
       "   12,\n",
       "   13,\n",
       "   14,\n",
       "   15,\n",
       "   16,\n",
       "   17,\n",
       "   18,\n",
       "   19,\n",
       "   20,\n",
       "   21,\n",
       "   22,\n",
       "   23,\n",
       "   24,\n",
       "   25,\n",
       "   26,\n",
       "   27,\n",
       "   28,\n",
       "   29,\n",
       "   30,\n",
       "   31,\n",
       "   32],\n",
       "  [0,\n",
       "   1,\n",
       "   2,\n",
       "   3,\n",
       "   4,\n",
       "   5,\n",
       "   6,\n",
       "   7,\n",
       "   8,\n",
       "   9,\n",
       "   10,\n",
       "   11,\n",
       "   12,\n",
       "   13,\n",
       "   14,\n",
       "   15,\n",
       "   16,\n",
       "   17,\n",
       "   18,\n",
       "   19,\n",
       "   20,\n",
       "   21,\n",
       "   22,\n",
       "   23,\n",
       "   24,\n",
       "   25,\n",
       "   26,\n",
       "   27,\n",
       "   28,\n",
       "   29,\n",
       "   30,\n",
       "   31,\n",
       "   32],\n",
       "  [0,\n",
       "   1,\n",
       "   2,\n",
       "   3,\n",
       "   4,\n",
       "   5,\n",
       "   6,\n",
       "   7,\n",
       "   8,\n",
       "   9,\n",
       "   10,\n",
       "   11,\n",
       "   12,\n",
       "   13,\n",
       "   14,\n",
       "   15,\n",
       "   16,\n",
       "   17,\n",
       "   18,\n",
       "   19,\n",
       "   20,\n",
       "   21,\n",
       "   22,\n",
       "   23,\n",
       "   24,\n",
       "   25,\n",
       "   26,\n",
       "   27,\n",
       "   28,\n",
       "   29,\n",
       "   30,\n",
       "   31,\n",
       "   32],\n",
       "  [0,\n",
       "   1,\n",
       "   2,\n",
       "   3,\n",
       "   4,\n",
       "   5,\n",
       "   6,\n",
       "   7,\n",
       "   8,\n",
       "   9,\n",
       "   10,\n",
       "   11,\n",
       "   12,\n",
       "   13,\n",
       "   14,\n",
       "   15,\n",
       "   16,\n",
       "   17,\n",
       "   18,\n",
       "   19,\n",
       "   20,\n",
       "   21,\n",
       "   22,\n",
       "   23,\n",
       "   24,\n",
       "   25,\n",
       "   26,\n",
       "   27,\n",
       "   28,\n",
       "   29,\n",
       "   30,\n",
       "   31,\n",
       "   32],\n",
       "  [0,\n",
       "   1,\n",
       "   2,\n",
       "   3,\n",
       "   4,\n",
       "   5,\n",
       "   6,\n",
       "   7,\n",
       "   8,\n",
       "   9,\n",
       "   10,\n",
       "   11,\n",
       "   12,\n",
       "   13,\n",
       "   14,\n",
       "   15,\n",
       "   16,\n",
       "   17,\n",
       "   18,\n",
       "   19,\n",
       "   20,\n",
       "   21,\n",
       "   22,\n",
       "   23,\n",
       "   24,\n",
       "   25,\n",
       "   26,\n",
       "   27,\n",
       "   28,\n",
       "   29,\n",
       "   30,\n",
       "   31,\n",
       "   32],\n",
       "  [0,\n",
       "   1,\n",
       "   2,\n",
       "   3,\n",
       "   4,\n",
       "   5,\n",
       "   6,\n",
       "   7,\n",
       "   8,\n",
       "   9,\n",
       "   10,\n",
       "   11,\n",
       "   12,\n",
       "   13,\n",
       "   14,\n",
       "   15,\n",
       "   16,\n",
       "   17,\n",
       "   18,\n",
       "   19,\n",
       "   20,\n",
       "   21,\n",
       "   22,\n",
       "   23,\n",
       "   24,\n",
       "   25,\n",
       "   26,\n",
       "   27,\n",
       "   28,\n",
       "   29,\n",
       "   30,\n",
       "   31,\n",
       "   32],\n",
       "  [0,\n",
       "   1,\n",
       "   2,\n",
       "   3,\n",
       "   4,\n",
       "   5,\n",
       "   6,\n",
       "   7,\n",
       "   8,\n",
       "   9,\n",
       "   10,\n",
       "   11,\n",
       "   12,\n",
       "   13,\n",
       "   14,\n",
       "   15,\n",
       "   16,\n",
       "   17,\n",
       "   18,\n",
       "   19,\n",
       "   20,\n",
       "   21,\n",
       "   22,\n",
       "   23,\n",
       "   24,\n",
       "   25,\n",
       "   26,\n",
       "   27,\n",
       "   28,\n",
       "   29,\n",
       "   30,\n",
       "   31,\n",
       "   32],\n",
       "  [0,\n",
       "   1,\n",
       "   2,\n",
       "   3,\n",
       "   4,\n",
       "   5,\n",
       "   6,\n",
       "   7,\n",
       "   8,\n",
       "   9,\n",
       "   10,\n",
       "   11,\n",
       "   12,\n",
       "   13,\n",
       "   14,\n",
       "   15,\n",
       "   16,\n",
       "   17,\n",
       "   18,\n",
       "   19,\n",
       "   20,\n",
       "   21,\n",
       "   22,\n",
       "   23,\n",
       "   24,\n",
       "   25,\n",
       "   26,\n",
       "   27,\n",
       "   28,\n",
       "   29,\n",
       "   30,\n",
       "   31,\n",
       "   32],\n",
       "  [0,\n",
       "   1,\n",
       "   2,\n",
       "   3,\n",
       "   4,\n",
       "   5,\n",
       "   6,\n",
       "   7,\n",
       "   8,\n",
       "   9,\n",
       "   10,\n",
       "   11,\n",
       "   12,\n",
       "   13,\n",
       "   14,\n",
       "   15,\n",
       "   16,\n",
       "   17,\n",
       "   18,\n",
       "   19,\n",
       "   20,\n",
       "   21,\n",
       "   22,\n",
       "   23,\n",
       "   24,\n",
       "   25,\n",
       "   26,\n",
       "   27,\n",
       "   28,\n",
       "   29,\n",
       "   30,\n",
       "   31,\n",
       "   32],\n",
       "  [0,\n",
       "   1,\n",
       "   2,\n",
       "   3,\n",
       "   4,\n",
       "   5,\n",
       "   6,\n",
       "   7,\n",
       "   8,\n",
       "   9,\n",
       "   10,\n",
       "   11,\n",
       "   12,\n",
       "   13,\n",
       "   14,\n",
       "   15,\n",
       "   16,\n",
       "   17,\n",
       "   18,\n",
       "   19,\n",
       "   20,\n",
       "   21,\n",
       "   22,\n",
       "   23,\n",
       "   24,\n",
       "   25,\n",
       "   26,\n",
       "   27,\n",
       "   28,\n",
       "   29,\n",
       "   30,\n",
       "   31,\n",
       "   32],\n",
       "  [0,\n",
       "   1,\n",
       "   2,\n",
       "   3,\n",
       "   4,\n",
       "   5,\n",
       "   6,\n",
       "   7,\n",
       "   8,\n",
       "   9,\n",
       "   10,\n",
       "   11,\n",
       "   12,\n",
       "   13,\n",
       "   14,\n",
       "   15,\n",
       "   16,\n",
       "   17,\n",
       "   18,\n",
       "   19,\n",
       "   20,\n",
       "   21,\n",
       "   22,\n",
       "   23,\n",
       "   24,\n",
       "   25,\n",
       "   26,\n",
       "   27,\n",
       "   28,\n",
       "   29,\n",
       "   30,\n",
       "   31,\n",
       "   32],\n",
       "  [0,\n",
       "   1,\n",
       "   2,\n",
       "   3,\n",
       "   4,\n",
       "   5,\n",
       "   6,\n",
       "   7,\n",
       "   8,\n",
       "   9,\n",
       "   10,\n",
       "   11,\n",
       "   12,\n",
       "   13,\n",
       "   14,\n",
       "   15,\n",
       "   16,\n",
       "   17,\n",
       "   18,\n",
       "   19,\n",
       "   20,\n",
       "   21,\n",
       "   22,\n",
       "   23,\n",
       "   24,\n",
       "   25,\n",
       "   26,\n",
       "   27,\n",
       "   28,\n",
       "   29,\n",
       "   30,\n",
       "   31,\n",
       "   32],\n",
       "  [0,\n",
       "   1,\n",
       "   2,\n",
       "   3,\n",
       "   4,\n",
       "   5,\n",
       "   6,\n",
       "   7,\n",
       "   8,\n",
       "   9,\n",
       "   10,\n",
       "   11,\n",
       "   12,\n",
       "   13,\n",
       "   14,\n",
       "   15,\n",
       "   16,\n",
       "   17,\n",
       "   18,\n",
       "   19,\n",
       "   20,\n",
       "   21,\n",
       "   22,\n",
       "   23,\n",
       "   24,\n",
       "   25,\n",
       "   26,\n",
       "   27,\n",
       "   28,\n",
       "   29,\n",
       "   30,\n",
       "   31,\n",
       "   32],\n",
       "  [0,\n",
       "   1,\n",
       "   2,\n",
       "   3,\n",
       "   4,\n",
       "   5,\n",
       "   6,\n",
       "   7,\n",
       "   8,\n",
       "   9,\n",
       "   10,\n",
       "   11,\n",
       "   12,\n",
       "   13,\n",
       "   14,\n",
       "   15,\n",
       "   16,\n",
       "   17,\n",
       "   18,\n",
       "   19,\n",
       "   20,\n",
       "   21,\n",
       "   22,\n",
       "   23,\n",
       "   24,\n",
       "   25,\n",
       "   26,\n",
       "   27,\n",
       "   28,\n",
       "   29,\n",
       "   30,\n",
       "   31,\n",
       "   32],\n",
       "  [0,\n",
       "   1,\n",
       "   2,\n",
       "   3,\n",
       "   4,\n",
       "   5,\n",
       "   6,\n",
       "   7,\n",
       "   8,\n",
       "   9,\n",
       "   10,\n",
       "   11,\n",
       "   12,\n",
       "   13,\n",
       "   14,\n",
       "   15,\n",
       "   16,\n",
       "   17,\n",
       "   18,\n",
       "   19,\n",
       "   20,\n",
       "   21,\n",
       "   22,\n",
       "   23,\n",
       "   24,\n",
       "   25,\n",
       "   26,\n",
       "   27,\n",
       "   28,\n",
       "   29,\n",
       "   30,\n",
       "   31,\n",
       "   32],\n",
       "  [0,\n",
       "   1,\n",
       "   2,\n",
       "   3,\n",
       "   4,\n",
       "   5,\n",
       "   6,\n",
       "   7,\n",
       "   8,\n",
       "   9,\n",
       "   10,\n",
       "   11,\n",
       "   12,\n",
       "   13,\n",
       "   14,\n",
       "   15,\n",
       "   16,\n",
       "   17,\n",
       "   18,\n",
       "   19,\n",
       "   20,\n",
       "   21,\n",
       "   22,\n",
       "   23,\n",
       "   24,\n",
       "   25,\n",
       "   26,\n",
       "   27,\n",
       "   28,\n",
       "   29,\n",
       "   30,\n",
       "   31,\n",
       "   32],\n",
       "  [0,\n",
       "   1,\n",
       "   2,\n",
       "   3,\n",
       "   4,\n",
       "   5,\n",
       "   6,\n",
       "   7,\n",
       "   8,\n",
       "   9,\n",
       "   10,\n",
       "   11,\n",
       "   12,\n",
       "   13,\n",
       "   14,\n",
       "   15,\n",
       "   16,\n",
       "   17,\n",
       "   18,\n",
       "   19,\n",
       "   20,\n",
       "   21,\n",
       "   22,\n",
       "   23,\n",
       "   24,\n",
       "   25,\n",
       "   26,\n",
       "   27,\n",
       "   28,\n",
       "   29,\n",
       "   30,\n",
       "   31,\n",
       "   32],\n",
       "  [0,\n",
       "   1,\n",
       "   2,\n",
       "   3,\n",
       "   4,\n",
       "   5,\n",
       "   6,\n",
       "   7,\n",
       "   8,\n",
       "   9,\n",
       "   10,\n",
       "   11,\n",
       "   12,\n",
       "   13,\n",
       "   14,\n",
       "   15,\n",
       "   16,\n",
       "   17,\n",
       "   18,\n",
       "   19,\n",
       "   20,\n",
       "   21,\n",
       "   22,\n",
       "   23,\n",
       "   24,\n",
       "   25,\n",
       "   26,\n",
       "   27,\n",
       "   28,\n",
       "   29,\n",
       "   30,\n",
       "   31,\n",
       "   32],\n",
       "  [0,\n",
       "   1,\n",
       "   2,\n",
       "   3,\n",
       "   4,\n",
       "   5,\n",
       "   6,\n",
       "   7,\n",
       "   8,\n",
       "   9,\n",
       "   10,\n",
       "   11,\n",
       "   12,\n",
       "   13,\n",
       "   14,\n",
       "   15,\n",
       "   16,\n",
       "   17,\n",
       "   18,\n",
       "   19,\n",
       "   20,\n",
       "   21,\n",
       "   22,\n",
       "   23,\n",
       "   24,\n",
       "   25,\n",
       "   26,\n",
       "   27,\n",
       "   28,\n",
       "   29,\n",
       "   30,\n",
       "   31,\n",
       "   32],\n",
       "  [0,\n",
       "   1,\n",
       "   2,\n",
       "   3,\n",
       "   4,\n",
       "   5,\n",
       "   6,\n",
       "   7,\n",
       "   8,\n",
       "   9,\n",
       "   10,\n",
       "   11,\n",
       "   12,\n",
       "   13,\n",
       "   14,\n",
       "   15,\n",
       "   16,\n",
       "   17,\n",
       "   18,\n",
       "   19,\n",
       "   20,\n",
       "   21,\n",
       "   22,\n",
       "   23,\n",
       "   24,\n",
       "   25,\n",
       "   26,\n",
       "   27,\n",
       "   28,\n",
       "   29,\n",
       "   30,\n",
       "   31,\n",
       "   32],\n",
       "  [0,\n",
       "   1,\n",
       "   2,\n",
       "   3,\n",
       "   4,\n",
       "   5,\n",
       "   6,\n",
       "   7,\n",
       "   8,\n",
       "   9,\n",
       "   10,\n",
       "   11,\n",
       "   12,\n",
       "   13,\n",
       "   14,\n",
       "   15,\n",
       "   16,\n",
       "   17,\n",
       "   18,\n",
       "   19,\n",
       "   20,\n",
       "   21,\n",
       "   22,\n",
       "   23,\n",
       "   24,\n",
       "   25,\n",
       "   26,\n",
       "   27,\n",
       "   28,\n",
       "   29,\n",
       "   30,\n",
       "   31,\n",
       "   32],\n",
       "  [0,\n",
       "   1,\n",
       "   2,\n",
       "   3,\n",
       "   4,\n",
       "   5,\n",
       "   6,\n",
       "   7,\n",
       "   8,\n",
       "   9,\n",
       "   10,\n",
       "   11,\n",
       "   12,\n",
       "   13,\n",
       "   14,\n",
       "   15,\n",
       "   16,\n",
       "   17,\n",
       "   18,\n",
       "   19,\n",
       "   20,\n",
       "   21,\n",
       "   22,\n",
       "   23,\n",
       "   24,\n",
       "   25,\n",
       "   26,\n",
       "   27,\n",
       "   28,\n",
       "   29,\n",
       "   30,\n",
       "   31,\n",
       "   32],\n",
       "  [0,\n",
       "   1,\n",
       "   2,\n",
       "   3,\n",
       "   4,\n",
       "   5,\n",
       "   6,\n",
       "   7,\n",
       "   8,\n",
       "   9,\n",
       "   10,\n",
       "   11,\n",
       "   12,\n",
       "   13,\n",
       "   14,\n",
       "   15,\n",
       "   16,\n",
       "   17,\n",
       "   18,\n",
       "   19,\n",
       "   20,\n",
       "   21,\n",
       "   22,\n",
       "   23,\n",
       "   24,\n",
       "   25,\n",
       "   26,\n",
       "   27,\n",
       "   28,\n",
       "   29,\n",
       "   30,\n",
       "   31,\n",
       "   32],\n",
       "  [0,\n",
       "   1,\n",
       "   2,\n",
       "   3,\n",
       "   4,\n",
       "   5,\n",
       "   6,\n",
       "   7,\n",
       "   8,\n",
       "   9,\n",
       "   10,\n",
       "   11,\n",
       "   12,\n",
       "   13,\n",
       "   14,\n",
       "   15,\n",
       "   16,\n",
       "   17,\n",
       "   18,\n",
       "   19,\n",
       "   20,\n",
       "   21,\n",
       "   22,\n",
       "   23,\n",
       "   24,\n",
       "   25,\n",
       "   26,\n",
       "   27,\n",
       "   28,\n",
       "   29,\n",
       "   30,\n",
       "   31,\n",
       "   32],\n",
       "  [0,\n",
       "   1,\n",
       "   2,\n",
       "   3,\n",
       "   4,\n",
       "   5,\n",
       "   6,\n",
       "   7,\n",
       "   8,\n",
       "   9,\n",
       "   10,\n",
       "   11,\n",
       "   12,\n",
       "   13,\n",
       "   14,\n",
       "   15,\n",
       "   16,\n",
       "   17,\n",
       "   18,\n",
       "   19,\n",
       "   20,\n",
       "   21,\n",
       "   22,\n",
       "   23,\n",
       "   24,\n",
       "   25,\n",
       "   26,\n",
       "   27,\n",
       "   28,\n",
       "   29,\n",
       "   30,\n",
       "   31,\n",
       "   32],\n",
       "  [0,\n",
       "   1,\n",
       "   2,\n",
       "   3,\n",
       "   4,\n",
       "   5,\n",
       "   6,\n",
       "   7,\n",
       "   8,\n",
       "   9,\n",
       "   10,\n",
       "   11,\n",
       "   12,\n",
       "   13,\n",
       "   14,\n",
       "   15,\n",
       "   16,\n",
       "   17,\n",
       "   18,\n",
       "   19,\n",
       "   20,\n",
       "   21,\n",
       "   22,\n",
       "   23,\n",
       "   24,\n",
       "   25,\n",
       "   26,\n",
       "   27,\n",
       "   28,\n",
       "   29,\n",
       "   30,\n",
       "   31,\n",
       "   32],\n",
       "  [0,\n",
       "   1,\n",
       "   2,\n",
       "   3,\n",
       "   4,\n",
       "   5,\n",
       "   6,\n",
       "   7,\n",
       "   8,\n",
       "   9,\n",
       "   10,\n",
       "   11,\n",
       "   12,\n",
       "   13,\n",
       "   14,\n",
       "   15,\n",
       "   16,\n",
       "   17,\n",
       "   18,\n",
       "   19,\n",
       "   20,\n",
       "   21,\n",
       "   22,\n",
       "   23,\n",
       "   24,\n",
       "   25,\n",
       "   26,\n",
       "   27,\n",
       "   28,\n",
       "   29,\n",
       "   30,\n",
       "   31,\n",
       "   32],\n",
       "  [0,\n",
       "   1,\n",
       "   2,\n",
       "   3,\n",
       "   4,\n",
       "   5,\n",
       "   6,\n",
       "   7,\n",
       "   8,\n",
       "   9,\n",
       "   10,\n",
       "   11,\n",
       "   12,\n",
       "   13,\n",
       "   14,\n",
       "   15,\n",
       "   16,\n",
       "   17,\n",
       "   18,\n",
       "   19,\n",
       "   20,\n",
       "   21,\n",
       "   22,\n",
       "   23,\n",
       "   24,\n",
       "   25,\n",
       "   26,\n",
       "   27,\n",
       "   28,\n",
       "   29,\n",
       "   30,\n",
       "   31,\n",
       "   32],\n",
       "  [0,\n",
       "   1,\n",
       "   2,\n",
       "   3,\n",
       "   4,\n",
       "   5,\n",
       "   6,\n",
       "   7,\n",
       "   8,\n",
       "   9,\n",
       "   10,\n",
       "   11,\n",
       "   12,\n",
       "   13,\n",
       "   14,\n",
       "   15,\n",
       "   16,\n",
       "   17,\n",
       "   18,\n",
       "   19,\n",
       "   20,\n",
       "   21,\n",
       "   22,\n",
       "   23,\n",
       "   24,\n",
       "   25,\n",
       "   26,\n",
       "   27,\n",
       "   28,\n",
       "   29,\n",
       "   30,\n",
       "   31,\n",
       "   32],\n",
       "  [0,\n",
       "   1,\n",
       "   2,\n",
       "   3,\n",
       "   4,\n",
       "   5,\n",
       "   6,\n",
       "   7,\n",
       "   8,\n",
       "   9,\n",
       "   10,\n",
       "   11,\n",
       "   12,\n",
       "   13,\n",
       "   14,\n",
       "   15,\n",
       "   16,\n",
       "   17,\n",
       "   18,\n",
       "   19,\n",
       "   20,\n",
       "   21,\n",
       "   22,\n",
       "   23,\n",
       "   24,\n",
       "   25,\n",
       "   26,\n",
       "   27,\n",
       "   28,\n",
       "   29,\n",
       "   30,\n",
       "   31,\n",
       "   32],\n",
       "  [0,\n",
       "   1,\n",
       "   2,\n",
       "   3,\n",
       "   4,\n",
       "   5,\n",
       "   6,\n",
       "   7,\n",
       "   8,\n",
       "   9,\n",
       "   10,\n",
       "   11,\n",
       "   12,\n",
       "   13,\n",
       "   14,\n",
       "   15,\n",
       "   16,\n",
       "   17,\n",
       "   18,\n",
       "   19,\n",
       "   20,\n",
       "   21,\n",
       "   22,\n",
       "   23,\n",
       "   24,\n",
       "   25,\n",
       "   26,\n",
       "   27,\n",
       "   28,\n",
       "   29,\n",
       "   30,\n",
       "   31,\n",
       "   32]],\n",
       " 'predicted_antecedents': [-1,\n",
       "  -1,\n",
       "  -1,\n",
       "  -1,\n",
       "  -1,\n",
       "  -1,\n",
       "  -1,\n",
       "  -1,\n",
       "  -1,\n",
       "  -1,\n",
       "  -1,\n",
       "  -1,\n",
       "  7,\n",
       "  -1,\n",
       "  -1,\n",
       "  12,\n",
       "  -1,\n",
       "  4,\n",
       "  -1,\n",
       "  -1,\n",
       "  -1,\n",
       "  -1,\n",
       "  -1,\n",
       "  -1,\n",
       "  -1,\n",
       "  -1,\n",
       "  17,\n",
       "  -1,\n",
       "  -1,\n",
       "  -1,\n",
       "  -1,\n",
       "  26,\n",
       "  -1],\n",
       " 'document': ['Frail',\n",
       "  'and',\n",
       "  'tired',\n",
       "  'of',\n",
       "  'leading',\n",
       "  'a',\n",
       "  'secret',\n",
       "  'life',\n",
       "  'for',\n",
       "  'four',\n",
       "  'decades',\n",
       "  ',',\n",
       "  '66',\n",
       "  '-',\n",
       "  'year',\n",
       "  '-',\n",
       "  'old',\n",
       "  'Clarence',\n",
       "  'David',\n",
       "  'Moore',\n",
       "  'called',\n",
       "  'police',\n",
       "  'this',\n",
       "  'week',\n",
       "  'to',\n",
       "  'surrender',\n",
       "  '.',\n",
       "  'The',\n",
       "  'deputy',\n",
       "  'who',\n",
       "  'answered',\n",
       "  'thought',\n",
       "  'it',\n",
       "  'was',\n",
       "  'a',\n",
       "  'prank',\n",
       "  '.',\n",
       "  'It',\n",
       "  'was',\n",
       "  \"n't\",\n",
       "  '.',\n",
       "  'Moore',\n",
       "  'escaped',\n",
       "  'from',\n",
       "  'police',\n",
       "  'custody',\n",
       "  'three',\n",
       "  'times',\n",
       "  'during',\n",
       "  'the',\n",
       "  '1970s',\n",
       "  'and',\n",
       "  'eventually',\n",
       "  'settled',\n",
       "  'into',\n",
       "  'a',\n",
       "  'quiet',\n",
       "  'life',\n",
       "  ',',\n",
       "  'living',\n",
       "  'in',\n",
       "  'Kentucky',\n",
       "  'since',\n",
       "  'at',\n",
       "  'least',\n",
       "  '2009',\n",
       "  '.',\n",
       "  'His',\n",
       "  'health',\n",
       "  'is',\n",
       "  'poor',\n",
       "  'from',\n",
       "  'a',\n",
       "  'stroke',\n",
       "  'late',\n",
       "  'last',\n",
       "  'year',\n",
       "  'and',\n",
       "  'he',\n",
       "  'has',\n",
       "  'difficulty',\n",
       "  'speaking',\n",
       "  '.'],\n",
       " 'clusters': [[[20, 20], [32, 32], [37, 37]],\n",
       "  [[12, 19], [41, 41], [67, 67], [78, 78]]]}"
      ]
     },
     "execution_count": 37,
     "metadata": {},
     "output_type": "execute_result"
    }
   ],
   "source": [
    "output"
   ]
  },
  {
   "cell_type": "markdown",
   "id": "temporal-lighter",
   "metadata": {},
   "source": [
    "Keys of interest included in model output:\n",
    "\n",
    "| Name | Info |\n",
    "| :- | :- | \n",
    "|top_spans|spans that survived the pruning stage\n",
    "|predicted_antecedents|predicted antecedent for a given span in 'top_spans'\n",
    "|document|tokens\n",
    "|clusters|coreference chains or clusters\n",
    "\n",
    "Check the AllenNLP [documentation](https://docs.allennlp.org/models/main/models/coref/models/coref/#forward.returns) for more information."
   ]
  },
  {
   "cell_type": "markdown",
   "id": "apparent-vessel",
   "metadata": {},
   "source": [
    "What clusters did the model find?"
   ]
  },
  {
   "cell_type": "code",
   "execution_count": 38,
   "id": "b862227a",
   "metadata": {},
   "outputs": [
    {
     "name": "stdout",
     "output_type": "stream",
     "text": [
      "*****\n",
      "['called']\n",
      "['it']\n",
      "['It']\n",
      "*****\n",
      "['66', '-', 'year', '-', 'old', 'Clarence', 'David', 'Moore']\n",
      "['Moore']\n",
      "['His']\n",
      "['he']\n"
     ]
    }
   ],
   "source": [
    "for cluster in output['clusters']:\n",
    "    print('*****')\n",
    "    for span in cluster:\n",
    "        print(output['document'][span[0]:span[1]+1])"
   ]
  },
  {
   "cell_type": "code",
   "execution_count": 39,
   "id": "7459f002",
   "metadata": {},
   "outputs": [
    {
     "data": {
      "text/plain": [
       "\"Frail and tired of leading a secret life for four decades, 66-year-old Clarence David Moore called police this week to surrender. The deputy who answered thought it was a prank. It wasn't. Moore escaped from police custody three times during the 1970s and eventually settled into a quiet life, living in Kentucky since at least 2009. His health is poor from a stroke late last year and he has difficulty speaking.\""
      ]
     },
     "execution_count": 39,
     "metadata": {},
     "output_type": "execute_result"
    }
   ],
   "source": [
    "df['article'][3]"
   ]
  },
  {
   "cell_type": "markdown",
   "id": "a5e2a8cf",
   "metadata": {},
   "source": [
    "What would the text look like if we replaced all mentions of the same entity with its original antecedent?"
   ]
  },
  {
   "cell_type": "code",
   "execution_count": 40,
   "id": "accessible-vegetarian",
   "metadata": {},
   "outputs": [
    {
     "name": "stdout",
     "output_type": "stream",
     "text": [
      "*****\n",
      "Frail and tired of leading a secret life for four decades , 66 - year - old Clarence David Moore called police this week to surrender . The deputy who answered thought called was a prank . called was n't . Moore escaped from police custody three times during the 1970s and eventually settled into a quiet life , living in Kentucky since at least 2009 . His health is poor from a stroke late last year and he has difficulty speaking .\n",
      "*****\n",
      "Frail and tired of leading a secret life for four decades , 66 - year - old Clarence David Moore        called police this week to surrender . The deputy who answered thought it was a prank . It was n't . 66 - year - old Clarence David Moore escaped from police custody three times during the 1970s and eventually settled into a quiet life , living in Kentucky since at least 2009 . 66 - year - old Clarence David Moore health is poor from a stroke late last year and 66 - year - old Clarence David Moore has difficulty speaking .\n"
     ]
    }
   ],
   "source": [
    "for cluster in output['clusters']:\n",
    "    text = output['document'].copy()\n",
    "    delta = 0\n",
    "    replace_text = text[cluster[0][0]:cluster[0][1]+1]\n",
    "    for span in cluster:\n",
    "        text[span[0]] = ' '.join(replace_text)\n",
    "        text[span[0]+1:span[1]+1] = [''] * (span[1] - span[0])\n",
    "    print('*****')\n",
    "    print(' '.join(text))"
   ]
  },
  {
   "cell_type": "markdown",
   "id": "2d41e6ff",
   "metadata": {},
   "source": [
    "### Exercise\n",
    "Run the coreference resolution and re-run your NER analysis assuming all mentions of a cluster fall under the same discourse entity. (The example article above would have (4) counts of Clarence David Moore instead of (1) count of Clarence David Moore and (1) count of Moore.)\n",
    "\n",
    "Depending on the size of your EC2 instance, this model can be quite slow to run. If that's the case, pick a small sample of articles to play with.\n",
    "\n",
    "Are you seeing any new patterns? How about numbers of entities and types of entities? "
   ]
  },
  {
   "cell_type": "code",
   "execution_count": null,
   "id": "a1357ea2",
   "metadata": {},
   "outputs": [],
   "source": []
  },
  {
   "cell_type": "markdown",
   "id": "ee267316",
   "metadata": {},
   "source": [
    "### Challenge"
   ]
  },
  {
   "cell_type": "markdown",
   "id": "d8d9e563",
   "metadata": {},
   "source": [
    "If you have time, you can try your hand at creating a graph using something like `networkx`, connecting entities by co-occurrence."
   ]
  },
  {
   "cell_type": "code",
   "execution_count": null,
   "id": "3d35a675",
   "metadata": {},
   "outputs": [],
   "source": [
    "!{sys.executable} -m pip install networkx"
   ]
  },
  {
   "cell_type": "code",
   "execution_count": null,
   "id": "bba83e90",
   "metadata": {},
   "outputs": [],
   "source": [
    "import networkx as nx\n",
    "\n",
    "G = nx.Graph()\n",
    "\n",
    "# Add nodes/edges from entity co-occurrences"
   ]
  },
  {
   "cell_type": "markdown",
   "id": "79e65718",
   "metadata": {},
   "source": [
    "### Bonus\n",
    "\n",
    "spaCy includes support for [creating your own knowledge base and following entity linking](https://spacy.io/usage/linguistic-features#entity-linking) based on a given (or trained) database. A common approach would be to use Wikipedia data for a generic model, but you can add your own unique entities tailored to your use case. For this exercise, try your hand at hard-coding a few entities using spaCy's entity linking feature."
   ]
  },
  {
   "cell_type": "code",
   "execution_count": null,
   "id": "bd8f3517",
   "metadata": {},
   "outputs": [],
   "source": []
  },
  {
   "cell_type": "markdown",
   "id": "35bee05d",
   "metadata": {},
   "source": [
    "### Final Notes"
   ]
  },
  {
   "cell_type": "markdown",
   "id": "17abf7f6",
   "metadata": {},
   "source": [
    "You might hear `neuralcoref` mentioned as an OTS coreference model, accessible via a pipeline extension for spaCy. We opted not to use it here because it has specific constraints brought about by versioning issues (requires spaCy 2 and python 3.7 or lower). That being said, if you have a flexible dev environment, it can be useful. More information on the wrapped coreference resolution model is available [here](https://spacy.io/universe/project/neuralcoref) and [here](https://github.com/huggingface/neuralcoref). Sample code is available below.\n",
    "\n",
    "You can also check out their demo visualizer [here](https://huggingface.co/coref/).\n",
    "\n",
    "*Note: It looks like [spaCy developers are actively working](https://github.com/explosion/spaCy/pull/7264) on incorporating a native coreference module into spaCy 3.*\n"
   ]
  },
  {
   "cell_type": "code",
   "execution_count": null,
   "id": "d983df5e",
   "metadata": {},
   "outputs": [],
   "source": [
    "!{sys.executable} -m pip install neuralcoref"
   ]
  },
  {
   "cell_type": "code",
   "execution_count": null,
   "id": "b4322507",
   "metadata": {},
   "outputs": [],
   "source": [
    "import neuralcoref\n",
    "\n",
    "# Add the neuralcoref module to the existing spaCy model -> only needs to be done once\n",
    "neuralcoref.add_to_pipe(nlp)"
   ]
  },
  {
   "cell_type": "code",
   "execution_count": null,
   "id": "754a42da",
   "metadata": {},
   "outputs": [],
   "source": [
    "doc = nlp(df['article'][3])"
   ]
  },
  {
   "cell_type": "code",
   "execution_count": null,
   "id": "7edde838",
   "metadata": {},
   "outputs": [],
   "source": [
    "doc._.has_coref"
   ]
  },
  {
   "cell_type": "code",
   "execution_count": null,
   "id": "55cdb1b4",
   "metadata": {},
   "outputs": [],
   "source": [
    "doc._.coref_clusters"
   ]
  },
  {
   "cell_type": "code",
   "execution_count": null,
   "id": "574e0ad1",
   "metadata": {},
   "outputs": [],
   "source": [
    "doc._.coref_resolved"
   ]
  }
 ],
 "metadata": {
  "kernelspec": {
   "display_name": "Python 3 (ipykernel)",
   "language": "python",
   "name": "python3"
  },
  "language_info": {
   "codemirror_mode": {
    "name": "ipython",
    "version": 3
   },
   "file_extension": ".py",
   "mimetype": "text/x-python",
   "name": "python",
   "nbconvert_exporter": "python",
   "pygments_lexer": "ipython3",
   "version": "3.8.3"
  }
 },
 "nbformat": 4,
 "nbformat_minor": 5
}
