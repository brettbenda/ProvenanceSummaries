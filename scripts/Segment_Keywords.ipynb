{
 "cells": [
  {
   "cell_type": "code",
   "execution_count": 1,
   "id": "9a33c8c3",
   "metadata": {},
   "outputs": [],
   "source": [
    "### Import libraries\n",
    "import json\n",
    "import re\n",
    "import numpy as np\n",
    "import csv\n",
    "import nltk\n",
    "from nltk.stem import PorterStemmer\n",
    "from nltk.tokenize import word_tokenize\n",
    "from nltk.corpus import stopwords\n",
    "\n",
    "from sklearn.feature_extraction.text import TfidfTransformer\n",
    "from sklearn.feature_extraction.text import CountVectorizer\n",
    "from sklearn.pipeline import Pipeline"
   ]
  },
  {
   "cell_type": "code",
   "execution_count": 141,
   "id": "d6cc6227",
   "metadata": {},
   "outputs": [],
   "source": [
    "### Load data\n",
    "PID = 'p4'\n",
    "dataset = 3\n",
    "filename = 'wordsCSV/Dataset_' + str(dataset) + '/' + PID + '.csv'\n",
    "\n",
    "\n",
    "with open(filename, newline='') as f:\n",
    "    reader = csv.reader(f)\n",
    "    data = list(reader)\n",
    "if dataset == 1:\n",
    "    if PID == 'p1':\n",
    "        breakpoints = [60, 87, 160, 178, 199, 239, 309, 338, 367, 389, 438]\n",
    "    elif PID == 'p2':\n",
    "        breakpoints = [65, 108, 138, 167, 202, 225, 274, 294, 311, 356, 370]\n",
    "    elif PID == 'p3':\n",
    "        breakpoints = [85, 216, 245, 319, 357, 414, 517, 589, 638, 716, 817]\n",
    "    elif PID == 'p4':\n",
    "        breakpoints = [84, 137, 222, 290, 409, 484, 562, 658, 730, 781, 836]\n",
    "    elif PID == 'p5':\n",
    "        breakpoints = [26, 63, 133, 167, 196, 242, 288, 310, 343, 398, 448]\n",
    "    elif PID == 'p6':\n",
    "        breakpoints = [101, 147, 204, 334, 374, 431, 461, 503, 541, 600, 639]\n",
    "    elif PID == 'p7':\n",
    "        breakpoints = [69, 127, 220, 264, 307, 355, 412, 457, 528, 578, 613]\n",
    "    elif PID == 'p8':\n",
    "        breakpoints = [129, 250, 342, 405, 499, 594, 724, 842, 914, 989, 1117]\n",
    "if dataset == 2:\n",
    "    if PID == 'p1':\n",
    "        breakpoints = [25, 133, 173, 248, 293, 400, 443, 489, 541, 590, 654]\n",
    "    elif PID == 'p2':\n",
    "        breakpoints = [82, 151, 224, 253, 290, 327, 368, 419, 464, 519, 620]\n",
    "    elif PID == 'p3':\n",
    "        breakpoints = [37, 129, 247, 343, 462, 522, 628, 669, 833, 966, 1079]\n",
    "    elif PID == 'p4':\n",
    "        breakpoints = [53, 113, 221, 327, 392, 488, 537, 627, 708, 783, 860]\n",
    "    elif PID == 'p5':\n",
    "        breakpoints = [69, 257, 310, 434, 504, 585, 672, 760, 870, 933, 1016]\n",
    "    elif PID == 'p6':\n",
    "        breakpoints = [61, 127, 159, 200, 257, 311, 360, 378, 418, 506, 548]\n",
    "    elif PID == 'p7':\n",
    "        breakpoints = [41, 142, 229, 264, 318, 500, 582, 675, 732, 809, 887]\n",
    "    elif PID == 'p8':\n",
    "        breakpoints = [83, 171, 203, 275, 308, 365, 422, 452, 551, 576, 589]\n",
    "if dataset == 3:\n",
    "    if PID == 'p1':\n",
    "        breakpoints = [91, 176, 267, 294, 435, 488, 557, 579, 623, 662, 682]\n",
    "    elif PID == 'p2':\n",
    "        breakpoints = [115, 284, 451, 501, 541, 585, 665, 707, 751, 920, 1000]\n",
    "    elif PID == 'p3':\n",
    "        breakpoints = [108, 267, 384, 526, 739, 913, 1069, 1194, 1269, 1427, 1546]\n",
    "    elif PID == 'p4':\n",
    "        breakpoints = [160, 340, 405, 473, 545, 571, 593, 12466, 12508, 12549, 12635]\n",
    "    elif PID == 'p5':\n",
    "        breakpoints = [39, 151, 197, 236, 330, 399, 429, 474, 560, 576, 608]\n",
    "    elif PID == 'p6':\n",
    "        breakpoints = [275, 374, 627, 741, 901, 1036, 1400, 1936, 2156, 2368, 2842]\n",
    "    elif PID == 'p7':\n",
    "        breakpoints = [101, 176, 293, 377, 462, 570, 605, 689, 777, 838, 898]\n",
    "    elif PID == 'p8':\n",
    "        breakpoints = [71, 212, 316, 459, 539, 595, 671, 736, 763, 788, 808]"
   ]
  },
  {
   "cell_type": "code",
   "execution_count": 142,
   "id": "553f9b97",
   "metadata": {},
   "outputs": [
    {
     "name": "stdout",
     "output_type": "stream",
     "text": [
      "11\n"
     ]
    }
   ],
   "source": [
    "### Aggregate histograms\n",
    "for i in range(len(data)):\n",
    "    if i != 0:\n",
    "        for j in range(len(data[i])):\n",
    "            data[i][j] = float(data[i][j])\n",
    "\n",
    "aggregateHist = []\n",
    "currentDoc = 1\n",
    "for segment in breakpoints:\n",
    "    currentHist = data[currentDoc]\n",
    "    numDocs = 1\n",
    "    for docPos in range(currentDoc + 1, segment):\n",
    "        for word in range(len(data[docPos])):\n",
    "            currentHist[word] = float(currentHist[word]) + float(data[docPos][word])\n",
    "            numDocs += 1\n",
    "    # for wordPos in range(len(currentHist)):\n",
    "    #     currentHist[wordPos] = float(currentHist[wordPos]) / float(numDocs)\n",
    "    aggregateHist.append(currentHist)\n",
    "    currentDoc = segment\n",
    "print(len(aggregateHist))"
   ]
  },
  {
   "cell_type": "code",
   "execution_count": 143,
   "id": "67268e6f",
   "metadata": {},
   "outputs": [
    {
     "name": "stdout",
     "output_type": "stream",
     "text": [
      "[['elodis', 'kronos', 'gastech', 'pok', 'health', 'benzene', 'levels', 'government', 'water', 'contamination', 'years', '-', 'juliana', 'police', 'minister'], ['leader', 'gastech', 'kronos', 'government', 'pok', 'construction', 'abila', 'news', '11', 'karel', 'water', 'tethys', 'health', 'elodis', 'civil'], ['gastech', 'kronos', 'employees', 'pok', 'sanjorge', 'news', '-', 'abila', 'tethys', 'group', 'offices', 'meeting', 'president', 'environmental', 'sten'], ['gastech', 'kronos', '2014', 'a', 'pok', 'employees', 'tethys', 'sanjorge', 'news', '20', 'environmental', 'building', 'offices', 'answered', 'others'], ['gastech', '20', 'kronos', '2014', 'construction', 'january', 'building', 'tethys', 'emergency', 'news', 'employees', 'fire', 'modernization', 'itself', 'break'], ['kronos', 'bomb', 'pok', 'gastech', 'government', 'continue', 'tethys', 'abila', 'people', 'environmental', 'violence', '2014', 'protectors', 'international', 'headquarters'], ['kronos', 'gastech', 'sanjorge', 'kidnapping', 'international', 'president', 'government', 'protectors', 'sten', 'avila', 'rescue', 'tethys', 'employees', 'abila', '2014'], ['class', 'gastech', '20', 'police', '-', '2014', 'kronos', 'people', 'pok', '21', 'abila', 'january', 'kidnapping', 'voices', 'employees'], ['kronos', 'bombing', 'pok', 'gastech', 'abila', 'sanjorge', 'government', 'group', '-', 'contamination', 'police', 'today', 'elian', 'elodis', 'people'], ['karel', 'bombing', 'bomb', 'kronos', 'elian', 'death', 'pok', 'abila', 'police', 'died', 'gastech', 'year', 'his', 'force', 'prison'], ['fire', 'gastech', 'kronos', 'pok', 'dressed', 'witness', 'disappear', 'sanjorge', 'tethys', '2014', 'abila', '-', '20', 'news', 'government']]\n"
     ]
    }
   ],
   "source": [
    "### Identify top words\n",
    "topFivesIndices = []\n",
    "for i in range(len(aggregateHist)):\n",
    "    indexList = []\n",
    "    for j in range(0, 15):\n",
    "        aggregateHist[i][0] = 0\n",
    "        max_index = aggregateHist[i].index(max(aggregateHist[i]))\n",
    "        indexList.append(max_index)\n",
    "        aggregateHist[i][max_index] = 0\n",
    "    topFivesIndices.append(indexList)\n",
    "\n",
    "topFives = []\n",
    "for i in range(len(topFivesIndices)):\n",
    "    wordList = []\n",
    "    for j in range(len(topFivesIndices[i])):\n",
    "        wordList.append(data[0][topFivesIndices[i][j]])\n",
    "    topFives.append(wordList)\n",
    "print(topFives)"
   ]
  },
  {
   "cell_type": "code",
   "execution_count": 144,
   "id": "890a7a67",
   "metadata": {},
   "outputs": [
    {
     "name": "stdout",
     "output_type": "stream",
     "text": [
      "[['elodis', 'kronos', 'gastech', 'pok', 'health'], ['leader', 'gastech', 'kronos', 'government', 'pok'], ['gastech', 'kronos', 'employees', 'pok', 'sanjorge'], ['gastech', 'kronos', 'pok', 'employees', 'tethys'], ['gastech', 'kronos', 'construction', 'january', 'building'], ['kronos', 'bomb', 'pok', 'gastech', 'government'], ['kronos', 'gastech', 'sanjorge', 'kidnapping', 'international'], ['class', 'gastech', 'police', 'kronos', 'people'], ['kronos', 'bombing', 'pok', 'gastech', 'abila'], ['karel', 'bombing', 'kronos', 'elian', 'death'], ['fire', 'gastech', 'kronos', 'pok', 'dressed']]\n"
     ]
    }
   ],
   "source": [
    "### Remove non-words and stems\n",
    "# Remove words with non-alpha characters\n",
    "for i in range(len(topFives)):\n",
    "    for j in range(len(topFives[i])):\n",
    "        if topFives[i][j].isalpha() == False:\n",
    "            topFives[i][j] = \"\"\n",
    "        if len(topFives[i][j]) <= 2:\n",
    "            topFives[i][j] = \"\"\n",
    "        # if any(map(str.isdigit, topFives[i][j])) == True:\n",
    "        #     # print(topFives[i][j])\n",
    "        #     topFives[i][j] = \"\"\n",
    "        #     # print(topFives[i][j])\n",
    "\n",
    "# remove words with the same stem (e.g., textbook and textbooks)\n",
    "# remove stop words\\\n",
    "stop_words = set(stopwords.words('english'))\n",
    "ps = PorterStemmer()\n",
    "for i in range(len(topFives)):\n",
    "    for j in range(len(topFives[i])):\n",
    "        if topFives[i][j] in stop_words:\n",
    "            topFives[i][j] = \"\"\n",
    "        for k in range(len(topFives[i])):\n",
    "            if topFives[i][j] != topFives[i][k] and ps.stem(topFives[i][j]) == ps.stem(topFives[i][k]):\n",
    "                topFives[i][k] = \"\"\n",
    "\n",
    "for i in range(len(topFives)):\n",
    "    while \"\" in topFives[i]:\n",
    "        topFives[i].remove(\"\")\n",
    "\n",
    "topFivesOnly = []\n",
    "for i in range(len(topFives)):\n",
    "    topFivesOnly.append(topFives[i][0:5])\n",
    "print(topFivesOnly)"
   ]
  },
  {
   "cell_type": "code",
   "execution_count": 145,
   "id": "c164f29f",
   "metadata": {},
   "outputs": [],
   "source": [
    "outFilename = 'segKeys/Dataset_' + str(dataset) + '/' + PID + '.csv'\n",
    "\n",
    "with open(outFilename, 'w', newline='') as f:\n",
    "    writer = csv.writer(f)\n",
    "    writer.writerows(topFivesOnly)"
   ]
  },
  {
   "cell_type": "code",
   "execution_count": null,
   "id": "c124a973",
   "metadata": {},
   "outputs": [],
   "source": []
  }
 ],
 "metadata": {
  "kernelspec": {
   "display_name": "Python 3 (ipykernel)",
   "language": "python",
   "name": "python3"
  },
  "language_info": {
   "codemirror_mode": {
    "name": "ipython",
    "version": 3
   },
   "file_extension": ".py",
   "mimetype": "text/x-python",
   "name": "python",
   "nbconvert_exporter": "python",
   "pygments_lexer": "ipython3",
   "version": "3.8.3"
  }
 },
 "nbformat": 4,
 "nbformat_minor": 5
}
