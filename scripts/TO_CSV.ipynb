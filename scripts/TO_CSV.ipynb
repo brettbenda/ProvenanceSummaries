{
 "cells": [
  {
   "cell_type": "markdown",
   "id": "fdab0628",
   "metadata": {},
   "source": [
    "# TO_CSV - Converts interaction logs into frequency histograms"
   ]
  },
  {
   "cell_type": "markdown",
   "id": "fff138a3",
   "metadata": {},
   "source": [
    "* Runs on individual files\n",
    "* Pulls data from newData/Dataset_x\n",
    "* Outputs data to newCSV/Dataset_x"
   ]
  },
  {
   "cell_type": "code",
   "execution_count": 165,
   "id": "d30028f5",
   "metadata": {},
   "outputs": [],
   "source": [
    "### Import necessary modules\n",
    "import json\n",
    "import re\n",
    "import numpy as np\n",
    "import csv\n",
    "\n",
    "from sklearn.feature_extraction.text import TfidfTransformer\n",
    "from sklearn.feature_extraction.text import CountVectorizer\n",
    "from sklearn.pipeline import Pipeline"
   ]
  },
  {
   "cell_type": "code",
   "execution_count": 376,
   "id": "65e0f2fc",
   "metadata": {},
   "outputs": [],
   "source": [
    "### Select participant and dataset\n",
    "PID = 'p1'\n",
    "dataset = '1'\n",
    "\n",
    "filename = 'newData/Dataset_' + dataset + '/' + PID + '.json'\n",
    "tfidf = 'newData/tfidf_d' + dataset + '.json'\n",
    "\n",
    "keepWords = True"
   ]
  },
  {
   "cell_type": "code",
   "execution_count": 377,
   "id": "a74d8324",
   "metadata": {},
   "outputs": [],
   "source": [
    "### Open file and pre-process data\n",
    "f = open(tfidf)\n",
    "\n",
    "TFIDFVecs = json.load(f)\n",
    "\n",
    "histograms = TFIDFVecs['histograms']\n",
    "vocabulary = TFIDFVecs['vocabulary']\n",
    "titles = TFIDFVecs['titles']\n",
    "\n",
    "userData = json.load(open(filename))['data']\n",
    "\n",
    "docTypes = ['Doc_open', 'Reading']\n",
    "createTypes = ['Search', 'Highlight', 'Connection', 'Add Note']"
   ]
  },
  {
   "cell_type": "code",
   "execution_count": 378,
   "id": "a21734e1",
   "metadata": {},
   "outputs": [],
   "source": [
    "### Process logs\n",
    "outVecs = []\n",
    "outTimes = []\n",
    "numFailed = 0\n",
    "counter = 0\n",
    "for data in userData:\n",
    "    if data['InteractionType'] in docTypes:\n",
    "        docTitle = data['ID']\n",
    "        docTime = data['time']\n",
    "        if docTitle in titles:\n",
    "            docPos = titles.index(docTitle)\n",
    "            outVecs.append(histograms[docPos])\n",
    "            outTimes.append(docTime)\n",
    "        else:\n",
    "            numFailed = numFailed + 1\n",
    "    if data['InteractionType'] in createTypes:\n",
    "        string = data['Text']\n",
    "        docTime = data['time']\n",
    "        words = re.findall(r'\\w+', string)\n",
    "        tempVec = np.zeros(len(vocabulary), dtype = int)\n",
    "        changed = 0\n",
    "        numAdded = 0\n",
    "        posAdded = []\n",
    "        for word in words:\n",
    "            if word in vocabulary:\n",
    "                wordPos = vocabulary.index(word)\n",
    "                tempVec[wordPos] = tempVec[wordPos] + 1\n",
    "                numAdded = numAdded + 1\n",
    "                changed = 1\n",
    "                if wordPos not in posAdded:\n",
    "                    posAdded.append(wordPos)\n",
    "            if changed == 0:\n",
    "                numFailed = numFailed + 1\n",
    "            else:\n",
    "                for position in posAdded:\n",
    "                    tempVec[position] = tempVec[position] / numAdded\n",
    "                outVecs.append(tempVec.tolist())\n",
    "                outTimes.append(docTime)\n"
   ]
  },
  {
   "cell_type": "code",
   "execution_count": 379,
   "id": "106ed36a",
   "metadata": {},
   "outputs": [],
   "source": [
    "### Export data\n",
    "if keepWords == True:\n",
    "    outFilename = 'wordsCSV/Dataset_' + dataset + '/' + PID + '.csv'\n",
    "    f = open(outFilename, 'w', newline='')\n",
    "\n",
    "    writer = csv.writer(f)\n",
    "    header = vocabulary.copy()\n",
    "    header.insert(0, 'intTime')\n",
    "    writer.writerow(header)\n",
    "\n",
    "    for i in range(len(outVecs)):\n",
    "        row = outVecs[i].copy()\n",
    "        row.insert(0, outTimes[i])\n",
    "        writer.writerow(row)\n",
    "    f.close()\n",
    "else:\n",
    "    outFilename = 'newCSV/Dataset_' + dataset + '/' + PID + '.csv'\n",
    "    f = open(outFilename, 'w', newline='')\n",
    "\n",
    "    writer = csv.writer(f)\n",
    "    header = vocabulary.copy()\n",
    "    header.insert(0, 'intTime')\n",
    "    # writer.writerow(header)\n",
    "\n",
    "    for i in range(len(outVecs)):\n",
    "        row = outVecs[i].copy()\n",
    "        row.insert(0, outTimes[i])\n",
    "        writer.writerow(row)\n",
    "    f.close()"
   ]
  },
  {
   "cell_type": "code",
   "execution_count": null,
   "id": "1bf19d41",
   "metadata": {},
   "outputs": [],
   "source": []
  },
  {
   "cell_type": "code",
   "execution_count": null,
   "id": "1b118233",
   "metadata": {},
   "outputs": [],
   "source": []
  }
 ],
 "metadata": {
  "kernelspec": {
   "display_name": "Python 3 (ipykernel)",
   "language": "python",
   "name": "python3"
  },
  "language_info": {
   "codemirror_mode": {
    "name": "ipython",
    "version": 3
   },
   "file_extension": ".py",
   "mimetype": "text/x-python",
   "name": "python",
   "nbconvert_exporter": "python",
   "pygments_lexer": "ipython3",
   "version": "3.8.3"
  }
 },
 "nbformat": 4,
 "nbformat_minor": 5
}
